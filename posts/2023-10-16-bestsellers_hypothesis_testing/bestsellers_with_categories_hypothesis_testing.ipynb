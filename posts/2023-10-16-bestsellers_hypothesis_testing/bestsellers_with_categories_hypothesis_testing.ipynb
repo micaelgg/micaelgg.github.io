{
 "cells": [
  {
   "cell_type": "markdown",
   "metadata": {},
   "source": [
    "# Exploring Hypothesis Testing: A Series for Beginners"
   ]
  },
  {
   "cell_type": "markdown",
   "metadata": {},
   "source": [
    "## 2. Data Understanding\n"
   ]
  },
  {
   "cell_type": "code",
   "execution_count": 39,
   "metadata": {},
   "outputs": [],
   "source": [
    "# Import libraries\n",
    "import numpy as np\n",
    "import pandas as pd\n",
    "import matplotlib.pyplot as plt\n",
    "import seaborn as sns\n",
    "from scipy import stats"
   ]
  },
  {
   "cell_type": "markdown",
   "metadata": {},
   "source": [
    "### 2.2 Data description"
   ]
  },
  {
   "cell_type": "code",
   "execution_count": 4,
   "metadata": {},
   "outputs": [
    {
     "data": {
      "text/html": [
       "<div>\n",
       "<style scoped>\n",
       "    .dataframe tbody tr th:only-of-type {\n",
       "        vertical-align: middle;\n",
       "    }\n",
       "\n",
       "    .dataframe tbody tr th {\n",
       "        vertical-align: top;\n",
       "    }\n",
       "\n",
       "    .dataframe thead th {\n",
       "        text-align: right;\n",
       "    }\n",
       "</style>\n",
       "<table border=\"1\" class=\"dataframe\">\n",
       "  <thead>\n",
       "    <tr style=\"text-align: right;\">\n",
       "      <th></th>\n",
       "      <th>Name</th>\n",
       "      <th>Author</th>\n",
       "      <th>User Rating</th>\n",
       "      <th>Reviews</th>\n",
       "      <th>Price</th>\n",
       "      <th>Year</th>\n",
       "      <th>Genre</th>\n",
       "    </tr>\n",
       "  </thead>\n",
       "  <tbody>\n",
       "    <tr>\n",
       "      <th>0</th>\n",
       "      <td>10-Day Green Smoothie Cleanse</td>\n",
       "      <td>JJ Smith</td>\n",
       "      <td>4.7</td>\n",
       "      <td>17350</td>\n",
       "      <td>8</td>\n",
       "      <td>2016</td>\n",
       "      <td>Non Fiction</td>\n",
       "    </tr>\n",
       "    <tr>\n",
       "      <th>1</th>\n",
       "      <td>11/22/63: A Novel</td>\n",
       "      <td>Stephen King</td>\n",
       "      <td>4.6</td>\n",
       "      <td>2052</td>\n",
       "      <td>22</td>\n",
       "      <td>2011</td>\n",
       "      <td>Fiction</td>\n",
       "    </tr>\n",
       "    <tr>\n",
       "      <th>2</th>\n",
       "      <td>12 Rules for Life: An Antidote to Chaos</td>\n",
       "      <td>Jordan B. Peterson</td>\n",
       "      <td>4.7</td>\n",
       "      <td>18979</td>\n",
       "      <td>15</td>\n",
       "      <td>2018</td>\n",
       "      <td>Non Fiction</td>\n",
       "    </tr>\n",
       "    <tr>\n",
       "      <th>3</th>\n",
       "      <td>1984 (Signet Classics)</td>\n",
       "      <td>George Orwell</td>\n",
       "      <td>4.7</td>\n",
       "      <td>21424</td>\n",
       "      <td>6</td>\n",
       "      <td>2017</td>\n",
       "      <td>Fiction</td>\n",
       "    </tr>\n",
       "    <tr>\n",
       "      <th>4</th>\n",
       "      <td>5,000 Awesome Facts (About Everything!) (Natio...</td>\n",
       "      <td>National Geographic Kids</td>\n",
       "      <td>4.8</td>\n",
       "      <td>7665</td>\n",
       "      <td>12</td>\n",
       "      <td>2019</td>\n",
       "      <td>Non Fiction</td>\n",
       "    </tr>\n",
       "    <tr>\n",
       "      <th>5</th>\n",
       "      <td>A Dance with Dragons (A Song of Ice and Fire)</td>\n",
       "      <td>George R. R. Martin</td>\n",
       "      <td>4.4</td>\n",
       "      <td>12643</td>\n",
       "      <td>11</td>\n",
       "      <td>2011</td>\n",
       "      <td>Fiction</td>\n",
       "    </tr>\n",
       "    <tr>\n",
       "      <th>6</th>\n",
       "      <td>A Game of Thrones / A Clash of Kings / A Storm...</td>\n",
       "      <td>George R. R. Martin</td>\n",
       "      <td>4.7</td>\n",
       "      <td>19735</td>\n",
       "      <td>30</td>\n",
       "      <td>2014</td>\n",
       "      <td>Fiction</td>\n",
       "    </tr>\n",
       "    <tr>\n",
       "      <th>7</th>\n",
       "      <td>A Gentleman in Moscow: A Novel</td>\n",
       "      <td>Amor Towles</td>\n",
       "      <td>4.7</td>\n",
       "      <td>19699</td>\n",
       "      <td>15</td>\n",
       "      <td>2017</td>\n",
       "      <td>Fiction</td>\n",
       "    </tr>\n",
       "    <tr>\n",
       "      <th>8</th>\n",
       "      <td>A Higher Loyalty: Truth, Lies, and Leadership</td>\n",
       "      <td>James Comey</td>\n",
       "      <td>4.7</td>\n",
       "      <td>5983</td>\n",
       "      <td>3</td>\n",
       "      <td>2018</td>\n",
       "      <td>Non Fiction</td>\n",
       "    </tr>\n",
       "    <tr>\n",
       "      <th>9</th>\n",
       "      <td>A Man Called Ove: A Novel</td>\n",
       "      <td>Fredrik Backman</td>\n",
       "      <td>4.6</td>\n",
       "      <td>23848</td>\n",
       "      <td>8</td>\n",
       "      <td>2016</td>\n",
       "      <td>Fiction</td>\n",
       "    </tr>\n",
       "    <tr>\n",
       "      <th>10</th>\n",
       "      <td>A Man Called Ove: A Novel</td>\n",
       "      <td>Fredrik Backman</td>\n",
       "      <td>4.6</td>\n",
       "      <td>23848</td>\n",
       "      <td>8</td>\n",
       "      <td>2017</td>\n",
       "      <td>Fiction</td>\n",
       "    </tr>\n",
       "    <tr>\n",
       "      <th>11</th>\n",
       "      <td>A Patriot's History of the United States: From...</td>\n",
       "      <td>Larry Schweikart</td>\n",
       "      <td>4.6</td>\n",
       "      <td>460</td>\n",
       "      <td>2</td>\n",
       "      <td>2010</td>\n",
       "      <td>Non Fiction</td>\n",
       "    </tr>\n",
       "    <tr>\n",
       "      <th>12</th>\n",
       "      <td>A Stolen Life: A Memoir</td>\n",
       "      <td>Jaycee Dugard</td>\n",
       "      <td>4.6</td>\n",
       "      <td>4149</td>\n",
       "      <td>32</td>\n",
       "      <td>2011</td>\n",
       "      <td>Non Fiction</td>\n",
       "    </tr>\n",
       "    <tr>\n",
       "      <th>13</th>\n",
       "      <td>A Wrinkle in Time (Time Quintet)</td>\n",
       "      <td>Madeleine L'Engle</td>\n",
       "      <td>4.5</td>\n",
       "      <td>5153</td>\n",
       "      <td>5</td>\n",
       "      <td>2018</td>\n",
       "      <td>Fiction</td>\n",
       "    </tr>\n",
       "    <tr>\n",
       "      <th>14</th>\n",
       "      <td>Act Like a Lady, Think Like a Man: What Men Re...</td>\n",
       "      <td>Steve Harvey</td>\n",
       "      <td>4.6</td>\n",
       "      <td>5013</td>\n",
       "      <td>17</td>\n",
       "      <td>2009</td>\n",
       "      <td>Non Fiction</td>\n",
       "    </tr>\n",
       "    <tr>\n",
       "      <th>15</th>\n",
       "      <td>Adult Coloring Book Designs: Stress Relief Col...</td>\n",
       "      <td>Adult Coloring Book Designs</td>\n",
       "      <td>4.5</td>\n",
       "      <td>2313</td>\n",
       "      <td>4</td>\n",
       "      <td>2016</td>\n",
       "      <td>Non Fiction</td>\n",
       "    </tr>\n",
       "    <tr>\n",
       "      <th>16</th>\n",
       "      <td>Adult Coloring Book: Stress Relieving Animal D...</td>\n",
       "      <td>Blue Star Coloring</td>\n",
       "      <td>4.6</td>\n",
       "      <td>2925</td>\n",
       "      <td>6</td>\n",
       "      <td>2015</td>\n",
       "      <td>Non Fiction</td>\n",
       "    </tr>\n",
       "    <tr>\n",
       "      <th>17</th>\n",
       "      <td>Adult Coloring Book: Stress Relieving Patterns</td>\n",
       "      <td>Blue Star Coloring</td>\n",
       "      <td>4.4</td>\n",
       "      <td>2951</td>\n",
       "      <td>6</td>\n",
       "      <td>2015</td>\n",
       "      <td>Non Fiction</td>\n",
       "    </tr>\n",
       "    <tr>\n",
       "      <th>18</th>\n",
       "      <td>Adult Coloring Books: A Coloring Book for Adul...</td>\n",
       "      <td>Coloring Books for Adults</td>\n",
       "      <td>4.5</td>\n",
       "      <td>2426</td>\n",
       "      <td>8</td>\n",
       "      <td>2015</td>\n",
       "      <td>Non Fiction</td>\n",
       "    </tr>\n",
       "    <tr>\n",
       "      <th>19</th>\n",
       "      <td>Alexander Hamilton</td>\n",
       "      <td>Ron Chernow</td>\n",
       "      <td>4.8</td>\n",
       "      <td>9198</td>\n",
       "      <td>13</td>\n",
       "      <td>2016</td>\n",
       "      <td>Non Fiction</td>\n",
       "    </tr>\n",
       "    <tr>\n",
       "      <th>20</th>\n",
       "      <td>All the Light We Cannot See</td>\n",
       "      <td>Anthony Doerr</td>\n",
       "      <td>4.6</td>\n",
       "      <td>36348</td>\n",
       "      <td>14</td>\n",
       "      <td>2014</td>\n",
       "      <td>Fiction</td>\n",
       "    </tr>\n",
       "    <tr>\n",
       "      <th>21</th>\n",
       "      <td>All the Light We Cannot See</td>\n",
       "      <td>Anthony Doerr</td>\n",
       "      <td>4.6</td>\n",
       "      <td>36348</td>\n",
       "      <td>14</td>\n",
       "      <td>2015</td>\n",
       "      <td>Fiction</td>\n",
       "    </tr>\n",
       "    <tr>\n",
       "      <th>22</th>\n",
       "      <td>Allegiant</td>\n",
       "      <td>Veronica Roth</td>\n",
       "      <td>3.9</td>\n",
       "      <td>6310</td>\n",
       "      <td>13</td>\n",
       "      <td>2013</td>\n",
       "      <td>Fiction</td>\n",
       "    </tr>\n",
       "    <tr>\n",
       "      <th>23</th>\n",
       "      <td>American Sniper: The Autobiography of the Most...</td>\n",
       "      <td>Chris Kyle</td>\n",
       "      <td>4.6</td>\n",
       "      <td>15921</td>\n",
       "      <td>9</td>\n",
       "      <td>2015</td>\n",
       "      <td>Non Fiction</td>\n",
       "    </tr>\n",
       "    <tr>\n",
       "      <th>24</th>\n",
       "      <td>And the Mountains Echoed</td>\n",
       "      <td>Khaled Hosseini</td>\n",
       "      <td>4.3</td>\n",
       "      <td>12159</td>\n",
       "      <td>13</td>\n",
       "      <td>2013</td>\n",
       "      <td>Fiction</td>\n",
       "    </tr>\n",
       "    <tr>\n",
       "      <th>25</th>\n",
       "      <td>Arguing with Idiots: How to Stop Small Minds a...</td>\n",
       "      <td>Glenn Beck</td>\n",
       "      <td>4.6</td>\n",
       "      <td>798</td>\n",
       "      <td>5</td>\n",
       "      <td>2009</td>\n",
       "      <td>Non Fiction</td>\n",
       "    </tr>\n",
       "    <tr>\n",
       "      <th>26</th>\n",
       "      <td>Astrophysics for People in a Hurry</td>\n",
       "      <td>Neil deGrasse Tyson</td>\n",
       "      <td>4.7</td>\n",
       "      <td>9374</td>\n",
       "      <td>9</td>\n",
       "      <td>2017</td>\n",
       "      <td>Non Fiction</td>\n",
       "    </tr>\n",
       "    <tr>\n",
       "      <th>27</th>\n",
       "      <td>Autobiography of Mark Twain, Vol. 1</td>\n",
       "      <td>Mark Twain</td>\n",
       "      <td>4.2</td>\n",
       "      <td>491</td>\n",
       "      <td>14</td>\n",
       "      <td>2010</td>\n",
       "      <td>Non Fiction</td>\n",
       "    </tr>\n",
       "    <tr>\n",
       "      <th>28</th>\n",
       "      <td>Baby Touch and Feel: Animals</td>\n",
       "      <td>DK</td>\n",
       "      <td>4.6</td>\n",
       "      <td>5360</td>\n",
       "      <td>5</td>\n",
       "      <td>2015</td>\n",
       "      <td>Non Fiction</td>\n",
       "    </tr>\n",
       "    <tr>\n",
       "      <th>29</th>\n",
       "      <td>Balance (Angie's Extreme Stress Menders)</td>\n",
       "      <td>Angie Grace</td>\n",
       "      <td>4.6</td>\n",
       "      <td>1909</td>\n",
       "      <td>11</td>\n",
       "      <td>2015</td>\n",
       "      <td>Non Fiction</td>\n",
       "    </tr>\n",
       "  </tbody>\n",
       "</table>\n",
       "</div>"
      ],
      "text/plain": [
       "                                                 Name  \\\n",
       "0                       10-Day Green Smoothie Cleanse   \n",
       "1                                   11/22/63: A Novel   \n",
       "2             12 Rules for Life: An Antidote to Chaos   \n",
       "3                              1984 (Signet Classics)   \n",
       "4   5,000 Awesome Facts (About Everything!) (Natio...   \n",
       "5       A Dance with Dragons (A Song of Ice and Fire)   \n",
       "6   A Game of Thrones / A Clash of Kings / A Storm...   \n",
       "7                      A Gentleman in Moscow: A Novel   \n",
       "8       A Higher Loyalty: Truth, Lies, and Leadership   \n",
       "9                           A Man Called Ove: A Novel   \n",
       "10                          A Man Called Ove: A Novel   \n",
       "11  A Patriot's History of the United States: From...   \n",
       "12                            A Stolen Life: A Memoir   \n",
       "13                   A Wrinkle in Time (Time Quintet)   \n",
       "14  Act Like a Lady, Think Like a Man: What Men Re...   \n",
       "15  Adult Coloring Book Designs: Stress Relief Col...   \n",
       "16  Adult Coloring Book: Stress Relieving Animal D...   \n",
       "17     Adult Coloring Book: Stress Relieving Patterns   \n",
       "18  Adult Coloring Books: A Coloring Book for Adul...   \n",
       "19                                 Alexander Hamilton   \n",
       "20                        All the Light We Cannot See   \n",
       "21                        All the Light We Cannot See   \n",
       "22                                          Allegiant   \n",
       "23  American Sniper: The Autobiography of the Most...   \n",
       "24                           And the Mountains Echoed   \n",
       "25  Arguing with Idiots: How to Stop Small Minds a...   \n",
       "26                 Astrophysics for People in a Hurry   \n",
       "27                Autobiography of Mark Twain, Vol. 1   \n",
       "28                       Baby Touch and Feel: Animals   \n",
       "29           Balance (Angie's Extreme Stress Menders)   \n",
       "\n",
       "                         Author  User Rating  Reviews  Price  Year  \\\n",
       "0                      JJ Smith          4.7    17350      8  2016   \n",
       "1                  Stephen King          4.6     2052     22  2011   \n",
       "2            Jordan B. Peterson          4.7    18979     15  2018   \n",
       "3                 George Orwell          4.7    21424      6  2017   \n",
       "4      National Geographic Kids          4.8     7665     12  2019   \n",
       "5           George R. R. Martin          4.4    12643     11  2011   \n",
       "6           George R. R. Martin          4.7    19735     30  2014   \n",
       "7                   Amor Towles          4.7    19699     15  2017   \n",
       "8                   James Comey          4.7     5983      3  2018   \n",
       "9               Fredrik Backman          4.6    23848      8  2016   \n",
       "10              Fredrik Backman          4.6    23848      8  2017   \n",
       "11             Larry Schweikart          4.6      460      2  2010   \n",
       "12                Jaycee Dugard          4.6     4149     32  2011   \n",
       "13            Madeleine L'Engle          4.5     5153      5  2018   \n",
       "14                 Steve Harvey          4.6     5013     17  2009   \n",
       "15  Adult Coloring Book Designs          4.5     2313      4  2016   \n",
       "16           Blue Star Coloring          4.6     2925      6  2015   \n",
       "17           Blue Star Coloring          4.4     2951      6  2015   \n",
       "18    Coloring Books for Adults          4.5     2426      8  2015   \n",
       "19                  Ron Chernow          4.8     9198     13  2016   \n",
       "20                Anthony Doerr          4.6    36348     14  2014   \n",
       "21                Anthony Doerr          4.6    36348     14  2015   \n",
       "22                Veronica Roth          3.9     6310     13  2013   \n",
       "23                   Chris Kyle          4.6    15921      9  2015   \n",
       "24              Khaled Hosseini          4.3    12159     13  2013   \n",
       "25                   Glenn Beck          4.6      798      5  2009   \n",
       "26          Neil deGrasse Tyson          4.7     9374      9  2017   \n",
       "27                   Mark Twain          4.2      491     14  2010   \n",
       "28                           DK          4.6     5360      5  2015   \n",
       "29                  Angie Grace          4.6     1909     11  2015   \n",
       "\n",
       "          Genre  \n",
       "0   Non Fiction  \n",
       "1       Fiction  \n",
       "2   Non Fiction  \n",
       "3       Fiction  \n",
       "4   Non Fiction  \n",
       "5       Fiction  \n",
       "6       Fiction  \n",
       "7       Fiction  \n",
       "8   Non Fiction  \n",
       "9       Fiction  \n",
       "10      Fiction  \n",
       "11  Non Fiction  \n",
       "12  Non Fiction  \n",
       "13      Fiction  \n",
       "14  Non Fiction  \n",
       "15  Non Fiction  \n",
       "16  Non Fiction  \n",
       "17  Non Fiction  \n",
       "18  Non Fiction  \n",
       "19  Non Fiction  \n",
       "20      Fiction  \n",
       "21      Fiction  \n",
       "22      Fiction  \n",
       "23  Non Fiction  \n",
       "24      Fiction  \n",
       "25  Non Fiction  \n",
       "26  Non Fiction  \n",
       "27  Non Fiction  \n",
       "28  Non Fiction  \n",
       "29  Non Fiction  "
      ]
     },
     "execution_count": 4,
     "metadata": {},
     "output_type": "execute_result"
    }
   ],
   "source": [
    "df = pd.read_csv(\"bestsellers with categories.csv\")\n",
    "df.head(30)"
   ]
  },
  {
   "cell_type": "markdown",
   "metadata": {},
   "source": [
    "- Name\n",
    "  - Título del libro\n",
    "  - Unidad: texto (categoría)\n",
    "- Author\n",
    "  - Nombre del autor\n",
    "  - Unidad: texto (categoría)\n",
    "- User Rating\n",
    "  - Calificación promedio del libro por los usuarios\n",
    "  - Unidad: número entre 0 y 5 (con decimales)\n",
    "- Reviews\n",
    "  - Número de reseñas\n",
    "  - Unidad: número entero\n",
    "- Price\n",
    "  - Precio del libro\n",
    "  - Unidad: número entero\n",
    "- Year\n",
    "  - Año en el que el libro fue de los más vendidos\n",
    "  - Unidad: año (número entero)\n",
    "- Genre\n",
    "  - Género del libro simplificado (Fiction o Non Fiction)\n",
    "  - Unidad: categorico con dos valores posibles"
   ]
  },
  {
   "cell_type": "markdown",
   "metadata": {},
   "source": [
    "## 3. Data preparation\n"
   ]
  },
  {
   "cell_type": "markdown",
   "metadata": {},
   "source": [
    "### 3.1 Typecasting"
   ]
  },
  {
   "cell_type": "markdown",
   "metadata": {},
   "source": [
    "## 1. Business Understanding\n",
    "\n",
    "dataset source: https://www.kaggle.com/datasets/sootersaalu/amazon-top-50-bestselling-books-2009-2019/data\n",
    "\n",
    "### Context\n",
    "Datos sobre los 50 libros más vendidos en Amazon de 2009 a 2019. \n",
    "\n",
    "### Hypothesis to Test\n",
    "\n",
    "Vamos a responder a las siguientes preguntas con validez estadística:\n",
    "\n",
    "- ¿Los géneros difieren en User Rating?\n",
    "- ¿Los géneros difieren en número de Reviews?\n",
    "- ¿Los géneros difieren en términos de precio?"
   ]
  },
  {
   "cell_type": "code",
   "execution_count": 5,
   "metadata": {},
   "outputs": [
    {
     "data": {
      "text/plain": [
       "Name            object\n",
       "Author          object\n",
       "User Rating    float64\n",
       "Reviews          int64\n",
       "Price            int64\n",
       "Year             int64\n",
       "Genre           object\n",
       "dtype: object"
      ]
     },
     "execution_count": 5,
     "metadata": {},
     "output_type": "execute_result"
    }
   ],
   "source": [
    "# comprobamos el tipo de datos de las columnas\n",
    "df.dtypes"
   ]
  },
  {
   "cell_type": "code",
   "execution_count": 6,
   "metadata": {},
   "outputs": [],
   "source": [
    "columnas_categoricas = [\"Genre\", \"Name\", \"Author\"]\n",
    "df[columnas_categoricas] = df[columnas_categoricas].astype(\"category\")"
   ]
  },
  {
   "cell_type": "code",
   "execution_count": 7,
   "metadata": {},
   "outputs": [
    {
     "data": {
      "text/plain": [
       "Name           category\n",
       "Author         category\n",
       "User Rating     float64\n",
       "Reviews           int64\n",
       "Price             int64\n",
       "Year              int64\n",
       "Genre          category\n",
       "dtype: object"
      ]
     },
     "execution_count": 7,
     "metadata": {},
     "output_type": "execute_result"
    }
   ],
   "source": [
    "df.dtypes"
   ]
  },
  {
   "cell_type": "markdown",
   "metadata": {},
   "source": [
    "### 3.2 Handling Duplicates"
   ]
  },
  {
   "cell_type": "markdown",
   "metadata": {},
   "source": [
    "Comprobar si hay autores o títulos iguales pero escritos diferente."
   ]
  },
  {
   "cell_type": "code",
   "execution_count": 8,
   "metadata": {},
   "outputs": [],
   "source": [
    "from fuzzywuzzy import fuzz\n",
    "\n",
    "\n",
    "# Función para encontrar nombres de autores similares\n",
    "def encontrar_similares(df, columna):\n",
    "    autores = df[columna].unique()\n",
    "    duplicados = []\n",
    "\n",
    "    for i, autor1 in enumerate(autores):\n",
    "        for autor2 in autores[i + 1 :]:\n",
    "            ratio = fuzz.ratio(autor1, autor2)\n",
    "            if ratio > 90:  # Puedes ajustar este umbral según tu criterio\n",
    "                duplicados.append((autor1, autor2))\n",
    "\n",
    "    return duplicados"
   ]
  },
  {
   "cell_type": "code",
   "execution_count": 9,
   "metadata": {},
   "outputs": [
    {
     "name": "stdout",
     "output_type": "stream",
     "text": [
      "Nombres de autores que se refieren al mismo autor pero están escritos diferente:\n",
      "('George R. R. Martin', 'George R.R. Martin')\n",
      "('J.K. Rowling', 'J. K. Rowling')\n"
     ]
    }
   ],
   "source": [
    "# Encuentra nombres de autores similares\n",
    "duplicados = encontrar_similares(df, \"Author\")\n",
    "\n",
    "print(\n",
    "    \"Nombres de autores que se refieren al mismo autor pero están escritos diferente:\"\n",
    ")\n",
    "for dup in duplicados:\n",
    "    print(dup)"
   ]
  },
  {
   "cell_type": "code",
   "execution_count": 10,
   "metadata": {},
   "outputs": [],
   "source": [
    "# Replace the names of the Authors with the correct ones\n",
    "df = df.replace(\"George R. R. Martin\", \"George R.R. Martin\")\n",
    "df = df.replace(\"J. K. Rowling\", \"J.K. Rowling\")"
   ]
  },
  {
   "cell_type": "code",
   "execution_count": 11,
   "metadata": {},
   "outputs": [
    {
     "name": "stdout",
     "output_type": "stream",
     "text": [
      "Nombres de autores que se refieren al mismo autor pero están escritos diferente:\n",
      "('The 5 Love Languages: The Secret to Love That Lasts', 'The 5 Love Languages: The Secret to Love that Lasts')\n",
      "('The Girl Who Played with Fire (Millennium Series)', 'The Girl Who Played with Fire (Millennium)')\n"
     ]
    }
   ],
   "source": [
    "# Encuentra nombres de títulos similares\n",
    "duplicados = encontrar_similares(df, \"Name\")\n",
    "\n",
    "print(\n",
    "    \"Nombres de autores que se refieren al mismo autor pero están escritos diferente:\"\n",
    ")\n",
    "for dup in duplicados:\n",
    "    print(dup)"
   ]
  },
  {
   "cell_type": "code",
   "execution_count": 12,
   "metadata": {},
   "outputs": [],
   "source": [
    "# Replace the names of the Authors with the correct ones\n",
    "df = df.replace(\n",
    "    \"The 5 Love Languages: The Secret to Love That Lasts\",\n",
    "    \"The 5 Love Languages: The Secret to Love that Lasts\",\n",
    ")\n",
    "df = df.replace(\n",
    "    \"The Girl Who Played with Fire (Millennium Series)\",\n",
    "    \"The Girl Who Played with Fire (Millennium)\",\n",
    ")"
   ]
  },
  {
   "cell_type": "code",
   "execution_count": 13,
   "metadata": {},
   "outputs": [
    {
     "data": {
      "text/html": [
       "<div>\n",
       "<style scoped>\n",
       "    .dataframe tbody tr th:only-of-type {\n",
       "        vertical-align: middle;\n",
       "    }\n",
       "\n",
       "    .dataframe tbody tr th {\n",
       "        vertical-align: top;\n",
       "    }\n",
       "\n",
       "    .dataframe thead th {\n",
       "        text-align: right;\n",
       "    }\n",
       "</style>\n",
       "<table border=\"1\" class=\"dataframe\">\n",
       "  <thead>\n",
       "    <tr style=\"text-align: right;\">\n",
       "      <th></th>\n",
       "      <th>Name</th>\n",
       "      <th>Author</th>\n",
       "      <th>User Rating</th>\n",
       "      <th>Reviews</th>\n",
       "      <th>Price</th>\n",
       "      <th>Year</th>\n",
       "      <th>Genre</th>\n",
       "    </tr>\n",
       "  </thead>\n",
       "  <tbody>\n",
       "    <tr>\n",
       "      <th>0</th>\n",
       "      <td>10-Day Green Smoothie Cleanse</td>\n",
       "      <td>JJ Smith</td>\n",
       "      <td>4.7</td>\n",
       "      <td>17350</td>\n",
       "      <td>8</td>\n",
       "      <td>2016</td>\n",
       "      <td>Non Fiction</td>\n",
       "    </tr>\n",
       "    <tr>\n",
       "      <th>1</th>\n",
       "      <td>11/22/63: A Novel</td>\n",
       "      <td>Stephen King</td>\n",
       "      <td>4.6</td>\n",
       "      <td>2052</td>\n",
       "      <td>22</td>\n",
       "      <td>2011</td>\n",
       "      <td>Fiction</td>\n",
       "    </tr>\n",
       "    <tr>\n",
       "      <th>2</th>\n",
       "      <td>12 Rules for Life: An Antidote to Chaos</td>\n",
       "      <td>Jordan B. Peterson</td>\n",
       "      <td>4.7</td>\n",
       "      <td>18979</td>\n",
       "      <td>15</td>\n",
       "      <td>2018</td>\n",
       "      <td>Non Fiction</td>\n",
       "    </tr>\n",
       "    <tr>\n",
       "      <th>3</th>\n",
       "      <td>1984 (Signet Classics)</td>\n",
       "      <td>George Orwell</td>\n",
       "      <td>4.7</td>\n",
       "      <td>21424</td>\n",
       "      <td>6</td>\n",
       "      <td>2017</td>\n",
       "      <td>Fiction</td>\n",
       "    </tr>\n",
       "    <tr>\n",
       "      <th>4</th>\n",
       "      <td>5,000 Awesome Facts (About Everything!) (Natio...</td>\n",
       "      <td>National Geographic Kids</td>\n",
       "      <td>4.8</td>\n",
       "      <td>7665</td>\n",
       "      <td>12</td>\n",
       "      <td>2019</td>\n",
       "      <td>Non Fiction</td>\n",
       "    </tr>\n",
       "    <tr>\n",
       "      <th>...</th>\n",
       "      <td>...</td>\n",
       "      <td>...</td>\n",
       "      <td>...</td>\n",
       "      <td>...</td>\n",
       "      <td>...</td>\n",
       "      <td>...</td>\n",
       "      <td>...</td>\n",
       "    </tr>\n",
       "    <tr>\n",
       "      <th>545</th>\n",
       "      <td>Wrecking Ball (Diary of a Wimpy Kid Book 14)</td>\n",
       "      <td>Jeff Kinney</td>\n",
       "      <td>4.9</td>\n",
       "      <td>9413</td>\n",
       "      <td>8</td>\n",
       "      <td>2019</td>\n",
       "      <td>Fiction</td>\n",
       "    </tr>\n",
       "    <tr>\n",
       "      <th>546</th>\n",
       "      <td>You Are a Badass: How to Stop Doubting Your Gr...</td>\n",
       "      <td>Jen Sincero</td>\n",
       "      <td>4.7</td>\n",
       "      <td>14331</td>\n",
       "      <td>8</td>\n",
       "      <td>2016</td>\n",
       "      <td>Non Fiction</td>\n",
       "    </tr>\n",
       "    <tr>\n",
       "      <th>547</th>\n",
       "      <td>You Are a Badass: How to Stop Doubting Your Gr...</td>\n",
       "      <td>Jen Sincero</td>\n",
       "      <td>4.7</td>\n",
       "      <td>14331</td>\n",
       "      <td>8</td>\n",
       "      <td>2017</td>\n",
       "      <td>Non Fiction</td>\n",
       "    </tr>\n",
       "    <tr>\n",
       "      <th>548</th>\n",
       "      <td>You Are a Badass: How to Stop Doubting Your Gr...</td>\n",
       "      <td>Jen Sincero</td>\n",
       "      <td>4.7</td>\n",
       "      <td>14331</td>\n",
       "      <td>8</td>\n",
       "      <td>2018</td>\n",
       "      <td>Non Fiction</td>\n",
       "    </tr>\n",
       "    <tr>\n",
       "      <th>549</th>\n",
       "      <td>You Are a Badass: How to Stop Doubting Your Gr...</td>\n",
       "      <td>Jen Sincero</td>\n",
       "      <td>4.7</td>\n",
       "      <td>14331</td>\n",
       "      <td>8</td>\n",
       "      <td>2019</td>\n",
       "      <td>Non Fiction</td>\n",
       "    </tr>\n",
       "  </tbody>\n",
       "</table>\n",
       "<p>550 rows × 7 columns</p>\n",
       "</div>"
      ],
      "text/plain": [
       "                                                  Name  \\\n",
       "0                        10-Day Green Smoothie Cleanse   \n",
       "1                                    11/22/63: A Novel   \n",
       "2              12 Rules for Life: An Antidote to Chaos   \n",
       "3                               1984 (Signet Classics)   \n",
       "4    5,000 Awesome Facts (About Everything!) (Natio...   \n",
       "..                                                 ...   \n",
       "545       Wrecking Ball (Diary of a Wimpy Kid Book 14)   \n",
       "546  You Are a Badass: How to Stop Doubting Your Gr...   \n",
       "547  You Are a Badass: How to Stop Doubting Your Gr...   \n",
       "548  You Are a Badass: How to Stop Doubting Your Gr...   \n",
       "549  You Are a Badass: How to Stop Doubting Your Gr...   \n",
       "\n",
       "                       Author  User Rating  Reviews  Price  Year        Genre  \n",
       "0                    JJ Smith          4.7    17350      8  2016  Non Fiction  \n",
       "1                Stephen King          4.6     2052     22  2011      Fiction  \n",
       "2          Jordan B. Peterson          4.7    18979     15  2018  Non Fiction  \n",
       "3               George Orwell          4.7    21424      6  2017      Fiction  \n",
       "4    National Geographic Kids          4.8     7665     12  2019  Non Fiction  \n",
       "..                        ...          ...      ...    ...   ...          ...  \n",
       "545               Jeff Kinney          4.9     9413      8  2019      Fiction  \n",
       "546               Jen Sincero          4.7    14331      8  2016  Non Fiction  \n",
       "547               Jen Sincero          4.7    14331      8  2017  Non Fiction  \n",
       "548               Jen Sincero          4.7    14331      8  2018  Non Fiction  \n",
       "549               Jen Sincero          4.7    14331      8  2019  Non Fiction  \n",
       "\n",
       "[550 rows x 7 columns]"
      ]
     },
     "execution_count": 13,
     "metadata": {},
     "output_type": "execute_result"
    }
   ],
   "source": [
    "df"
   ]
  },
  {
   "cell_type": "code",
   "execution_count": 14,
   "metadata": {},
   "outputs": [
    {
     "data": {
      "text/plain": [
       "0"
      ]
     },
     "execution_count": 14,
     "metadata": {},
     "output_type": "execute_result"
    }
   ],
   "source": [
    "# número de filas duplicadas\n",
    "df.duplicated().sum()"
   ]
  },
  {
   "cell_type": "markdown",
   "metadata": {},
   "source": [
    "Es normal no encontrar duplicados en este caso, hay libros que se repiten pero es imposible que coincidan en \"Year\". No es un error por si mismo. Pero hay un problema. Las \"Reviews\" deberían ser las que el libro tenia el año en el que fue de los mas vendidos. En lugar de eso son las del último año. Esto puede deberse a que el autor del dataset no tuvo acceso al historial de las reseñas.\n",
    "\n",
    "Es importante tener en cuenta esto para el análisis.\n",
    "\n",
    "Vamos a utilizar unicamente la muestra más reciente de cada libro."
   ]
  },
  {
   "cell_type": "code",
   "execution_count": 15,
   "metadata": {},
   "outputs": [
    {
     "data": {
      "text/html": [
       "<div>\n",
       "<style scoped>\n",
       "    .dataframe tbody tr th:only-of-type {\n",
       "        vertical-align: middle;\n",
       "    }\n",
       "\n",
       "    .dataframe tbody tr th {\n",
       "        vertical-align: top;\n",
       "    }\n",
       "\n",
       "    .dataframe thead th {\n",
       "        text-align: right;\n",
       "    }\n",
       "</style>\n",
       "<table border=\"1\" class=\"dataframe\">\n",
       "  <thead>\n",
       "    <tr style=\"text-align: right;\">\n",
       "      <th></th>\n",
       "      <th>Name</th>\n",
       "      <th>Author</th>\n",
       "      <th>User Rating</th>\n",
       "      <th>Reviews</th>\n",
       "      <th>Price</th>\n",
       "      <th>Year</th>\n",
       "      <th>Genre</th>\n",
       "    </tr>\n",
       "  </thead>\n",
       "  <tbody>\n",
       "    <tr>\n",
       "      <th>10</th>\n",
       "      <td>A Man Called Ove: A Novel</td>\n",
       "      <td>Fredrik Backman</td>\n",
       "      <td>4.6</td>\n",
       "      <td>23848</td>\n",
       "      <td>8</td>\n",
       "      <td>2017</td>\n",
       "      <td>Fiction</td>\n",
       "    </tr>\n",
       "    <tr>\n",
       "      <th>21</th>\n",
       "      <td>All the Light We Cannot See</td>\n",
       "      <td>Anthony Doerr</td>\n",
       "      <td>4.6</td>\n",
       "      <td>36348</td>\n",
       "      <td>14</td>\n",
       "      <td>2015</td>\n",
       "      <td>Fiction</td>\n",
       "    </tr>\n",
       "    <tr>\n",
       "      <th>33</th>\n",
       "      <td>Becoming</td>\n",
       "      <td>Michelle Obama</td>\n",
       "      <td>4.8</td>\n",
       "      <td>61133</td>\n",
       "      <td>11</td>\n",
       "      <td>2019</td>\n",
       "      <td>Non Fiction</td>\n",
       "    </tr>\n",
       "    <tr>\n",
       "      <th>36</th>\n",
       "      <td>Between the World and Me</td>\n",
       "      <td>Ta-Nehisi Coates</td>\n",
       "      <td>4.7</td>\n",
       "      <td>10070</td>\n",
       "      <td>13</td>\n",
       "      <td>2016</td>\n",
       "      <td>Non Fiction</td>\n",
       "    </tr>\n",
       "    <tr>\n",
       "      <th>41</th>\n",
       "      <td>Brown Bear, Brown Bear, What Do You See?</td>\n",
       "      <td>Bill Martin Jr.</td>\n",
       "      <td>4.9</td>\n",
       "      <td>14344</td>\n",
       "      <td>5</td>\n",
       "      <td>2019</td>\n",
       "      <td>Fiction</td>\n",
       "    </tr>\n",
       "    <tr>\n",
       "      <th>47</th>\n",
       "      <td>Catching Fire (The Hunger Games)</td>\n",
       "      <td>Suzanne Collins</td>\n",
       "      <td>4.7</td>\n",
       "      <td>22614</td>\n",
       "      <td>11</td>\n",
       "      <td>2011</td>\n",
       "      <td>Fiction</td>\n",
       "    </tr>\n",
       "    <tr>\n",
       "      <th>48</th>\n",
       "      <td>Catching Fire (The Hunger Games)</td>\n",
       "      <td>Suzanne Collins</td>\n",
       "      <td>4.7</td>\n",
       "      <td>22614</td>\n",
       "      <td>11</td>\n",
       "      <td>2012</td>\n",
       "      <td>Fiction</td>\n",
       "    </tr>\n",
       "    <tr>\n",
       "      <th>51</th>\n",
       "      <td>Crazy Love: Overwhelmed by a Relentless God</td>\n",
       "      <td>Francis Chan</td>\n",
       "      <td>4.7</td>\n",
       "      <td>1542</td>\n",
       "      <td>14</td>\n",
       "      <td>2010</td>\n",
       "      <td>Non Fiction</td>\n",
       "    </tr>\n",
       "    <tr>\n",
       "      <th>52</th>\n",
       "      <td>Crazy Love: Overwhelmed by a Relentless God</td>\n",
       "      <td>Francis Chan</td>\n",
       "      <td>4.7</td>\n",
       "      <td>1542</td>\n",
       "      <td>14</td>\n",
       "      <td>2011</td>\n",
       "      <td>Non Fiction</td>\n",
       "    </tr>\n",
       "    <tr>\n",
       "      <th>57</th>\n",
       "      <td>Cutting for Stone</td>\n",
       "      <td>Abraham Verghese</td>\n",
       "      <td>4.6</td>\n",
       "      <td>4866</td>\n",
       "      <td>11</td>\n",
       "      <td>2011</td>\n",
       "      <td>Fiction</td>\n",
       "    </tr>\n",
       "    <tr>\n",
       "      <th>64</th>\n",
       "      <td>Dear Zoo: A Lift-the-Flap Book</td>\n",
       "      <td>Rod Campbell</td>\n",
       "      <td>4.8</td>\n",
       "      <td>10922</td>\n",
       "      <td>5</td>\n",
       "      <td>2016</td>\n",
       "      <td>Fiction</td>\n",
       "    </tr>\n",
       "    <tr>\n",
       "      <th>65</th>\n",
       "      <td>Dear Zoo: A Lift-the-Flap Book</td>\n",
       "      <td>Rod Campbell</td>\n",
       "      <td>4.8</td>\n",
       "      <td>10922</td>\n",
       "      <td>5</td>\n",
       "      <td>2017</td>\n",
       "      <td>Fiction</td>\n",
       "    </tr>\n",
       "    <tr>\n",
       "      <th>66</th>\n",
       "      <td>Dear Zoo: A Lift-the-Flap Book</td>\n",
       "      <td>Rod Campbell</td>\n",
       "      <td>4.8</td>\n",
       "      <td>10922</td>\n",
       "      <td>5</td>\n",
       "      <td>2018</td>\n",
       "      <td>Fiction</td>\n",
       "    </tr>\n",
       "    <tr>\n",
       "      <th>70</th>\n",
       "      <td>Diagnostic and Statistical Manual of Mental Di...</td>\n",
       "      <td>American Psychiatric Association</td>\n",
       "      <td>4.5</td>\n",
       "      <td>6679</td>\n",
       "      <td>105</td>\n",
       "      <td>2014</td>\n",
       "      <td>Non Fiction</td>\n",
       "    </tr>\n",
       "    <tr>\n",
       "      <th>76</th>\n",
       "      <td>Divergent</td>\n",
       "      <td>Veronica Roth</td>\n",
       "      <td>4.6</td>\n",
       "      <td>27098</td>\n",
       "      <td>15</td>\n",
       "      <td>2014</td>\n",
       "      <td>Fiction</td>\n",
       "    </tr>\n",
       "    <tr>\n",
       "      <th>84</th>\n",
       "      <td>Dog Man: Brawl of the Wild: From the Creator o...</td>\n",
       "      <td>Dav Pilkey</td>\n",
       "      <td>4.9</td>\n",
       "      <td>7235</td>\n",
       "      <td>4</td>\n",
       "      <td>2019</td>\n",
       "      <td>Fiction</td>\n",
       "    </tr>\n",
       "    <tr>\n",
       "      <th>94</th>\n",
       "      <td>Eat to Live: The Amazing Nutrient-Rich Program...</td>\n",
       "      <td>Joel Fuhrman MD</td>\n",
       "      <td>4.5</td>\n",
       "      <td>6346</td>\n",
       "      <td>9</td>\n",
       "      <td>2012</td>\n",
       "      <td>Non Fiction</td>\n",
       "    </tr>\n",
       "    <tr>\n",
       "      <th>98</th>\n",
       "      <td>Educated: A Memoir</td>\n",
       "      <td>Tara Westover</td>\n",
       "      <td>4.7</td>\n",
       "      <td>28729</td>\n",
       "      <td>15</td>\n",
       "      <td>2019</td>\n",
       "      <td>Non Fiction</td>\n",
       "    </tr>\n",
       "    <tr>\n",
       "      <th>101</th>\n",
       "      <td>Fahrenheit 451</td>\n",
       "      <td>Ray Bradbury</td>\n",
       "      <td>4.6</td>\n",
       "      <td>10721</td>\n",
       "      <td>8</td>\n",
       "      <td>2018</td>\n",
       "      <td>Fiction</td>\n",
       "    </tr>\n",
       "    <tr>\n",
       "      <th>107</th>\n",
       "      <td>Fifty Shades of Grey: Book One of the Fifty Sh...</td>\n",
       "      <td>E L James</td>\n",
       "      <td>3.8</td>\n",
       "      <td>47265</td>\n",
       "      <td>14</td>\n",
       "      <td>2013</td>\n",
       "      <td>Fiction</td>\n",
       "    </tr>\n",
       "  </tbody>\n",
       "</table>\n",
       "</div>"
      ],
      "text/plain": [
       "                                                  Name  \\\n",
       "10                           A Man Called Ove: A Novel   \n",
       "21                         All the Light We Cannot See   \n",
       "33                                            Becoming   \n",
       "36                            Between the World and Me   \n",
       "41            Brown Bear, Brown Bear, What Do You See?   \n",
       "47                    Catching Fire (The Hunger Games)   \n",
       "48                    Catching Fire (The Hunger Games)   \n",
       "51         Crazy Love: Overwhelmed by a Relentless God   \n",
       "52         Crazy Love: Overwhelmed by a Relentless God   \n",
       "57                                   Cutting for Stone   \n",
       "64                      Dear Zoo: A Lift-the-Flap Book   \n",
       "65                      Dear Zoo: A Lift-the-Flap Book   \n",
       "66                      Dear Zoo: A Lift-the-Flap Book   \n",
       "70   Diagnostic and Statistical Manual of Mental Di...   \n",
       "76                                           Divergent   \n",
       "84   Dog Man: Brawl of the Wild: From the Creator o...   \n",
       "94   Eat to Live: The Amazing Nutrient-Rich Program...   \n",
       "98                                  Educated: A Memoir   \n",
       "101                                     Fahrenheit 451   \n",
       "107  Fifty Shades of Grey: Book One of the Fifty Sh...   \n",
       "\n",
       "                               Author  User Rating  Reviews  Price  Year  \\\n",
       "10                    Fredrik Backman          4.6    23848      8  2017   \n",
       "21                      Anthony Doerr          4.6    36348     14  2015   \n",
       "33                     Michelle Obama          4.8    61133     11  2019   \n",
       "36                   Ta-Nehisi Coates          4.7    10070     13  2016   \n",
       "41                    Bill Martin Jr.          4.9    14344      5  2019   \n",
       "47                    Suzanne Collins          4.7    22614     11  2011   \n",
       "48                    Suzanne Collins          4.7    22614     11  2012   \n",
       "51                       Francis Chan          4.7     1542     14  2010   \n",
       "52                       Francis Chan          4.7     1542     14  2011   \n",
       "57                   Abraham Verghese          4.6     4866     11  2011   \n",
       "64                       Rod Campbell          4.8    10922      5  2016   \n",
       "65                       Rod Campbell          4.8    10922      5  2017   \n",
       "66                       Rod Campbell          4.8    10922      5  2018   \n",
       "70   American Psychiatric Association          4.5     6679    105  2014   \n",
       "76                      Veronica Roth          4.6    27098     15  2014   \n",
       "84                         Dav Pilkey          4.9     7235      4  2019   \n",
       "94                    Joel Fuhrman MD          4.5     6346      9  2012   \n",
       "98                      Tara Westover          4.7    28729     15  2019   \n",
       "101                      Ray Bradbury          4.6    10721      8  2018   \n",
       "107                         E L James          3.8    47265     14  2013   \n",
       "\n",
       "           Genre  \n",
       "10       Fiction  \n",
       "21       Fiction  \n",
       "33   Non Fiction  \n",
       "36   Non Fiction  \n",
       "41       Fiction  \n",
       "47       Fiction  \n",
       "48       Fiction  \n",
       "51   Non Fiction  \n",
       "52   Non Fiction  \n",
       "57       Fiction  \n",
       "64       Fiction  \n",
       "65       Fiction  \n",
       "66       Fiction  \n",
       "70   Non Fiction  \n",
       "76       Fiction  \n",
       "84       Fiction  \n",
       "94   Non Fiction  \n",
       "98   Non Fiction  \n",
       "101      Fiction  \n",
       "107      Fiction  "
      ]
     },
     "execution_count": 15,
     "metadata": {},
     "output_type": "execute_result"
    }
   ],
   "source": [
    "# todos los libros con el titulo repetido\n",
    "df[df.duplicated(\"Name\")].head(20)"
   ]
  },
  {
   "cell_type": "code",
   "execution_count": 16,
   "metadata": {},
   "outputs": [
    {
     "data": {
      "text/html": [
       "<div>\n",
       "<style scoped>\n",
       "    .dataframe tbody tr th:only-of-type {\n",
       "        vertical-align: middle;\n",
       "    }\n",
       "\n",
       "    .dataframe tbody tr th {\n",
       "        vertical-align: top;\n",
       "    }\n",
       "\n",
       "    .dataframe thead th {\n",
       "        text-align: right;\n",
       "    }\n",
       "</style>\n",
       "<table border=\"1\" class=\"dataframe\">\n",
       "  <thead>\n",
       "    <tr style=\"text-align: right;\">\n",
       "      <th></th>\n",
       "      <th>Name</th>\n",
       "      <th>Author</th>\n",
       "      <th>User Rating</th>\n",
       "      <th>Reviews</th>\n",
       "      <th>Price</th>\n",
       "      <th>Year</th>\n",
       "      <th>Genre</th>\n",
       "    </tr>\n",
       "  </thead>\n",
       "  <tbody>\n",
       "    <tr>\n",
       "      <th>0</th>\n",
       "      <td>10-Day Green Smoothie Cleanse</td>\n",
       "      <td>JJ Smith</td>\n",
       "      <td>4.7</td>\n",
       "      <td>17350</td>\n",
       "      <td>8</td>\n",
       "      <td>2016</td>\n",
       "      <td>Non Fiction</td>\n",
       "    </tr>\n",
       "    <tr>\n",
       "      <th>1</th>\n",
       "      <td>11/22/63: A Novel</td>\n",
       "      <td>Stephen King</td>\n",
       "      <td>4.6</td>\n",
       "      <td>2052</td>\n",
       "      <td>22</td>\n",
       "      <td>2011</td>\n",
       "      <td>Fiction</td>\n",
       "    </tr>\n",
       "    <tr>\n",
       "      <th>2</th>\n",
       "      <td>12 Rules for Life: An Antidote to Chaos</td>\n",
       "      <td>Jordan B. Peterson</td>\n",
       "      <td>4.7</td>\n",
       "      <td>18979</td>\n",
       "      <td>15</td>\n",
       "      <td>2018</td>\n",
       "      <td>Non Fiction</td>\n",
       "    </tr>\n",
       "    <tr>\n",
       "      <th>3</th>\n",
       "      <td>1984 (Signet Classics)</td>\n",
       "      <td>George Orwell</td>\n",
       "      <td>4.7</td>\n",
       "      <td>21424</td>\n",
       "      <td>6</td>\n",
       "      <td>2017</td>\n",
       "      <td>Fiction</td>\n",
       "    </tr>\n",
       "    <tr>\n",
       "      <th>4</th>\n",
       "      <td>5,000 Awesome Facts (About Everything!) (Natio...</td>\n",
       "      <td>National Geographic Kids</td>\n",
       "      <td>4.8</td>\n",
       "      <td>7665</td>\n",
       "      <td>12</td>\n",
       "      <td>2019</td>\n",
       "      <td>Non Fiction</td>\n",
       "    </tr>\n",
       "    <tr>\n",
       "      <th>...</th>\n",
       "      <td>...</td>\n",
       "      <td>...</td>\n",
       "      <td>...</td>\n",
       "      <td>...</td>\n",
       "      <td>...</td>\n",
       "      <td>...</td>\n",
       "      <td>...</td>\n",
       "    </tr>\n",
       "    <tr>\n",
       "      <th>538</th>\n",
       "      <td>Winter of the World: Book Two of the Century T...</td>\n",
       "      <td>Ken Follett</td>\n",
       "      <td>4.5</td>\n",
       "      <td>10760</td>\n",
       "      <td>15</td>\n",
       "      <td>2012</td>\n",
       "      <td>Fiction</td>\n",
       "    </tr>\n",
       "    <tr>\n",
       "      <th>539</th>\n",
       "      <td>Women Food and God: An Unexpected Path to Almo...</td>\n",
       "      <td>Geneen Roth</td>\n",
       "      <td>4.2</td>\n",
       "      <td>1302</td>\n",
       "      <td>11</td>\n",
       "      <td>2010</td>\n",
       "      <td>Non Fiction</td>\n",
       "    </tr>\n",
       "    <tr>\n",
       "      <th>544</th>\n",
       "      <td>Wonder</td>\n",
       "      <td>R. J. Palacio</td>\n",
       "      <td>4.8</td>\n",
       "      <td>21625</td>\n",
       "      <td>9</td>\n",
       "      <td>2017</td>\n",
       "      <td>Fiction</td>\n",
       "    </tr>\n",
       "    <tr>\n",
       "      <th>545</th>\n",
       "      <td>Wrecking Ball (Diary of a Wimpy Kid Book 14)</td>\n",
       "      <td>Jeff Kinney</td>\n",
       "      <td>4.9</td>\n",
       "      <td>9413</td>\n",
       "      <td>8</td>\n",
       "      <td>2019</td>\n",
       "      <td>Fiction</td>\n",
       "    </tr>\n",
       "    <tr>\n",
       "      <th>549</th>\n",
       "      <td>You Are a Badass: How to Stop Doubting Your Gr...</td>\n",
       "      <td>Jen Sincero</td>\n",
       "      <td>4.7</td>\n",
       "      <td>14331</td>\n",
       "      <td>8</td>\n",
       "      <td>2019</td>\n",
       "      <td>Non Fiction</td>\n",
       "    </tr>\n",
       "  </tbody>\n",
       "</table>\n",
       "<p>349 rows × 7 columns</p>\n",
       "</div>"
      ],
      "text/plain": [
       "                                                  Name  \\\n",
       "0                        10-Day Green Smoothie Cleanse   \n",
       "1                                    11/22/63: A Novel   \n",
       "2              12 Rules for Life: An Antidote to Chaos   \n",
       "3                               1984 (Signet Classics)   \n",
       "4    5,000 Awesome Facts (About Everything!) (Natio...   \n",
       "..                                                 ...   \n",
       "538  Winter of the World: Book Two of the Century T...   \n",
       "539  Women Food and God: An Unexpected Path to Almo...   \n",
       "544                                             Wonder   \n",
       "545       Wrecking Ball (Diary of a Wimpy Kid Book 14)   \n",
       "549  You Are a Badass: How to Stop Doubting Your Gr...   \n",
       "\n",
       "                       Author  User Rating  Reviews  Price  Year        Genre  \n",
       "0                    JJ Smith          4.7    17350      8  2016  Non Fiction  \n",
       "1                Stephen King          4.6     2052     22  2011      Fiction  \n",
       "2          Jordan B. Peterson          4.7    18979     15  2018  Non Fiction  \n",
       "3               George Orwell          4.7    21424      6  2017      Fiction  \n",
       "4    National Geographic Kids          4.8     7665     12  2019  Non Fiction  \n",
       "..                        ...          ...      ...    ...   ...          ...  \n",
       "538               Ken Follett          4.5    10760     15  2012      Fiction  \n",
       "539               Geneen Roth          4.2     1302     11  2010  Non Fiction  \n",
       "544             R. J. Palacio          4.8    21625      9  2017      Fiction  \n",
       "545               Jeff Kinney          4.9     9413      8  2019      Fiction  \n",
       "549               Jen Sincero          4.7    14331      8  2019  Non Fiction  \n",
       "\n",
       "[349 rows x 7 columns]"
      ]
     },
     "execution_count": 16,
     "metadata": {},
     "output_type": "execute_result"
    }
   ],
   "source": [
    "# Drop duplicates\n",
    "bestsellers = df.drop_duplicates(subset=\"Name\", keep=\"last\")\n",
    "bestsellers"
   ]
  },
  {
   "cell_type": "markdown",
   "metadata": {},
   "source": [
    "Resumen:\n",
    "- Hemos corregido los errores ortográficos de los títulos y autores.\n",
    "- Hemos seleccionado las muestras más recientes de cada libro.\n",
    "\n",
    "Hemos reducido el tamaño del dataset de 550 a 349 muestras."
   ]
  },
  {
   "cell_type": "markdown",
   "metadata": {},
   "source": [
    "### 3.3 Outlier Analysis"
   ]
  },
  {
   "cell_type": "markdown",
   "metadata": {},
   "source": [
    "#### 3.3.2 Usando boxplot y IQR \n",
    "IQR: El rango intercuartil (IQR) es la diferencia entre el tercer cuartil (Q3) y el primer cuartil (Q1). Los valores que caen por debajo de Q1 - 1.5 * IQR o por encima de Q3 + 1.5 * IQR se consideran outliers.\n",
    "\n",
    "Los valores fuera del de este rango, son los que se representa como puntos en los bloxpots.\n"
   ]
  },
  {
   "cell_type": "code",
   "execution_count": 17,
   "metadata": {},
   "outputs": [
    {
     "data": {
      "application/vnd.plotly.v1+json": {
       "config": {
        "plotlyServerURL": "https://plot.ly"
       },
       "data": [
        {
         "alignmentgroup": "True",
         "hovertemplate": "Reviews=%{x}<extra></extra>",
         "legendgroup": "",
         "marker": {
          "color": "#636efa"
         },
         "name": "",
         "notched": false,
         "offsetgroup": "",
         "orientation": "h",
         "showlegend": false,
         "type": "box",
         "x": [
          17350,
          2052,
          18979,
          21424,
          7665,
          12643,
          19735,
          19699,
          5983,
          23848,
          23848,
          460,
          4149,
          5153,
          5013,
          2313,
          2925,
          2951,
          2426,
          9198,
          36348,
          36348,
          6310,
          15921,
          12159,
          798,
          9374,
          491,
          5360,
          1909,
          1296,
          615,
          61133,
          61133,
          11113,
          10070,
          10070,
          3729,
          9769,
          471,
          14344,
          14344,
          4505,
          10369,
          16244,
          2884,
          22614,
          22614,
          22614,
          4761,
          1542,
          1542,
          1542,
          6143,
          4022,
          3871,
          4866,
          4866,
          1329,
          4642,
          1541,
          1924,
          2094,
          10922,
          10922,
          10922,
          10922,
          2137,
          1651,
          6679,
          6679,
          6812,
          3837,
          6540,
          7955,
          27098,
          27098,
          17684,
          37,
          15845,
          3181,
          5062,
          4786,
          7235,
          7235,
          12619,
          9089,
          5470,
          5118,
          2134,
          2525,
          720,
          956,
          6346,
          6346,
          5505,
          5505,
          28729,
          28729,
          5413,
          10721,
          10721,
          4370,
          6042,
          23631,
          20262,
          47265,
          47265,
          13964,
          13677,
          17323,
          17323,
          17323,
          17323,
          17323,
          1555,
          3642,
          1215,
          5594,
          5594,
          5594,
          408,
          4799,
          14038,
          14038,
          14038,
          14038,
          14038,
          7660,
          22288,
          22288,
          1365,
          14982,
          9568,
          1636,
          57271,
          57271,
          57271,
          10141,
          3457,
          3457,
          3457,
          3457,
          8837,
          8837,
          8837,
          7038,
          7038,
          5972,
          25624,
          5476,
          5867,
          4148,
          19622,
          23973,
          7758,
          3146,
          10052,
          3564,
          13471,
          1930,
          15779,
          15779,
          15526,
          15526,
          3776,
          25001,
          25001,
          25001,
          25001,
          25001,
          5272,
          3490,
          3490,
          2812,
          4896,
          9737,
          1320,
          16643,
          16643,
          7153,
          4571,
          29651,
          5299,
          7396,
          7396,
          7062,
          19576,
          19576,
          19576,
          19576,
          19576,
          19576,
          978,
          4748,
          8393,
          11391,
          8634,
          9342,
          9342,
          10927,
          5235,
          8916,
          2507,
          3673,
          3673,
          3673,
          11881,
          6990,
          6990,
          6990,
          6990,
          6990,
          6132,
          3014,
          7550,
          3828,
          2752,
          1467,
          1884,
          25706,
          8491,
          1649,
          18613,
          18613,
          9867,
          1386,
          10199,
          2926,
          17739,
          17739,
          17739,
          3113,
          5542,
          5542,
          5542,
          26741,
          26741,
          26741,
          5347,
          7866,
          5680,
          5178,
          8093,
          3192,
          21834,
          21834,
          21834,
          21834,
          21834,
          21834,
          21834,
          21834,
          6169,
          4519,
          3163,
          3163,
          1831,
          18904,
          21930,
          10426,
          10426,
          10820,
          10820,
          548,
          16990,
          16990,
          16990,
          3503,
          13616,
          13616,
          8580,
          8580,
          8580,
          8580,
          8580,
          8580,
          8580,
          8580,
          8580,
          8580,
          4757,
          10009,
          10009,
          1985,
          1985,
          22536,
          22536,
          7150,
          3836,
          7802,
          7802,
          3619,
          23047,
          23047,
          9366,
          1265,
          3923,
          2272,
          973,
          220,
          7827,
          7827,
          9382,
          5069,
          5069,
          5069,
          5069,
          5069,
          5069,
          5069,
          5069,
          5069,
          1583,
          1907,
          23114,
          637,
          637,
          2314,
          4587,
          3477,
          3477,
          3477,
          3477,
          3477,
          25554,
          25554,
          25554,
          25554,
          25554,
          1680,
          9325,
          9325,
          9325,
          9325,
          4725,
          4725,
          4725,
          35799,
          2580,
          11813,
          11813,
          3536,
          6600,
          1789,
          12361,
          858,
          23148,
          23148,
          8081,
          8081,
          23358,
          23358,
          9372,
          4633,
          13061,
          13061,
          3523,
          2774,
          440,
          8922,
          8922,
          8922,
          2023,
          1859,
          50482,
          50482,
          50482,
          50482,
          3207,
          3207,
          3207,
          3207,
          3207,
          803,
          23308,
          23308,
          23308,
          23308,
          23308,
          23308,
          5836,
          79446,
          79446,
          7747,
          7747,
          7251,
          7251,
          10559,
          10559,
          5249,
          5249,
          33844,
          33844,
          11616,
          11616,
          11616,
          13609,
          8587,
          29442,
          11098,
          9947,
          13871,
          13871,
          13871,
          13871,
          6982,
          32122,
          32122,
          32122,
          16949,
          16949,
          9289,
          9289,
          9289,
          7368,
          7368,
          4028,
          4628,
          4628,
          5396,
          4247,
          4247,
          22641,
          22641,
          22641,
          22641,
          6222,
          4506,
          8747,
          1655,
          7861,
          6247,
          39459,
          10101,
          5898,
          2744,
          49288,
          49288,
          1201,
          1201,
          1201,
          1201,
          1201,
          807,
          3759,
          2663,
          3428,
          2876,
          3601,
          7058,
          9784,
          9784,
          10795,
          10191,
          14493,
          2186,
          1204,
          2091,
          19720,
          19720,
          2122,
          27536,
          4290,
          26490,
          26490,
          26490,
          5487,
          6377,
          1463,
          3759,
          3503,
          11550,
          3801,
          3796,
          9030,
          19546,
          19546,
          19546,
          19546,
          19546,
          19546,
          19546,
          7508,
          7508,
          7508,
          8842,
          8842,
          8842,
          8842,
          30183,
          30183,
          6169,
          7034,
          11034,
          11034,
          7932,
          1904,
          3319,
          3319,
          11128,
          11128,
          11128,
          11128,
          5977,
          26234,
          26234,
          26234,
          26234,
          26234,
          4360,
          2282,
          438,
          11676,
          2586,
          29673,
          29673,
          29673,
          29673,
          29673,
          6740,
          5956,
          6108,
          4585,
          3829,
          8958,
          5492,
          9292,
          1873,
          8170,
          3341,
          7497,
          7497,
          13779,
          87841,
          9967,
          6669,
          17044,
          10760,
          1302,
          21625,
          21625,
          21625,
          21625,
          21625,
          9413,
          14331,
          14331,
          14331,
          14331
         ],
         "x0": " ",
         "xaxis": "x",
         "y0": " ",
         "yaxis": "y"
        }
       ],
       "layout": {
        "boxmode": "group",
        "legend": {
         "tracegroupgap": 0
        },
        "template": {
         "data": {
          "bar": [
           {
            "error_x": {
             "color": "#2a3f5f"
            },
            "error_y": {
             "color": "#2a3f5f"
            },
            "marker": {
             "line": {
              "color": "#E5ECF6",
              "width": 0.5
             },
             "pattern": {
              "fillmode": "overlay",
              "size": 10,
              "solidity": 0.2
             }
            },
            "type": "bar"
           }
          ],
          "barpolar": [
           {
            "marker": {
             "line": {
              "color": "#E5ECF6",
              "width": 0.5
             },
             "pattern": {
              "fillmode": "overlay",
              "size": 10,
              "solidity": 0.2
             }
            },
            "type": "barpolar"
           }
          ],
          "carpet": [
           {
            "aaxis": {
             "endlinecolor": "#2a3f5f",
             "gridcolor": "white",
             "linecolor": "white",
             "minorgridcolor": "white",
             "startlinecolor": "#2a3f5f"
            },
            "baxis": {
             "endlinecolor": "#2a3f5f",
             "gridcolor": "white",
             "linecolor": "white",
             "minorgridcolor": "white",
             "startlinecolor": "#2a3f5f"
            },
            "type": "carpet"
           }
          ],
          "choropleth": [
           {
            "colorbar": {
             "outlinewidth": 0,
             "ticks": ""
            },
            "type": "choropleth"
           }
          ],
          "contour": [
           {
            "colorbar": {
             "outlinewidth": 0,
             "ticks": ""
            },
            "colorscale": [
             [
              0,
              "#0d0887"
             ],
             [
              0.1111111111111111,
              "#46039f"
             ],
             [
              0.2222222222222222,
              "#7201a8"
             ],
             [
              0.3333333333333333,
              "#9c179e"
             ],
             [
              0.4444444444444444,
              "#bd3786"
             ],
             [
              0.5555555555555556,
              "#d8576b"
             ],
             [
              0.6666666666666666,
              "#ed7953"
             ],
             [
              0.7777777777777778,
              "#fb9f3a"
             ],
             [
              0.8888888888888888,
              "#fdca26"
             ],
             [
              1,
              "#f0f921"
             ]
            ],
            "type": "contour"
           }
          ],
          "contourcarpet": [
           {
            "colorbar": {
             "outlinewidth": 0,
             "ticks": ""
            },
            "type": "contourcarpet"
           }
          ],
          "heatmap": [
           {
            "colorbar": {
             "outlinewidth": 0,
             "ticks": ""
            },
            "colorscale": [
             [
              0,
              "#0d0887"
             ],
             [
              0.1111111111111111,
              "#46039f"
             ],
             [
              0.2222222222222222,
              "#7201a8"
             ],
             [
              0.3333333333333333,
              "#9c179e"
             ],
             [
              0.4444444444444444,
              "#bd3786"
             ],
             [
              0.5555555555555556,
              "#d8576b"
             ],
             [
              0.6666666666666666,
              "#ed7953"
             ],
             [
              0.7777777777777778,
              "#fb9f3a"
             ],
             [
              0.8888888888888888,
              "#fdca26"
             ],
             [
              1,
              "#f0f921"
             ]
            ],
            "type": "heatmap"
           }
          ],
          "heatmapgl": [
           {
            "colorbar": {
             "outlinewidth": 0,
             "ticks": ""
            },
            "colorscale": [
             [
              0,
              "#0d0887"
             ],
             [
              0.1111111111111111,
              "#46039f"
             ],
             [
              0.2222222222222222,
              "#7201a8"
             ],
             [
              0.3333333333333333,
              "#9c179e"
             ],
             [
              0.4444444444444444,
              "#bd3786"
             ],
             [
              0.5555555555555556,
              "#d8576b"
             ],
             [
              0.6666666666666666,
              "#ed7953"
             ],
             [
              0.7777777777777778,
              "#fb9f3a"
             ],
             [
              0.8888888888888888,
              "#fdca26"
             ],
             [
              1,
              "#f0f921"
             ]
            ],
            "type": "heatmapgl"
           }
          ],
          "histogram": [
           {
            "marker": {
             "pattern": {
              "fillmode": "overlay",
              "size": 10,
              "solidity": 0.2
             }
            },
            "type": "histogram"
           }
          ],
          "histogram2d": [
           {
            "colorbar": {
             "outlinewidth": 0,
             "ticks": ""
            },
            "colorscale": [
             [
              0,
              "#0d0887"
             ],
             [
              0.1111111111111111,
              "#46039f"
             ],
             [
              0.2222222222222222,
              "#7201a8"
             ],
             [
              0.3333333333333333,
              "#9c179e"
             ],
             [
              0.4444444444444444,
              "#bd3786"
             ],
             [
              0.5555555555555556,
              "#d8576b"
             ],
             [
              0.6666666666666666,
              "#ed7953"
             ],
             [
              0.7777777777777778,
              "#fb9f3a"
             ],
             [
              0.8888888888888888,
              "#fdca26"
             ],
             [
              1,
              "#f0f921"
             ]
            ],
            "type": "histogram2d"
           }
          ],
          "histogram2dcontour": [
           {
            "colorbar": {
             "outlinewidth": 0,
             "ticks": ""
            },
            "colorscale": [
             [
              0,
              "#0d0887"
             ],
             [
              0.1111111111111111,
              "#46039f"
             ],
             [
              0.2222222222222222,
              "#7201a8"
             ],
             [
              0.3333333333333333,
              "#9c179e"
             ],
             [
              0.4444444444444444,
              "#bd3786"
             ],
             [
              0.5555555555555556,
              "#d8576b"
             ],
             [
              0.6666666666666666,
              "#ed7953"
             ],
             [
              0.7777777777777778,
              "#fb9f3a"
             ],
             [
              0.8888888888888888,
              "#fdca26"
             ],
             [
              1,
              "#f0f921"
             ]
            ],
            "type": "histogram2dcontour"
           }
          ],
          "mesh3d": [
           {
            "colorbar": {
             "outlinewidth": 0,
             "ticks": ""
            },
            "type": "mesh3d"
           }
          ],
          "parcoords": [
           {
            "line": {
             "colorbar": {
              "outlinewidth": 0,
              "ticks": ""
             }
            },
            "type": "parcoords"
           }
          ],
          "pie": [
           {
            "automargin": true,
            "type": "pie"
           }
          ],
          "scatter": [
           {
            "fillpattern": {
             "fillmode": "overlay",
             "size": 10,
             "solidity": 0.2
            },
            "type": "scatter"
           }
          ],
          "scatter3d": [
           {
            "line": {
             "colorbar": {
              "outlinewidth": 0,
              "ticks": ""
             }
            },
            "marker": {
             "colorbar": {
              "outlinewidth": 0,
              "ticks": ""
             }
            },
            "type": "scatter3d"
           }
          ],
          "scattercarpet": [
           {
            "marker": {
             "colorbar": {
              "outlinewidth": 0,
              "ticks": ""
             }
            },
            "type": "scattercarpet"
           }
          ],
          "scattergeo": [
           {
            "marker": {
             "colorbar": {
              "outlinewidth": 0,
              "ticks": ""
             }
            },
            "type": "scattergeo"
           }
          ],
          "scattergl": [
           {
            "marker": {
             "colorbar": {
              "outlinewidth": 0,
              "ticks": ""
             }
            },
            "type": "scattergl"
           }
          ],
          "scattermapbox": [
           {
            "marker": {
             "colorbar": {
              "outlinewidth": 0,
              "ticks": ""
             }
            },
            "type": "scattermapbox"
           }
          ],
          "scatterpolar": [
           {
            "marker": {
             "colorbar": {
              "outlinewidth": 0,
              "ticks": ""
             }
            },
            "type": "scatterpolar"
           }
          ],
          "scatterpolargl": [
           {
            "marker": {
             "colorbar": {
              "outlinewidth": 0,
              "ticks": ""
             }
            },
            "type": "scatterpolargl"
           }
          ],
          "scatterternary": [
           {
            "marker": {
             "colorbar": {
              "outlinewidth": 0,
              "ticks": ""
             }
            },
            "type": "scatterternary"
           }
          ],
          "surface": [
           {
            "colorbar": {
             "outlinewidth": 0,
             "ticks": ""
            },
            "colorscale": [
             [
              0,
              "#0d0887"
             ],
             [
              0.1111111111111111,
              "#46039f"
             ],
             [
              0.2222222222222222,
              "#7201a8"
             ],
             [
              0.3333333333333333,
              "#9c179e"
             ],
             [
              0.4444444444444444,
              "#bd3786"
             ],
             [
              0.5555555555555556,
              "#d8576b"
             ],
             [
              0.6666666666666666,
              "#ed7953"
             ],
             [
              0.7777777777777778,
              "#fb9f3a"
             ],
             [
              0.8888888888888888,
              "#fdca26"
             ],
             [
              1,
              "#f0f921"
             ]
            ],
            "type": "surface"
           }
          ],
          "table": [
           {
            "cells": {
             "fill": {
              "color": "#EBF0F8"
             },
             "line": {
              "color": "white"
             }
            },
            "header": {
             "fill": {
              "color": "#C8D4E3"
             },
             "line": {
              "color": "white"
             }
            },
            "type": "table"
           }
          ]
         },
         "layout": {
          "annotationdefaults": {
           "arrowcolor": "#2a3f5f",
           "arrowhead": 0,
           "arrowwidth": 1
          },
          "autotypenumbers": "strict",
          "coloraxis": {
           "colorbar": {
            "outlinewidth": 0,
            "ticks": ""
           }
          },
          "colorscale": {
           "diverging": [
            [
             0,
             "#8e0152"
            ],
            [
             0.1,
             "#c51b7d"
            ],
            [
             0.2,
             "#de77ae"
            ],
            [
             0.3,
             "#f1b6da"
            ],
            [
             0.4,
             "#fde0ef"
            ],
            [
             0.5,
             "#f7f7f7"
            ],
            [
             0.6,
             "#e6f5d0"
            ],
            [
             0.7,
             "#b8e186"
            ],
            [
             0.8,
             "#7fbc41"
            ],
            [
             0.9,
             "#4d9221"
            ],
            [
             1,
             "#276419"
            ]
           ],
           "sequential": [
            [
             0,
             "#0d0887"
            ],
            [
             0.1111111111111111,
             "#46039f"
            ],
            [
             0.2222222222222222,
             "#7201a8"
            ],
            [
             0.3333333333333333,
             "#9c179e"
            ],
            [
             0.4444444444444444,
             "#bd3786"
            ],
            [
             0.5555555555555556,
             "#d8576b"
            ],
            [
             0.6666666666666666,
             "#ed7953"
            ],
            [
             0.7777777777777778,
             "#fb9f3a"
            ],
            [
             0.8888888888888888,
             "#fdca26"
            ],
            [
             1,
             "#f0f921"
            ]
           ],
           "sequentialminus": [
            [
             0,
             "#0d0887"
            ],
            [
             0.1111111111111111,
             "#46039f"
            ],
            [
             0.2222222222222222,
             "#7201a8"
            ],
            [
             0.3333333333333333,
             "#9c179e"
            ],
            [
             0.4444444444444444,
             "#bd3786"
            ],
            [
             0.5555555555555556,
             "#d8576b"
            ],
            [
             0.6666666666666666,
             "#ed7953"
            ],
            [
             0.7777777777777778,
             "#fb9f3a"
            ],
            [
             0.8888888888888888,
             "#fdca26"
            ],
            [
             1,
             "#f0f921"
            ]
           ]
          },
          "colorway": [
           "#636efa",
           "#EF553B",
           "#00cc96",
           "#ab63fa",
           "#FFA15A",
           "#19d3f3",
           "#FF6692",
           "#B6E880",
           "#FF97FF",
           "#FECB52"
          ],
          "font": {
           "color": "#2a3f5f"
          },
          "geo": {
           "bgcolor": "white",
           "lakecolor": "white",
           "landcolor": "#E5ECF6",
           "showlakes": true,
           "showland": true,
           "subunitcolor": "white"
          },
          "hoverlabel": {
           "align": "left"
          },
          "hovermode": "closest",
          "mapbox": {
           "style": "light"
          },
          "paper_bgcolor": "white",
          "plot_bgcolor": "#E5ECF6",
          "polar": {
           "angularaxis": {
            "gridcolor": "white",
            "linecolor": "white",
            "ticks": ""
           },
           "bgcolor": "#E5ECF6",
           "radialaxis": {
            "gridcolor": "white",
            "linecolor": "white",
            "ticks": ""
           }
          },
          "scene": {
           "xaxis": {
            "backgroundcolor": "#E5ECF6",
            "gridcolor": "white",
            "gridwidth": 2,
            "linecolor": "white",
            "showbackground": true,
            "ticks": "",
            "zerolinecolor": "white"
           },
           "yaxis": {
            "backgroundcolor": "#E5ECF6",
            "gridcolor": "white",
            "gridwidth": 2,
            "linecolor": "white",
            "showbackground": true,
            "ticks": "",
            "zerolinecolor": "white"
           },
           "zaxis": {
            "backgroundcolor": "#E5ECF6",
            "gridcolor": "white",
            "gridwidth": 2,
            "linecolor": "white",
            "showbackground": true,
            "ticks": "",
            "zerolinecolor": "white"
           }
          },
          "shapedefaults": {
           "line": {
            "color": "#2a3f5f"
           }
          },
          "ternary": {
           "aaxis": {
            "gridcolor": "white",
            "linecolor": "white",
            "ticks": ""
           },
           "baxis": {
            "gridcolor": "white",
            "linecolor": "white",
            "ticks": ""
           },
           "bgcolor": "#E5ECF6",
           "caxis": {
            "gridcolor": "white",
            "linecolor": "white",
            "ticks": ""
           }
          },
          "title": {
           "x": 0.05
          },
          "xaxis": {
           "automargin": true,
           "gridcolor": "white",
           "linecolor": "white",
           "ticks": "",
           "title": {
            "standoff": 15
           },
           "zerolinecolor": "white",
           "zerolinewidth": 2
          },
          "yaxis": {
           "automargin": true,
           "gridcolor": "white",
           "linecolor": "white",
           "ticks": "",
           "title": {
            "standoff": 15
           },
           "zerolinecolor": "white",
           "zerolinewidth": 2
          }
         }
        },
        "title": {
         "text": "Boxplot of Reviews",
         "x": 0.5
        },
        "xaxis": {
         "anchor": "y",
         "domain": [
          0,
          1
         ],
         "title": {
          "text": "Reviews"
         }
        },
        "yaxis": {
         "anchor": "x",
         "domain": [
          0,
          1
         ]
        }
       }
      }
     },
     "metadata": {},
     "output_type": "display_data"
    },
    {
     "data": {
      "application/vnd.plotly.v1+json": {
       "config": {
        "plotlyServerURL": "https://plot.ly"
       },
       "data": [
        {
         "alignmentgroup": "True",
         "hovertemplate": "Price=%{x}<extra></extra>",
         "legendgroup": "",
         "marker": {
          "color": "#636efa"
         },
         "name": "",
         "notched": false,
         "offsetgroup": "",
         "orientation": "h",
         "showlegend": false,
         "type": "box",
         "x": [
          8,
          22,
          15,
          6,
          12,
          11,
          30,
          15,
          3,
          8,
          8,
          2,
          32,
          5,
          17,
          4,
          6,
          6,
          8,
          13,
          14,
          14,
          13,
          9,
          13,
          5,
          9,
          14,
          5,
          11,
          24,
          21,
          11,
          11,
          15,
          13,
          13,
          18,
          13,
          8,
          5,
          5,
          0,
          4,
          18,
          28,
          11,
          11,
          11,
          16,
          14,
          14,
          14,
          8,
          4,
          5,
          11,
          11,
          10,
          13,
          4,
          8,
          4,
          5,
          5,
          5,
          5,
          17,
          15,
          105,
          105,
          0,
          15,
          22,
          5,
          15,
          15,
          6,
          6,
          13,
          12,
          6,
          8,
          4,
          4,
          8,
          8,
          6,
          20,
          5,
          16,
          1,
          14,
          9,
          9,
          7,
          18,
          15,
          15,
          9,
          8,
          8,
          15,
          2,
          7,
          11,
          14,
          14,
          32,
          6,
          4,
          4,
          4,
          4,
          4,
          9,
          0,
          9,
          5,
          5,
          5,
          20,
          16,
          4,
          4,
          4,
          4,
          4,
          12,
          12,
          12,
          11,
          19,
          9,
          6,
          10,
          10,
          9,
          6,
          14,
          14,
          14,
          14,
          5,
          5,
          5,
          7,
          7,
          10,
          14,
          7,
          54,
          11,
          30,
          12,
          18,
          30,
          22,
          9,
          52,
          4,
          10,
          10,
          14,
          14,
          22,
          11,
          11,
          11,
          11,
          11,
          16,
          15,
          15,
          17,
          17,
          7,
          7,
          4,
          4,
          9,
          21,
          14,
          20,
          13,
          13,
          12,
          8,
          8,
          8,
          8,
          8,
          8,
          0,
          12,
          17,
          12,
          25,
          10,
          10,
          6,
          5,
          6,
          8,
          4,
          4,
          4,
          13,
          4,
          4,
          4,
          4,
          4,
          13,
          21,
          6,
          15,
          18,
          10,
          0,
          12,
          7,
          13,
          5,
          5,
          16,
          20,
          11,
          27,
          8,
          8,
          8,
          6,
          10,
          10,
          10,
          8,
          8,
          8,
          16,
          11,
          10,
          9,
          14,
          22,
          8,
          8,
          8,
          8,
          8,
          8,
          8,
          8,
          7,
          12,
          13,
          13,
          9,
          13,
          11,
          20,
          20,
          5,
          5,
          2,
          27,
          27,
          27,
          9,
          10,
          10,
          46,
          46,
          46,
          46,
          46,
          46,
          46,
          46,
          46,
          46,
          4,
          20,
          7,
          9,
          9,
          12,
          12,
          12,
          12,
          20,
          20,
          10,
          6,
          6,
          9,
          11,
          16,
          6,
          25,
          17,
          20,
          20,
          6,
          17,
          17,
          17,
          17,
          17,
          17,
          17,
          17,
          17,
          18,
          13,
          18,
          20,
          20,
          22,
          21,
          28,
          28,
          28,
          28,
          28,
          8,
          8,
          8,
          8,
          8,
          12,
          24,
          24,
          24,
          24,
          16,
          16,
          16,
          39,
          9,
          10,
          10,
          17,
          11,
          14,
          12,
          53,
          6,
          6,
          8,
          8,
          12,
          12,
          12,
          21,
          6,
          6,
          13,
          0,
          11,
          9,
          9,
          9,
          15,
          11,
          13,
          13,
          7,
          13,
          6,
          6,
          6,
          6,
          6,
          9,
          6,
          6,
          6,
          6,
          6,
          6,
          0,
          18,
          7,
          14,
          14,
          9,
          16,
          2,
          2,
          5,
          5,
          20,
          20,
          7,
          7,
          7,
          14,
          10,
          7,
          13,
          11,
          6,
          6,
          8,
          7,
          14,
          14,
          8,
          8,
          30,
          30,
          13,
          9,
          9,
          7,
          7,
          9,
          7,
          7,
          20,
          13,
          13,
          11,
          11,
          11,
          11,
          18,
          14,
          19,
          13,
          5,
          10,
          9,
          8,
          8,
          12,
          11,
          11,
          40,
          40,
          40,
          40,
          40,
          36,
          16,
          17,
          14,
          21,
          18,
          17,
          5,
          5,
          21,
          18,
          18,
          12,
          14,
          12,
          8,
          8,
          0,
          14,
          10,
          15,
          15,
          15,
          9,
          7,
          10,
          6,
          9,
          10,
          82,
          12,
          10,
          5,
          5,
          5,
          5,
          5,
          5,
          5,
          16,
          16,
          16,
          10,
          10,
          10,
          10,
          4,
          4,
          16,
          15,
          19,
          19,
          9,
          23,
          11,
          11,
          23,
          23,
          23,
          23,
          12,
          0,
          0,
          0,
          0,
          7,
          21,
          21,
          15,
          9,
          5,
          16,
          16,
          16,
          13,
          16,
          20,
          11,
          4,
          9,
          42,
          12,
          18,
          17,
          14,
          13,
          9,
          6,
          6,
          14,
          15,
          13,
          12,
          18,
          15,
          11,
          9,
          9,
          9,
          9,
          9,
          8,
          8,
          8,
          8,
          8
         ],
         "x0": " ",
         "xaxis": "x",
         "y0": " ",
         "yaxis": "y"
        }
       ],
       "layout": {
        "boxmode": "group",
        "legend": {
         "tracegroupgap": 0
        },
        "template": {
         "data": {
          "bar": [
           {
            "error_x": {
             "color": "#2a3f5f"
            },
            "error_y": {
             "color": "#2a3f5f"
            },
            "marker": {
             "line": {
              "color": "#E5ECF6",
              "width": 0.5
             },
             "pattern": {
              "fillmode": "overlay",
              "size": 10,
              "solidity": 0.2
             }
            },
            "type": "bar"
           }
          ],
          "barpolar": [
           {
            "marker": {
             "line": {
              "color": "#E5ECF6",
              "width": 0.5
             },
             "pattern": {
              "fillmode": "overlay",
              "size": 10,
              "solidity": 0.2
             }
            },
            "type": "barpolar"
           }
          ],
          "carpet": [
           {
            "aaxis": {
             "endlinecolor": "#2a3f5f",
             "gridcolor": "white",
             "linecolor": "white",
             "minorgridcolor": "white",
             "startlinecolor": "#2a3f5f"
            },
            "baxis": {
             "endlinecolor": "#2a3f5f",
             "gridcolor": "white",
             "linecolor": "white",
             "minorgridcolor": "white",
             "startlinecolor": "#2a3f5f"
            },
            "type": "carpet"
           }
          ],
          "choropleth": [
           {
            "colorbar": {
             "outlinewidth": 0,
             "ticks": ""
            },
            "type": "choropleth"
           }
          ],
          "contour": [
           {
            "colorbar": {
             "outlinewidth": 0,
             "ticks": ""
            },
            "colorscale": [
             [
              0,
              "#0d0887"
             ],
             [
              0.1111111111111111,
              "#46039f"
             ],
             [
              0.2222222222222222,
              "#7201a8"
             ],
             [
              0.3333333333333333,
              "#9c179e"
             ],
             [
              0.4444444444444444,
              "#bd3786"
             ],
             [
              0.5555555555555556,
              "#d8576b"
             ],
             [
              0.6666666666666666,
              "#ed7953"
             ],
             [
              0.7777777777777778,
              "#fb9f3a"
             ],
             [
              0.8888888888888888,
              "#fdca26"
             ],
             [
              1,
              "#f0f921"
             ]
            ],
            "type": "contour"
           }
          ],
          "contourcarpet": [
           {
            "colorbar": {
             "outlinewidth": 0,
             "ticks": ""
            },
            "type": "contourcarpet"
           }
          ],
          "heatmap": [
           {
            "colorbar": {
             "outlinewidth": 0,
             "ticks": ""
            },
            "colorscale": [
             [
              0,
              "#0d0887"
             ],
             [
              0.1111111111111111,
              "#46039f"
             ],
             [
              0.2222222222222222,
              "#7201a8"
             ],
             [
              0.3333333333333333,
              "#9c179e"
             ],
             [
              0.4444444444444444,
              "#bd3786"
             ],
             [
              0.5555555555555556,
              "#d8576b"
             ],
             [
              0.6666666666666666,
              "#ed7953"
             ],
             [
              0.7777777777777778,
              "#fb9f3a"
             ],
             [
              0.8888888888888888,
              "#fdca26"
             ],
             [
              1,
              "#f0f921"
             ]
            ],
            "type": "heatmap"
           }
          ],
          "heatmapgl": [
           {
            "colorbar": {
             "outlinewidth": 0,
             "ticks": ""
            },
            "colorscale": [
             [
              0,
              "#0d0887"
             ],
             [
              0.1111111111111111,
              "#46039f"
             ],
             [
              0.2222222222222222,
              "#7201a8"
             ],
             [
              0.3333333333333333,
              "#9c179e"
             ],
             [
              0.4444444444444444,
              "#bd3786"
             ],
             [
              0.5555555555555556,
              "#d8576b"
             ],
             [
              0.6666666666666666,
              "#ed7953"
             ],
             [
              0.7777777777777778,
              "#fb9f3a"
             ],
             [
              0.8888888888888888,
              "#fdca26"
             ],
             [
              1,
              "#f0f921"
             ]
            ],
            "type": "heatmapgl"
           }
          ],
          "histogram": [
           {
            "marker": {
             "pattern": {
              "fillmode": "overlay",
              "size": 10,
              "solidity": 0.2
             }
            },
            "type": "histogram"
           }
          ],
          "histogram2d": [
           {
            "colorbar": {
             "outlinewidth": 0,
             "ticks": ""
            },
            "colorscale": [
             [
              0,
              "#0d0887"
             ],
             [
              0.1111111111111111,
              "#46039f"
             ],
             [
              0.2222222222222222,
              "#7201a8"
             ],
             [
              0.3333333333333333,
              "#9c179e"
             ],
             [
              0.4444444444444444,
              "#bd3786"
             ],
             [
              0.5555555555555556,
              "#d8576b"
             ],
             [
              0.6666666666666666,
              "#ed7953"
             ],
             [
              0.7777777777777778,
              "#fb9f3a"
             ],
             [
              0.8888888888888888,
              "#fdca26"
             ],
             [
              1,
              "#f0f921"
             ]
            ],
            "type": "histogram2d"
           }
          ],
          "histogram2dcontour": [
           {
            "colorbar": {
             "outlinewidth": 0,
             "ticks": ""
            },
            "colorscale": [
             [
              0,
              "#0d0887"
             ],
             [
              0.1111111111111111,
              "#46039f"
             ],
             [
              0.2222222222222222,
              "#7201a8"
             ],
             [
              0.3333333333333333,
              "#9c179e"
             ],
             [
              0.4444444444444444,
              "#bd3786"
             ],
             [
              0.5555555555555556,
              "#d8576b"
             ],
             [
              0.6666666666666666,
              "#ed7953"
             ],
             [
              0.7777777777777778,
              "#fb9f3a"
             ],
             [
              0.8888888888888888,
              "#fdca26"
             ],
             [
              1,
              "#f0f921"
             ]
            ],
            "type": "histogram2dcontour"
           }
          ],
          "mesh3d": [
           {
            "colorbar": {
             "outlinewidth": 0,
             "ticks": ""
            },
            "type": "mesh3d"
           }
          ],
          "parcoords": [
           {
            "line": {
             "colorbar": {
              "outlinewidth": 0,
              "ticks": ""
             }
            },
            "type": "parcoords"
           }
          ],
          "pie": [
           {
            "automargin": true,
            "type": "pie"
           }
          ],
          "scatter": [
           {
            "fillpattern": {
             "fillmode": "overlay",
             "size": 10,
             "solidity": 0.2
            },
            "type": "scatter"
           }
          ],
          "scatter3d": [
           {
            "line": {
             "colorbar": {
              "outlinewidth": 0,
              "ticks": ""
             }
            },
            "marker": {
             "colorbar": {
              "outlinewidth": 0,
              "ticks": ""
             }
            },
            "type": "scatter3d"
           }
          ],
          "scattercarpet": [
           {
            "marker": {
             "colorbar": {
              "outlinewidth": 0,
              "ticks": ""
             }
            },
            "type": "scattercarpet"
           }
          ],
          "scattergeo": [
           {
            "marker": {
             "colorbar": {
              "outlinewidth": 0,
              "ticks": ""
             }
            },
            "type": "scattergeo"
           }
          ],
          "scattergl": [
           {
            "marker": {
             "colorbar": {
              "outlinewidth": 0,
              "ticks": ""
             }
            },
            "type": "scattergl"
           }
          ],
          "scattermapbox": [
           {
            "marker": {
             "colorbar": {
              "outlinewidth": 0,
              "ticks": ""
             }
            },
            "type": "scattermapbox"
           }
          ],
          "scatterpolar": [
           {
            "marker": {
             "colorbar": {
              "outlinewidth": 0,
              "ticks": ""
             }
            },
            "type": "scatterpolar"
           }
          ],
          "scatterpolargl": [
           {
            "marker": {
             "colorbar": {
              "outlinewidth": 0,
              "ticks": ""
             }
            },
            "type": "scatterpolargl"
           }
          ],
          "scatterternary": [
           {
            "marker": {
             "colorbar": {
              "outlinewidth": 0,
              "ticks": ""
             }
            },
            "type": "scatterternary"
           }
          ],
          "surface": [
           {
            "colorbar": {
             "outlinewidth": 0,
             "ticks": ""
            },
            "colorscale": [
             [
              0,
              "#0d0887"
             ],
             [
              0.1111111111111111,
              "#46039f"
             ],
             [
              0.2222222222222222,
              "#7201a8"
             ],
             [
              0.3333333333333333,
              "#9c179e"
             ],
             [
              0.4444444444444444,
              "#bd3786"
             ],
             [
              0.5555555555555556,
              "#d8576b"
             ],
             [
              0.6666666666666666,
              "#ed7953"
             ],
             [
              0.7777777777777778,
              "#fb9f3a"
             ],
             [
              0.8888888888888888,
              "#fdca26"
             ],
             [
              1,
              "#f0f921"
             ]
            ],
            "type": "surface"
           }
          ],
          "table": [
           {
            "cells": {
             "fill": {
              "color": "#EBF0F8"
             },
             "line": {
              "color": "white"
             }
            },
            "header": {
             "fill": {
              "color": "#C8D4E3"
             },
             "line": {
              "color": "white"
             }
            },
            "type": "table"
           }
          ]
         },
         "layout": {
          "annotationdefaults": {
           "arrowcolor": "#2a3f5f",
           "arrowhead": 0,
           "arrowwidth": 1
          },
          "autotypenumbers": "strict",
          "coloraxis": {
           "colorbar": {
            "outlinewidth": 0,
            "ticks": ""
           }
          },
          "colorscale": {
           "diverging": [
            [
             0,
             "#8e0152"
            ],
            [
             0.1,
             "#c51b7d"
            ],
            [
             0.2,
             "#de77ae"
            ],
            [
             0.3,
             "#f1b6da"
            ],
            [
             0.4,
             "#fde0ef"
            ],
            [
             0.5,
             "#f7f7f7"
            ],
            [
             0.6,
             "#e6f5d0"
            ],
            [
             0.7,
             "#b8e186"
            ],
            [
             0.8,
             "#7fbc41"
            ],
            [
             0.9,
             "#4d9221"
            ],
            [
             1,
             "#276419"
            ]
           ],
           "sequential": [
            [
             0,
             "#0d0887"
            ],
            [
             0.1111111111111111,
             "#46039f"
            ],
            [
             0.2222222222222222,
             "#7201a8"
            ],
            [
             0.3333333333333333,
             "#9c179e"
            ],
            [
             0.4444444444444444,
             "#bd3786"
            ],
            [
             0.5555555555555556,
             "#d8576b"
            ],
            [
             0.6666666666666666,
             "#ed7953"
            ],
            [
             0.7777777777777778,
             "#fb9f3a"
            ],
            [
             0.8888888888888888,
             "#fdca26"
            ],
            [
             1,
             "#f0f921"
            ]
           ],
           "sequentialminus": [
            [
             0,
             "#0d0887"
            ],
            [
             0.1111111111111111,
             "#46039f"
            ],
            [
             0.2222222222222222,
             "#7201a8"
            ],
            [
             0.3333333333333333,
             "#9c179e"
            ],
            [
             0.4444444444444444,
             "#bd3786"
            ],
            [
             0.5555555555555556,
             "#d8576b"
            ],
            [
             0.6666666666666666,
             "#ed7953"
            ],
            [
             0.7777777777777778,
             "#fb9f3a"
            ],
            [
             0.8888888888888888,
             "#fdca26"
            ],
            [
             1,
             "#f0f921"
            ]
           ]
          },
          "colorway": [
           "#636efa",
           "#EF553B",
           "#00cc96",
           "#ab63fa",
           "#FFA15A",
           "#19d3f3",
           "#FF6692",
           "#B6E880",
           "#FF97FF",
           "#FECB52"
          ],
          "font": {
           "color": "#2a3f5f"
          },
          "geo": {
           "bgcolor": "white",
           "lakecolor": "white",
           "landcolor": "#E5ECF6",
           "showlakes": true,
           "showland": true,
           "subunitcolor": "white"
          },
          "hoverlabel": {
           "align": "left"
          },
          "hovermode": "closest",
          "mapbox": {
           "style": "light"
          },
          "paper_bgcolor": "white",
          "plot_bgcolor": "#E5ECF6",
          "polar": {
           "angularaxis": {
            "gridcolor": "white",
            "linecolor": "white",
            "ticks": ""
           },
           "bgcolor": "#E5ECF6",
           "radialaxis": {
            "gridcolor": "white",
            "linecolor": "white",
            "ticks": ""
           }
          },
          "scene": {
           "xaxis": {
            "backgroundcolor": "#E5ECF6",
            "gridcolor": "white",
            "gridwidth": 2,
            "linecolor": "white",
            "showbackground": true,
            "ticks": "",
            "zerolinecolor": "white"
           },
           "yaxis": {
            "backgroundcolor": "#E5ECF6",
            "gridcolor": "white",
            "gridwidth": 2,
            "linecolor": "white",
            "showbackground": true,
            "ticks": "",
            "zerolinecolor": "white"
           },
           "zaxis": {
            "backgroundcolor": "#E5ECF6",
            "gridcolor": "white",
            "gridwidth": 2,
            "linecolor": "white",
            "showbackground": true,
            "ticks": "",
            "zerolinecolor": "white"
           }
          },
          "shapedefaults": {
           "line": {
            "color": "#2a3f5f"
           }
          },
          "ternary": {
           "aaxis": {
            "gridcolor": "white",
            "linecolor": "white",
            "ticks": ""
           },
           "baxis": {
            "gridcolor": "white",
            "linecolor": "white",
            "ticks": ""
           },
           "bgcolor": "#E5ECF6",
           "caxis": {
            "gridcolor": "white",
            "linecolor": "white",
            "ticks": ""
           }
          },
          "title": {
           "x": 0.05
          },
          "xaxis": {
           "automargin": true,
           "gridcolor": "white",
           "linecolor": "white",
           "ticks": "",
           "title": {
            "standoff": 15
           },
           "zerolinecolor": "white",
           "zerolinewidth": 2
          },
          "yaxis": {
           "automargin": true,
           "gridcolor": "white",
           "linecolor": "white",
           "ticks": "",
           "title": {
            "standoff": 15
           },
           "zerolinecolor": "white",
           "zerolinewidth": 2
          }
         }
        },
        "title": {
         "text": "Boxplot of Price",
         "x": 0.5
        },
        "xaxis": {
         "anchor": "y",
         "domain": [
          0,
          1
         ],
         "title": {
          "text": "Price"
         }
        },
        "yaxis": {
         "anchor": "x",
         "domain": [
          0,
          1
         ]
        }
       }
      }
     },
     "metadata": {},
     "output_type": "display_data"
    }
   ],
   "source": [
    "import plotly.express as px\n",
    "\n",
    "selected_columns = [\"Reviews\", \"Price\"]\n",
    "\n",
    "for column in selected_columns:\n",
    "    fig = px.box(df, x=column, title=f\"Boxplot of {column}\")\n",
    "    fig.update_layout(title_x=0.5)  # Centra el título\n",
    "    fig.show()"
   ]
  },
  {
   "cell_type": "markdown",
   "metadata": {},
   "source": [
    "Observaciones:\n",
    "\n",
    "- age: no se detectan outliers\n",
    "- BMI: existen outliers, personas con una alta obesidad\n",
    "- charges: existen outliers, personas con cargos muy altos al seguro\n"
   ]
  },
  {
   "cell_type": "markdown",
   "metadata": {},
   "source": [
    "### 3.4 Zero & Near Zero Variance Features\n"
   ]
  },
  {
   "cell_type": "code",
   "execution_count": 18,
   "metadata": {},
   "outputs": [
    {
     "data": {
      "text/html": [
       "<div>\n",
       "<style scoped>\n",
       "    .dataframe tbody tr th:only-of-type {\n",
       "        vertical-align: middle;\n",
       "    }\n",
       "\n",
       "    .dataframe tbody tr th {\n",
       "        vertical-align: top;\n",
       "    }\n",
       "\n",
       "    .dataframe thead th {\n",
       "        text-align: right;\n",
       "    }\n",
       "</style>\n",
       "<table border=\"1\" class=\"dataframe\">\n",
       "  <thead>\n",
       "    <tr style=\"text-align: right;\">\n",
       "      <th></th>\n",
       "      <th>User Rating</th>\n",
       "      <th>Reviews</th>\n",
       "      <th>Price</th>\n",
       "      <th>Year</th>\n",
       "    </tr>\n",
       "  </thead>\n",
       "  <tbody>\n",
       "    <tr>\n",
       "      <th>count</th>\n",
       "      <td>349.000000</td>\n",
       "      <td>349.000000</td>\n",
       "      <td>349.000000</td>\n",
       "      <td>349.000000</td>\n",
       "    </tr>\n",
       "    <tr>\n",
       "      <th>mean</th>\n",
       "      <td>4.608596</td>\n",
       "      <td>9811.922636</td>\n",
       "      <td>12.962751</td>\n",
       "      <td>2014.128940</td>\n",
       "    </tr>\n",
       "    <tr>\n",
       "      <th>std</th>\n",
       "      <td>0.227266</td>\n",
       "      <td>10899.783863</td>\n",
       "      <td>10.011562</td>\n",
       "      <td>3.377239</td>\n",
       "    </tr>\n",
       "    <tr>\n",
       "      <th>min</th>\n",
       "      <td>3.300000</td>\n",
       "      <td>37.000000</td>\n",
       "      <td>0.000000</td>\n",
       "      <td>2009.000000</td>\n",
       "    </tr>\n",
       "    <tr>\n",
       "      <th>25%</th>\n",
       "      <td>4.500000</td>\n",
       "      <td>3428.000000</td>\n",
       "      <td>8.000000</td>\n",
       "      <td>2011.000000</td>\n",
       "    </tr>\n",
       "    <tr>\n",
       "      <th>50%</th>\n",
       "      <td>4.600000</td>\n",
       "      <td>6310.000000</td>\n",
       "      <td>11.000000</td>\n",
       "      <td>2014.000000</td>\n",
       "    </tr>\n",
       "    <tr>\n",
       "      <th>75%</th>\n",
       "      <td>4.800000</td>\n",
       "      <td>11550.000000</td>\n",
       "      <td>16.000000</td>\n",
       "      <td>2017.000000</td>\n",
       "    </tr>\n",
       "    <tr>\n",
       "      <th>max</th>\n",
       "      <td>4.900000</td>\n",
       "      <td>87841.000000</td>\n",
       "      <td>105.000000</td>\n",
       "      <td>2019.000000</td>\n",
       "    </tr>\n",
       "  </tbody>\n",
       "</table>\n",
       "</div>"
      ],
      "text/plain": [
       "       User Rating       Reviews       Price         Year\n",
       "count   349.000000    349.000000  349.000000   349.000000\n",
       "mean      4.608596   9811.922636   12.962751  2014.128940\n",
       "std       0.227266  10899.783863   10.011562     3.377239\n",
       "min       3.300000     37.000000    0.000000  2009.000000\n",
       "25%       4.500000   3428.000000    8.000000  2011.000000\n",
       "50%       4.600000   6310.000000   11.000000  2014.000000\n",
       "75%       4.800000  11550.000000   16.000000  2017.000000\n",
       "max       4.900000  87841.000000  105.000000  2019.000000"
      ]
     },
     "execution_count": 18,
     "metadata": {},
     "output_type": "execute_result"
    }
   ],
   "source": [
    "bestsellers.describe()"
   ]
  },
  {
   "cell_type": "markdown",
   "metadata": {},
   "source": [
    "Variables númericas"
   ]
  },
  {
   "cell_type": "code",
   "execution_count": 19,
   "metadata": {},
   "outputs": [
    {
     "name": "stdout",
     "output_type": "stream",
     "text": [
      "Columnas con Zero & Near Zero Variance:\n",
      "Index(['User Rating'], dtype='object')\n"
     ]
    }
   ],
   "source": [
    "selected_columns = [\"User Rating\", \"Reviews\", \"Price\"]\n",
    "\n",
    "# Calcular la varianza de cada columna\n",
    "variances = bestsellers[selected_columns].var()\n",
    "\n",
    "# Definir un umbral para la varianza\n",
    "threshold = 0.1\n",
    "\n",
    "# Identificar las columnas con varianza cercana a cero o muy pequeña\n",
    "zero_variance_cols = variances[variances <= threshold].index\n",
    "\n",
    "print(\"Columnas con Zero & Near Zero Variance:\")\n",
    "print(zero_variance_cols)"
   ]
  },
  {
   "cell_type": "markdown",
   "metadata": {},
   "source": [
    "Variables categoricas. No tiene sentido en este analisis en este caso."
   ]
  },
  {
   "cell_type": "markdown",
   "metadata": {},
   "source": [
    "Observiaciones:\n",
    "\n",
    "- No se detectan variables con Zero & Near Zero Variance"
   ]
  },
  {
   "cell_type": "markdown",
   "metadata": {},
   "source": [
    "### 3.5 Missing values\n"
   ]
  },
  {
   "cell_type": "code",
   "execution_count": 20,
   "metadata": {},
   "outputs": [
    {
     "data": {
      "text/plain": [
       "Name           0\n",
       "Author         0\n",
       "User Rating    0\n",
       "Reviews        0\n",
       "Price          0\n",
       "Year           0\n",
       "Genre          0\n",
       "dtype: int64"
      ]
     },
     "execution_count": 20,
     "metadata": {},
     "output_type": "execute_result"
    }
   ],
   "source": [
    "bestsellers.isnull().sum()"
   ]
  },
  {
   "cell_type": "markdown",
   "metadata": {},
   "source": [
    "Observiaciones:\n",
    "\n",
    "- No hay Missing values"
   ]
  },
  {
   "cell_type": "markdown",
   "metadata": {},
   "source": [
    "# 4. Hipothesis Testing"
   ]
  },
  {
   "cell_type": "markdown",
   "metadata": {},
   "source": [
    "Vamos a responder a las siguientes preguntas con validez estadística:\n",
    "- ¿Los géneros difieren en User Rating?\n",
    "- ¿Los géneros difieren en número de Reviews?\n",
    "- ¿Los géneros difieren en términos de precio?"
   ]
  },
  {
   "cell_type": "markdown",
   "metadata": {},
   "source": [
    "## ¿Los géneros difieren en User Rating?"
   ]
  },
  {
   "cell_type": "markdown",
   "metadata": {},
   "source": [
    "Vamos a crear una variable para cada grupo de interes y representarlos gráficamente."
   ]
  },
  {
   "cell_type": "code",
   "execution_count": 42,
   "metadata": {},
   "outputs": [],
   "source": [
    "fiction_bestsellers = bestsellers[bestsellers[\"Genre\"] == \"Fiction\"]\n",
    "nonfiction_bestsellers = bestsellers[bestsellers[\"Genre\"] == \"Non Fiction\"]"
   ]
  },
  {
   "cell_type": "code",
   "execution_count": 43,
   "metadata": {},
   "outputs": [
    {
     "data": {
      "image/png": "[encoded data removed]",
      "text/plain": [
       "<Figure size 640x480 with 1 Axes>"
      ]
     },
     "metadata": {},
     "output_type": "display_data"
    }
   ],
   "source": [
    "sns.kdeplot(fiction_bestsellers[\"User Rating\"], fill=True, color=\"r\")\n",
    "sns.kdeplot(nonfiction_bestsellers[\"User Rating\"], fill=True, color=\"b\")\n",
    "plt.legend([\"Fiction\", \"Non Fiction\"])\n",
    "plt.xlabel(\"User Rating\")\n",
    "plt.ylabel(\"Density\")\n",
    "plt.show()"
   ]
  },
  {
   "cell_type": "code",
   "execution_count": 41,
   "metadata": {},
   "outputs": [
    {
     "name": "stdout",
     "output_type": "stream",
     "text": [
      "Coeficiente de asimetría: -1.521358275451138\n",
      "La distribución está negativamente sesgada.\n"
     ]
    }
   ],
   "source": [
    "# Calcular el coeficiente de asimetría\n",
    "skewness = stats.skew(bestsellers[\"User Rating\"])\n",
    "print(\"Coeficiente de asimetría:\", skewness)\n",
    "\n",
    "if skewness > 0:\n",
    "    print(\"La distribución está positivamente sesgada.\")\n",
    "elif skewness < 0:\n",
    "    print(\"La distribución está negativamente sesgada.\")\n",
    "else:\n",
    "    print(\"La distribución es simétrica.\")"
   ]
  },
  {
   "cell_type": "markdown",
   "metadata": {},
   "source": [
    "Número de observaciones para cada grupo:"
   ]
  },
  {
   "cell_type": "code",
   "execution_count": 44,
   "metadata": {},
   "outputs": [
    {
     "data": {
      "text/plain": [
       "Genre\n",
       "Non Fiction    190\n",
       "Fiction        159\n",
       "Name: count, dtype: int64"
      ]
     },
     "execution_count": 44,
     "metadata": {},
     "output_type": "execute_result"
    }
   ],
   "source": [
    "bestsellers[\"Genre\"].value_counts()"
   ]
  },
  {
   "cell_type": "markdown",
   "metadata": {},
   "source": [
    "Realizamos un test de normalidad para cada grupo:"
   ]
  },
  {
   "cell_type": "code",
   "execution_count": 54,
   "metadata": {},
   "outputs": [
    {
     "name": "stdout",
     "output_type": "stream",
     "text": [
      "Para bestsellers de ficción: Rechazamos la hipótesis nula. Los datos no siguen una distribución normal.\n",
      "Para bestsellers de no ficción: Rechazamos la hipótesis nula. Los datos no siguen una distribución normal.\n"
     ]
    }
   ],
   "source": [
    "from scipy import stats\n",
    "\n",
    "\n",
    "def shapiro_test(data, alpha=0.05):\n",
    "    \"\"\"\n",
    "    Realiza la prueba de Shapiro-Wilk para verificar la normalidad de los datos.\n",
    "\n",
    "    Parameters:\n",
    "    data (array-like): Los datos a analizar.\n",
    "    alpha (float): Nivel de significancia.\n",
    "\n",
    "    Returns:\n",
    "    str: El resultado de la prueba.\n",
    "    \"\"\"\n",
    "    statistic, p_value = stats.shapiro(data)\n",
    "\n",
    "    if p_value < alpha:\n",
    "        return (\n",
    "            \"Rechazamos la hipótesis nula. Los datos no siguen una distribución normal.\"\n",
    "        )\n",
    "    else:\n",
    "        return \"Fallamos al rechazar la hipótesis nula. Los datos pueden considerarse normalmente distribuidos.\"\n",
    "\n",
    "\n",
    "result_fiction = shapiro_test(fiction_bestsellers[\"User Rating\"])\n",
    "result_nonfiction = shapiro_test(nonfiction_bestsellers[\"User Rating\"])\n",
    "\n",
    "print(\"Para bestsellers de ficción:\", result_fiction)\n",
    "print(\"Para bestsellers de no ficción:\", result_nonfiction)"
   ]
  },
  {
   "cell_type": "markdown",
   "metadata": {},
   "source": [
    "Estudiemos la relación entre las varianzas de cada grupo."
   ]
  },
  {
   "cell_type": "code",
   "execution_count": 71,
   "metadata": {},
   "outputs": [
    {
     "name": "stdout",
     "output_type": "stream",
     "text": [
      "Rechazamos la hipótesis nula. Las varianzas no son similares\n"
     ]
    }
   ],
   "source": [
    "# Realiza el Test de Levene\n",
    "statistic, p_value = stats.levene(\n",
    "    fiction_bestsellers[\"User Rating\"], nonfiction_bestsellers[\"User Rating\"]\n",
    ")\n",
    "\n",
    "# Nivel de significancia\n",
    "alpha = 0.05\n",
    "\n",
    "# Comprueba la significancia\n",
    "if p_value < alpha:\n",
    "    print(\"Rechazamos la hipótesis nula. Las varianzas no son similares\")\n",
    "else:\n",
    "    print(\"Fallamos al rechazar la hipótesis nula. Las varianzas son similares\")"
   ]
  },
  {
   "cell_type": "code",
   "execution_count": 70,
   "metadata": {},
   "outputs": [
    {
     "data": {
      "text/plain": [
       "Genre\n",
       "Fiction        0.075720\n",
       "Non Fiction    0.031736\n",
       "Name: User Rating, dtype: float64"
      ]
     },
     "execution_count": 70,
     "metadata": {},
     "output_type": "execute_result"
    }
   ],
   "source": [
    "# varianza de los grupos\n",
    "bestsellers.groupby([\"Genre\"])[\"User Rating\"].var()"
   ]
  },
  {
   "cell_type": "markdown",
   "metadata": {},
   "source": [
    "### 1. Seleccionamos la hipotesis y el nivel de significancia\n",
    "\n",
    "H0: El \"User Rating\" de los libros de ficción es igual que el de los libros de no ficción\n",
    "\n",
    "Ha: El \"User Rating\" de los libros de ficción es diferente que el de los libros de no ficción\n",
    "\n",
    "alpha = 0.05\n",
    "\n",
    "### 2. Identificamos el tipo de test\n",
    "\n",
    "Deseamos comparar las medias de dos grupos de nuestra Sample. Por lo que un 2-Sample t-Test parece lo adecuado. Lo primero es ver si se cumplen los requisitos del test.\n",
    "\n",
    "#### 2.1 Requisitos del test\n",
    "[Book:Hypothesis Testing An Intuitive Guide For Making Data Driven Decisions\n",
    "Page: 48\n",
    "Section: 2-Sample t-Tests]\n",
    "- Tenemos un Sample representativo de la población? Si.\n",
    "- Los datos son continuos? \n",
    "  - En este contexto, los \"User Rating\" que van de 0 a 5 con un único decimal pueden considerarse como datos continuos. Sim embargo, observando las gráficas, vemos que la mayoría de los valores se encuetran en un intervalor muy pequeño (mayores a 4.0). Esto dificulta el poder considerarlo continuos.\n",
    "- Las muestras siguen una distribución normal o hay más de 15 observaciones\n",
    "  - No, las muestras no siguen una distribución normal. Pero hay más de 15 observaciones en cada grupo, gracias al teorema del límite central podemos renunciar al supuesto de normalidad.\n",
    "- Los grupos son independientes? Si.\n",
    "- Las varianzas son iguales (o al menos similares)?\n",
    "  - No.\n",
    "\n",
    "\n",
    "Por la falta de continuidad en los datos, vamos a realizar un **test no paramétrico Mann-Whitney**.\n",
    "\n",
    "[Book:Hypothesis Testing An Intuitive Guide For Making Data Driven Decisions\n",
    "Page: 341\n",
    "Section: Analyzing Likert Scale Data]\n",
    "\n",
    "Para realizar el test vamos a usar [scipy.stats.mannwhitneyu](https://docs.scipy.org/doc/scipy/reference/generated/scipy.stats.mannwhitneyu.html)"
   ]
  },
  {
   "cell_type": "code",
   "execution_count": 56,
   "metadata": {},
   "outputs": [
    {
     "name": "stdout",
     "output_type": "stream",
     "text": [
      "Valor p: 0.019840907319029977\n",
      "Rechazamos la hipótesis nula. Hay diferencias significativas entre los grupos.\n"
     ]
    }
   ],
   "source": [
    "# Realiza el test de Mann-Whitney\n",
    "statistic, p_value = stats.mannwhitneyu(\n",
    "    nonfiction_bestsellers[\"User Rating\"], fiction_bestsellers[\"User Rating\"]\n",
    ")\n",
    "\n",
    "# Imprime los resultados\n",
    "print(\"Valor p:\", p_value)\n",
    "\n",
    "# Comprueba la significancia\n",
    "alpha = 0.05  # Nivel de significancia\n",
    "if p_value < alpha:\n",
    "    print(\n",
    "        \"Rechazamos la hipótesis nula. Hay diferencias significativas entre los grupos.\"\n",
    "    )\n",
    "else:\n",
    "    print(\n",
    "        \"Fallamos al rechazar la hipótesis nula. No hay diferencias significativas entre los grupos.\"\n",
    "    )"
   ]
  },
  {
   "cell_type": "markdown",
   "metadata": {},
   "source": [
    "## ¿Los géneros difieren en número de Reviews?"
   ]
  },
  {
   "cell_type": "markdown",
   "metadata": {},
   "source": [
    "Representamos gráficamente los grupos de interés."
   ]
  },
  {
   "cell_type": "code",
   "execution_count": 31,
   "metadata": {},
   "outputs": [
    {
     "data": {
      "image/png": "[encoded data removed]",
      "text/plain": [
       "<Figure size 640x480 with 1 Axes>"
      ]
     },
     "metadata": {},
     "output_type": "display_data"
    }
   ],
   "source": [
    "sns.kdeplot(fiction_bestsellers[\"Reviews\"], fill=True, color=\"r\")\n",
    "sns.kdeplot(nonfiction_bestsellers[\"Reviews\"], fill=True, color=\"b\")\n",
    "plt.legend([\"Fiction\", \"Non Fiction\"])\n",
    "plt.xlabel(\"User Rating\")\n",
    "plt.ylabel(\"Density\")\n",
    "plt.show()"
   ]
  },
  {
   "cell_type": "code",
   "execution_count": 64,
   "metadata": {},
   "outputs": [
    {
     "name": "stdout",
     "output_type": "stream",
     "text": [
      "Coeficiente de asimetría: 3.119812029552558\n",
      "La distribución está positivamente sesgada.\n"
     ]
    }
   ],
   "source": [
    "# Calcular el coeficiente de asimetría\n",
    "skewness = stats.skew(bestsellers[\"Reviews\"])\n",
    "print(\"Coeficiente de asimetría:\", skewness)\n",
    "\n",
    "if skewness > 0:\n",
    "    print(\"La distribución está positivamente sesgada.\")\n",
    "elif skewness < 0:\n",
    "    print(\"La distribución está negativamente sesgada.\")\n",
    "else:\n",
    "    print(\"La distribución es simétrica.\")"
   ]
  },
  {
   "cell_type": "markdown",
   "metadata": {},
   "source": [
    "Número de observaciones para cada grupo:"
   ]
  },
  {
   "cell_type": "code",
   "execution_count": null,
   "metadata": {},
   "outputs": [
    {
     "data": {
      "text/plain": [
       "Genre\n",
       "Non Fiction    190\n",
       "Fiction        159\n",
       "Name: count, dtype: int64"
      ]
     },
     "metadata": {},
     "output_type": "display_data"
    }
   ],
   "source": [
    "bestsellers[\"Genre\"].value_counts()"
   ]
  },
  {
   "cell_type": "markdown",
   "metadata": {},
   "source": [
    "Realizamos un test de normalidad para cada grupo:"
   ]
  },
  {
   "cell_type": "code",
   "execution_count": 65,
   "metadata": {},
   "outputs": [
    {
     "name": "stdout",
     "output_type": "stream",
     "text": [
      "Para bestsellers de ficción: Rechazamos la hipótesis nula. Los datos no siguen una distribución normal.\n",
      "Para bestsellers de no ficción: Rechazamos la hipótesis nula. Los datos no siguen una distribución normal.\n"
     ]
    }
   ],
   "source": [
    "from scipy import stats\n",
    "\n",
    "\n",
    "def shapiro_test(data, alpha=0.05):\n",
    "    \"\"\"\n",
    "    Realiza la prueba de Shapiro-Wilk para verificar la normalidad de los datos.\n",
    "\n",
    "    Parameters:\n",
    "    data (array-like): Los datos a analizar.\n",
    "    alpha (float): Nivel de significancia.\n",
    "\n",
    "    Returns:\n",
    "    str: El resultado de la prueba.\n",
    "    \"\"\"\n",
    "    statistic, p_value = stats.shapiro(data)\n",
    "\n",
    "    if p_value < alpha:\n",
    "        return (\n",
    "            \"Rechazamos la hipótesis nula. Los datos no siguen una distribución normal.\"\n",
    "        )\n",
    "    else:\n",
    "        return \"Fallamos al rechazar la hipótesis nula. Los datos pueden considerarse normalmente distribuidos.\"\n",
    "\n",
    "\n",
    "result_fiction = shapiro_test(fiction_bestsellers[\"Reviews\"])\n",
    "result_nonfiction = shapiro_test(nonfiction_bestsellers[\"Reviews\"])\n",
    "\n",
    "print(\"Para bestsellers de ficción:\", result_fiction)\n",
    "print(\"Para bestsellers de no ficción:\", result_nonfiction)"
   ]
  },
  {
   "cell_type": "markdown",
   "metadata": {},
   "source": [
    "Estudiemos la relación entre las varianzas de cada grupo."
   ]
  },
  {
   "cell_type": "code",
   "execution_count": 66,
   "metadata": {},
   "outputs": [
    {
     "data": {
      "text/plain": [
       "Genre\n",
       "Fiction        1.781185e+08\n",
       "Non Fiction    5.265203e+07\n",
       "Name: Reviews, dtype: float64"
      ]
     },
     "execution_count": 66,
     "metadata": {},
     "output_type": "execute_result"
    }
   ],
   "source": [
    "# varianza de los grupos\n",
    "bestsellers.groupby([\"Genre\"])[\"Reviews\"].var()"
   ]
  },
  {
   "cell_type": "code",
   "execution_count": 67,
   "metadata": {},
   "outputs": [
    {
     "name": "stdout",
     "output_type": "stream",
     "text": [
      "Rechazamos la hipótesis nula. Las varianzas son diferentes\n"
     ]
    }
   ],
   "source": [
    "# Realiza el Test de Levene\n",
    "statistic, p_value = stats.levene(\n",
    "    fiction_bestsellers[\"User Rating\"], nonfiction_bestsellers[\"User Rating\"]\n",
    ")\n",
    "\n",
    "# Nivel de significancia\n",
    "alpha = 0.05\n",
    "\n",
    "# Comprueba la significancia\n",
    "if p_value < alpha:\n",
    "    print(\"Rechazamos la hipótesis nula. Las varianzas no son similares\")\n",
    "else:\n",
    "    print(\"Fallamos al rechazar la hipótesis nula. Las varianzas son similares\")"
   ]
  },
  {
   "cell_type": "markdown",
   "metadata": {},
   "source": [
    "### 1. Seleccionamos la hipotesis y el nivel de significancia\n",
    "\n",
    "H0: El número de Reviews medio de los libros de ficción es igual que el de los libros de no ficción\n",
    "\n",
    "Ha: El número de Reviews medio de los libros de ficción es diferente que el de los libros de no ficción\n",
    "\n",
    "alpha = 0.05\n",
    "\n",
    "### 2. Identificamos el tipo de test\n",
    "\n",
    "Deseamos comparar las medias de dos grupos de nuestra Sample. Por lo que un 2-Sample t-Test parece lo adecuado. Lo primero es ver si se cumplen los requisitos del test.\n",
    "\n",
    "#### 2.1 Requisitos del test\n",
    "[Book:Hypothesis Testing An Intuitive Guide For Making Data Driven Decisions\n",
    "Page: 48\n",
    "Section: 2-Sample t-Tests]\n",
    "- Tenemos un Sample representativo de la población? Si.\n",
    "- Los datos son continuos? Si.\n",
    "- Las muestras siguen una distribución normal o hay más de 15 observaciones\n",
    "  - No, las muestras no siguen una distribución normal. Pero hay más de 15 observaciones en cada grupo, gracias al teorema del límite central podemos renunciar al supuesto de normalidad.\n",
    "- Los grupos son independientes? Si.\n",
    "- Las varianzas son iguales (o al menos similares)?\n",
    "  - No.\n",
    "\n",
    "\n",
    "Las varianzas no son similares y su relación es de más del doble. Vamos a reliazar un test tipo **Welch's t-test**.\n",
    "\n",
    "Para realizar el test vamos a usar [scipy.stats.ttest_ind](https://docs.scipy.org/doc/scipy/reference/generated/scipy.stats.ttest_ind.html).\n",
    "Para realizar este test, es necesario definir el parametro *equal_varbool* como *False*."
   ]
  },
  {
   "cell_type": "code",
   "execution_count": 68,
   "metadata": {},
   "outputs": [
    {
     "name": "stdout",
     "output_type": "stream",
     "text": [
      "Valor p: 4.7012426165976585e-07\n",
      "Rechazamos la hipótesis nula: Hay diferencias significativas entre los grupos.\n"
     ]
    }
   ],
   "source": [
    "# Realiza el test t de Welch (equal_var=False)\n",
    "statistic, p_value = stats.ttest_ind(\n",
    "    nonfiction_bestsellers[\"Reviews\"], fiction_bestsellers[\"Reviews\"], equal_var=False\n",
    ")\n",
    "\n",
    "# Imprime los resultados\n",
    "print(\"Valor p:\", p_value)\n",
    "\n",
    "# Comprueba la significancia\n",
    "alpha = 0.05  # Nivel de significancia\n",
    "if p_value < alpha:\n",
    "    print(\n",
    "        \"Rechazamos la hipótesis nula: Hay diferencias significativas entre los grupos.\"\n",
    "    )\n",
    "else:\n",
    "    print(\n",
    "        \"No podemos rechazar la hipótesis nula: No hay diferencias significativas entre los grupos.\"\n",
    "    )"
   ]
  },
  {
   "cell_type": "markdown",
   "metadata": {},
   "source": [
    "Los libros del género de ficción obtienen más Reviews que los libros de no ficción."
   ]
  },
  {
   "cell_type": "markdown",
   "metadata": {},
   "source": [
    "## ¿Los géneros difieren en términos de Price?"
   ]
  },
  {
   "cell_type": "markdown",
   "metadata": {},
   "source": [
    "Representamos gráficamente los datos."
   ]
  },
  {
   "cell_type": "code",
   "execution_count": 36,
   "metadata": {},
   "outputs": [
    {
     "data": {
      "image/png": "[encoded data removed]",
      "text/plain": [
       "<Figure size 640x480 with 1 Axes>"
      ]
     },
     "metadata": {},
     "output_type": "display_data"
    }
   ],
   "source": [
    "sns.kdeplot(fiction_bestsellers[\"Price\"], fill=True, color=\"r\")\n",
    "sns.kdeplot(nonfiction_bestsellers[\"Price\"], fill=True, color=\"b\")\n",
    "plt.legend([\"Fiction\", \"Non Fiction\"])\n",
    "plt.xlabel(\"User Rating\")\n",
    "plt.ylabel(\"Density\")\n",
    "plt.show()"
   ]
  },
  {
   "cell_type": "code",
   "execution_count": 59,
   "metadata": {},
   "outputs": [
    {
     "name": "stdout",
     "output_type": "stream",
     "text": [
      "Coeficiente de asimetría: 4.059768474746167\n",
      "La distribución está positivamente sesgada.\n"
     ]
    }
   ],
   "source": [
    "# Calcular el coeficiente de asimetría\n",
    "skewness = stats.skew(bestsellers[\"Price\"])\n",
    "print(\"Coeficiente de asimetría:\", skewness)\n",
    "\n",
    "if skewness > 0:\n",
    "    print(\"La distribución está positivamente sesgada.\")\n",
    "elif skewness < 0:\n",
    "    print(\"La distribución está negativamente sesgada.\")\n",
    "else:\n",
    "    print(\"La distribución es simétrica.\")"
   ]
  },
  {
   "cell_type": "markdown",
   "metadata": {},
   "source": [
    "Realizamos un test de normalidad para cada grupo:"
   ]
  },
  {
   "cell_type": "code",
   "execution_count": 61,
   "metadata": {},
   "outputs": [
    {
     "name": "stdout",
     "output_type": "stream",
     "text": [
      "Para bestsellers de ficción: Rechazamos la hipótesis nula. Los datos no siguen una distribución normal.\n",
      "Para bestsellers de no ficción: Rechazamos la hipótesis nula. Los datos no siguen una distribución normal.\n"
     ]
    }
   ],
   "source": [
    "from scipy import stats\n",
    "\n",
    "\n",
    "def shapiro_test(data, alpha=0.05):\n",
    "    \"\"\"\n",
    "    Realiza la prueba de Shapiro-Wilk para verificar la normalidad de los datos.\n",
    "\n",
    "    Parameters:\n",
    "    data (array-like): Los datos a analizar.\n",
    "    alpha (float): Nivel de significancia.\n",
    "\n",
    "    Returns:\n",
    "    str: El resultado de la prueba.\n",
    "    \"\"\"\n",
    "    statistic, p_value = stats.shapiro(data)\n",
    "\n",
    "    if p_value < alpha:\n",
    "        return (\n",
    "            \"Rechazamos la hipótesis nula. Los datos no siguen una distribución normal.\"\n",
    "        )\n",
    "    else:\n",
    "        return \"Fallamos al rechazar la hipótesis nula. Los datos pueden considerarse normalmente distribuidos.\"\n",
    "\n",
    "\n",
    "result_fiction = shapiro_test(fiction_bestsellers[\"Price\"])\n",
    "result_nonfiction = shapiro_test(nonfiction_bestsellers[\"Price\"])\n",
    "\n",
    "print(\"Para bestsellers de ficción:\", result_fiction)\n",
    "print(\"Para bestsellers de no ficción:\", result_nonfiction)"
   ]
  },
  {
   "cell_type": "markdown",
   "metadata": {},
   "source": [
    "Estudiemos la relación entre las varianzas de cada grupo."
   ]
  },
  {
   "cell_type": "code",
   "execution_count": 74,
   "metadata": {},
   "outputs": [
    {
     "name": "stdout",
     "output_type": "stream",
     "text": [
      "Fallamos al rechazar la hipótesis nula. Las varianzas son similares\n"
     ]
    }
   ],
   "source": [
    "# Realiza el Test de Levene\n",
    "statistic, p_value = stats.levene(\n",
    "    fiction_bestsellers[\"Price\"], nonfiction_bestsellers[\"Price\"]\n",
    ")\n",
    "\n",
    "# Nivel de significancia\n",
    "alpha = 0.05\n",
    "\n",
    "# Comprueba la significancia\n",
    "if p_value < alpha:\n",
    "    print(\"Rechazamos la hipótesis nula. Las varianzas no son similares\")\n",
    "else:\n",
    "    print(\"Fallamos al rechazar la hipótesis nula. Las varianzas son similares\")"
   ]
  },
  {
   "cell_type": "code",
   "execution_count": 75,
   "metadata": {},
   "outputs": [
    {
     "data": {
      "text/plain": [
       "Genre\n",
       "Fiction         91.521376\n",
       "Non Fiction    107.024673\n",
       "Name: Price, dtype: float64"
      ]
     },
     "execution_count": 75,
     "metadata": {},
     "output_type": "execute_result"
    }
   ],
   "source": [
    "# varianza de los grupos\n",
    "bestsellers.groupby([\"Genre\"])[\"Price\"].var()"
   ]
  },
  {
   "cell_type": "markdown",
   "metadata": {},
   "source": [
    "### 1. Seleccionamos la hipotesis y el nivel de significancia\n",
    "\n",
    "H0: El precio medio de los libros de ficción es igual que el de los libros de no ficción\n",
    "\n",
    "Ha: El precio medio de los libros de ficción es diferente que el de los libros de no ficción\n",
    "\n",
    "alpha = 0.05\n",
    "\n",
    "### 2. Identificamos el tipo de test\n",
    "\n",
    "Deseamos comparar las medias de dos grupos de nuestra Sample. Por lo que un 2-Sample t-Test parece lo adecuado. Lo primero es ver si se cumplen los requisitos del test.\n",
    "\n",
    "#### 2.1 Requisitos del test\n",
    "[Book:Hypothesis Testing An Intuitive Guide For Making Data Driven Decisions\n",
    "Page: 48\n",
    "Section: 2-Sample t-Tests]\n",
    "- Tenemos un Sample representativo de la población? Si.\n",
    "- Los datos son continuos? Si.\n",
    "- Las muestras siguen una distribución normal o hay más de 15 observaciones\n",
    "  - No, las muestras no siguen una distribución normal. Pero hay más de 15 observaciones en cada grupo, gracias al teorema del límite central podemos renunciar al supuesto de normalidad.\n",
    "- Los grupos son independientes? Si.\n",
    "- Las varianzas son iguales (o al menos similares)? Si.\n",
    "\n",
    "Se cumplen los requisitos para realizar un **2-Sample t-Test**.\n",
    "\n",
    "Para realizar el test vamos a usar [scipy.stats.ttest_ind](https://docs.scipy.org/doc/scipy/reference/generated/scipy.stats.ttest_ind.html)."
   ]
  },
  {
   "cell_type": "code",
   "execution_count": 76,
   "metadata": {},
   "outputs": [
    {
     "name": "stdout",
     "output_type": "stream",
     "text": [
      "Valor p: 0.16615124881617802\n",
      "No podemos rechazar la hipótesis nula: No hay diferencias significativas entre los grupos.\n"
     ]
    }
   ],
   "source": [
    "# Realiza el test t\n",
    "statistic, p_value = stats.ttest_ind(\n",
    "    nonfiction_bestsellers[\"Price\"], fiction_bestsellers[\"Price\"]\n",
    ")\n",
    "\n",
    "# Imprime los resultados\n",
    "print(\"Valor p:\", p_value)\n",
    "\n",
    "# Comprueba la significancia\n",
    "alpha = 0.05  # Nivel de significancia\n",
    "if p_value < alpha:\n",
    "    print(\n",
    "        \"Rechazamos la hipótesis nula: Hay diferencias significativas entre los grupos.\"\n",
    "    )\n",
    "else:\n",
    "    print(\n",
    "        \"No podemos rechazar la hipótesis nula: No hay diferencias significativas entre los grupos.\"\n",
    "    )"
   ]
  },
  {
   "cell_type": "markdown",
   "metadata": {},
   "source": [
    "El precio no es dependiente del género."
   ]
  }
 ],
 "metadata": {
  "kernelspec": {
   "display_name": "data_road",
   "language": "python",
   "name": "python3"
  },
  "language_info": {
   "codemirror_mode": {
    "name": "ipython",
    "version": 3
   },
   "file_extension": ".py",
   "mimetype": "text/x-python",
   "name": "python",
   "nbconvert_exporter": "python",
   "pygments_lexer": "ipython3",
   "version": "3.11.4"
  },
  "orig_nbformat": 4
 },
 "nbformat": 4,
 "nbformat_minor": 2
}

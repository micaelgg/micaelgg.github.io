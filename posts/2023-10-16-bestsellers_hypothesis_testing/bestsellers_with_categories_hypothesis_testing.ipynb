{
 "cells": [
  {
   "cell_type": "raw",
   "metadata": {},
   "source": [
    "---\n",
    "title: \"Test de Hipótesis: Análisis de los 50 libros más vendidos en amazon (2009 - 2019)\"\n",
    "description: \"Este análisis profundiza en cómo el género literario influye en la valoración de los usuarios, el número de reseñas y el precio de los bestsellers en Amazon.\"\n",
    "author: \"Micael García\"\n",
    "image: \"./bestsellers_with_categories.png\"\n",
    "date: \"2023-10-16\"\n",
    "categories:\n",
    "  - Hypothesis Testing\n",
    "  - 2-Sample T-Test\n",
    "  - Mann–Whitney U test \n",
    "  - Welch's T-Test\n",
    "---"
   ]
  },
  {
   "cell_type": "markdown",
   "metadata": {},
   "source": [
    "## 1a. Entendimiento del negocio"
   ]
  },
  {
   "cell_type": "markdown",
   "metadata": {},
   "source": [
    "![](./bestsellers_with_categories.png)\n",
    "\n",
    "From Kaggle: [Amazon Top 50 Bestselling Books 2009 - 2019](https://www.kaggle.com/datasets/sootersaalu/amazon-top-50-bestselling-books-2009-2019/data)"
   ]
  },
  {
   "cell_type": "markdown",
   "metadata": {},
   "source": [
    "### Contexto\n",
    "*Dataset* sobre los 50 libros más vendidos de Amazon de 2009 a 2019. \n",
    "Contiene 550 libros, los datos se han clasificado en ficción y no-ficción utilizando Goodreads.\n",
    "\n",
    "### Hipótesis a probar\n",
    "Vamos a responder a las siguientes preguntas con validez estadística:\n",
    "\n",
    "- ¿Los géneros difieren en \"User Rating\"?\n",
    "- ¿Los géneros difieren en número de \"Reviews\"?\n",
    "- ¿Los géneros difieren en términos de \"Price\"?"
   ]
  },
  {
   "cell_type": "markdown",
   "metadata": {},
   "source": [
    "::: {.callout-note title=\"Matemáticas y código: en Inglés\" collapse=\"true\"}\n",
    "\n",
    "Aunque el texto principal está en español, los términos matemáticos, los títulos de secciones y el código están en inglés.\n",
    "\n",
    "Esta práctica sigue el estándar internacional y ayuda a familiarizarse con el lenguaje técnico más utilizado en el campo de la ciencia de datos.\n",
    ":::"
   ]
  },
  {
   "cell_type": "markdown",
   "metadata": {},
   "source": [
    "## 1b. Descripción de datos\n"
   ]
  },
  {
   "cell_type": "markdown",
   "metadata": {},
   "source": [
    "Para empezar, importamos las librerías que vamos a utilizar:\n",
    "\n",
    "- Pandas: Pandas es una biblioteca esencial en la ciencia de datos que proporciona estructuras de datos flexibles y eficientes, como DataFrames, para el análisis y manipulación de datos tabulares. Es ampliamente utilizada para limpiar, transformar y analizar datos, lo que la convierte en una herramienta fundamental para la preparación de datos en proyectos de ciencia de datos.\n",
    "\n",
    "- Scipy: Scipy es una biblioteca que se construye sobre NumPy y ofrece una amplia variedad de módulos y funciones especializadas para aplicaciones científicas y matemáticas. Incluye herramientas para estadísticas, optimización, álgebra lineal y procesamiento de señales, lo que la hace esencial en la investigación y el análisis de datos en ciencia de datos.\n",
    "\n",
    "- Fuzzywuzzy: Fuzzywuzzy es una biblioteca que se utiliza en la ciencia de datos para comparar cadenas de texto difusas o parcialmente coincidentes. Es útil en la limpieza y normalización de datos de texto, así como en la identificación de similitudes entre strings, lo que es valioso en tareas como la duplicación de registros o la coincidencia de nombres en bases de datos.\n",
    "\n",
    "- Plotly Express: Plotly Express es una biblioteca de visualización de datos que simplifica la creación de gráficos interactivos y visuales. Es especialmente útil en la exploración de datos y la comunicación de resultados en ciencia de datos, permitiendo a los científicos de datos crear visualizaciones informativas y atractivas con facilidad."
   ]
  },
  {
   "cell_type": "code",
   "execution_count": 1,
   "metadata": {},
   "outputs": [],
   "source": [
    "# | code-fold: true\n",
    "\n",
    "# Import libraries\n",
    "import pandas as pd\n",
    "from scipy import stats\n",
    "from fuzzywuzzy import fuzz\n",
    "\n",
    "# Import plotly and customize\n",
    "import plotly.io as pio\n",
    "import plotly.express as px\n",
    "\n",
    "# Set a global template, e.g. \"plotly_dark\"\n",
    "# Customize the color scheme of the chosen template, e.g. \"Set2\"\n",
    "pio.templates.default = \"plotly\"\n",
    "pio.templates[\"plotly\"].layout.colorway = px.colors.qualitative.Set2"
   ]
  },
  {
   "cell_type": "markdown",
   "metadata": {},
   "source": [
    "Cargamos el *dataset* y describimos brevemente sus características."
   ]
  },
  {
   "cell_type": "code",
   "execution_count": 2,
   "metadata": {},
   "outputs": [
    {
     "data": {
      "text/html": [
       "<div>\n",
       "<style scoped>\n",
       "    .dataframe tbody tr th:only-of-type {\n",
       "        vertical-align: middle;\n",
       "    }\n",
       "\n",
       "    .dataframe tbody tr th {\n",
       "        vertical-align: top;\n",
       "    }\n",
       "\n",
       "    .dataframe thead th {\n",
       "        text-align: right;\n",
       "    }\n",
       "</style>\n",
       "<table border=\"1\" class=\"dataframe\">\n",
       "  <thead>\n",
       "    <tr style=\"text-align: right;\">\n",
       "      <th></th>\n",
       "      <th>Name</th>\n",
       "      <th>Author</th>\n",
       "      <th>User Rating</th>\n",
       "      <th>Reviews</th>\n",
       "      <th>Price</th>\n",
       "      <th>Year</th>\n",
       "      <th>Genre</th>\n",
       "    </tr>\n",
       "  </thead>\n",
       "  <tbody>\n",
       "    <tr>\n",
       "      <th>0</th>\n",
       "      <td>10-Day Green Smoothie Cleanse</td>\n",
       "      <td>JJ Smith</td>\n",
       "      <td>4.7</td>\n",
       "      <td>17350</td>\n",
       "      <td>8</td>\n",
       "      <td>2016</td>\n",
       "      <td>Non Fiction</td>\n",
       "    </tr>\n",
       "    <tr>\n",
       "      <th>1</th>\n",
       "      <td>11/22/63: A Novel</td>\n",
       "      <td>Stephen King</td>\n",
       "      <td>4.6</td>\n",
       "      <td>2052</td>\n",
       "      <td>22</td>\n",
       "      <td>2011</td>\n",
       "      <td>Fiction</td>\n",
       "    </tr>\n",
       "    <tr>\n",
       "      <th>2</th>\n",
       "      <td>12 Rules for Life: An Antidote to Chaos</td>\n",
       "      <td>Jordan B. Peterson</td>\n",
       "      <td>4.7</td>\n",
       "      <td>18979</td>\n",
       "      <td>15</td>\n",
       "      <td>2018</td>\n",
       "      <td>Non Fiction</td>\n",
       "    </tr>\n",
       "    <tr>\n",
       "      <th>3</th>\n",
       "      <td>1984 (Signet Classics)</td>\n",
       "      <td>George Orwell</td>\n",
       "      <td>4.7</td>\n",
       "      <td>21424</td>\n",
       "      <td>6</td>\n",
       "      <td>2017</td>\n",
       "      <td>Fiction</td>\n",
       "    </tr>\n",
       "    <tr>\n",
       "      <th>4</th>\n",
       "      <td>5,000 Awesome Facts (About Everything!) (Natio...</td>\n",
       "      <td>National Geographic Kids</td>\n",
       "      <td>4.8</td>\n",
       "      <td>7665</td>\n",
       "      <td>12</td>\n",
       "      <td>2019</td>\n",
       "      <td>Non Fiction</td>\n",
       "    </tr>\n",
       "  </tbody>\n",
       "</table>\n",
       "</div>"
      ],
      "text/plain": [
       "                                                Name  \\\n",
       "0                      10-Day Green Smoothie Cleanse   \n",
       "1                                  11/22/63: A Novel   \n",
       "2            12 Rules for Life: An Antidote to Chaos   \n",
       "3                             1984 (Signet Classics)   \n",
       "4  5,000 Awesome Facts (About Everything!) (Natio...   \n",
       "\n",
       "                     Author  User Rating  Reviews  Price  Year        Genre  \n",
       "0                  JJ Smith          4.7    17350      8  2016  Non Fiction  \n",
       "1              Stephen King          4.6     2052     22  2011      Fiction  \n",
       "2        Jordan B. Peterson          4.7    18979     15  2018  Non Fiction  \n",
       "3             George Orwell          4.7    21424      6  2017      Fiction  \n",
       "4  National Geographic Kids          4.8     7665     12  2019  Non Fiction  "
      ]
     },
     "execution_count": 2,
     "metadata": {},
     "output_type": "execute_result"
    }
   ],
   "source": [
    "df = pd.read_csv(\"bestsellers with categories.csv\")\n",
    "df.head(5)"
   ]
  },
  {
   "cell_type": "markdown",
   "metadata": {},
   "source": [
    "| Campo         | Tipo de Dato         | Descripción                            | Ejemplo                |\n",
    "|---------------|----------------------|----------------------------------------|------------------------|\n",
    "| `Name`        | Texto                | Título del libro.                      | 11/22/63: A Novel    |\n",
    "| `Author`      | Texto                | Autor del libro.                       | Stephen King           |\n",
    "| `User Rating` | Numérico entre 0 y 5 (con un decimal) | Calificación promedio otorgada por usuarios. | 4.6                    |\n",
    "| `Reviews`     | Numérico (entero)    | Cantidad de reseñas del libro.         | 2052                   |\n",
    "| `Price`       | Numérico (entero)    | Precio de venta del libro.             | 22                     |\n",
    "| `Year`        | Año (número entero)  | Año de inclusión en la lista de más vendidos. | 2011                   |\n",
    "| `Genre`       | Categórico           | Género del libro, ficción o no ficción. | Ficción                |\n"
   ]
  },
  {
   "cell_type": "markdown",
   "metadata": {},
   "source": [
    "Estos son los tipos de datos que se identifican en primer momento. Como veremos más adelante, estas designaciones pueden ser problemáticas según los valores que contenga el *dataset* y los *insights* que queramos obtener.\n",
    "\n"
   ]
  },
  {
   "cell_type": "markdown",
   "metadata": {},
   "source": [
    "## 2a. Preparación de los datos\n"
   ]
  },
  {
   "cell_type": "markdown",
   "metadata": {},
   "source": [
    "### 2a.1 Typecasting"
   ]
  },
  {
   "cell_type": "markdown",
   "metadata": {},
   "source": [
    "Comprobamos el tipo de datos de las columnas y los modificamos conforme nuestra descripción inicial."
   ]
  },
  {
   "cell_type": "code",
   "execution_count": 3,
   "metadata": {},
   "outputs": [
    {
     "data": {
      "text/plain": [
       "Name            object\n",
       "Author          object\n",
       "User Rating    float64\n",
       "Reviews          int64\n",
       "Price            int64\n",
       "Year             int64\n",
       "Genre           object\n",
       "dtype: object"
      ]
     },
     "execution_count": 3,
     "metadata": {},
     "output_type": "execute_result"
    }
   ],
   "source": [
    "df.dtypes"
   ]
  },
  {
   "cell_type": "code",
   "execution_count": 4,
   "metadata": {},
   "outputs": [],
   "source": [
    "categorical_columns = [\"Genre\", \"Name\", \"Author\"]\n",
    "df[categorical_columns] = df[categorical_columns].astype(\"category\")"
   ]
  },
  {
   "cell_type": "code",
   "execution_count": 5,
   "metadata": {},
   "outputs": [
    {
     "data": {
      "text/plain": [
       "Name           category\n",
       "Author         category\n",
       "User Rating     float64\n",
       "Reviews           int64\n",
       "Price             int64\n",
       "Year              int64\n",
       "Genre          category\n",
       "dtype: object"
      ]
     },
     "execution_count": 5,
     "metadata": {},
     "output_type": "execute_result"
    }
   ],
   "source": [
    "df.dtypes"
   ]
  },
  {
   "cell_type": "markdown",
   "metadata": {},
   "source": [
    "### 2a.2 Manejo de duplicados"
   ]
  },
  {
   "cell_type": "markdown",
   "metadata": {},
   "source": [
    "#### Simpler approach\n",
    "¿Cuantas filas son exactamente iguales?"
   ]
  },
  {
   "cell_type": "code",
   "execution_count": 6,
   "metadata": {},
   "outputs": [
    {
     "data": {
      "text/plain": [
       "0"
      ]
     },
     "execution_count": 6,
     "metadata": {},
     "output_type": "execute_result"
    }
   ],
   "source": [
    "df.duplicated().sum()"
   ]
  },
  {
   "cell_type": "markdown",
   "metadata": {},
   "source": [
    "Es normal no encontrar duplicados en este caso, ya que hay libros que se repiten, pero es imposible que coincidan en \"Year\". No es un error en sí mismo. Sin embargo, hay un problema. Las \"Reviews\" deberían ser las que el libro tenía en el año en el que fue uno de los más vendidos. En lugar de eso, son las del último año. Esto podría deberse a que el autor del *dataset* no tuvo acceso al historial de las reseñas.\n"
   ]
  },
  {
   "cell_type": "markdown",
   "metadata": {},
   "source": [
    "#### Repeated Bestsellers"
   ]
  },
  {
   "cell_type": "code",
   "execution_count": 7,
   "metadata": {},
   "outputs": [
    {
     "data": {
      "text/html": [
       "<div>\n",
       "<style scoped>\n",
       "    .dataframe tbody tr th:only-of-type {\n",
       "        vertical-align: middle;\n",
       "    }\n",
       "\n",
       "    .dataframe tbody tr th {\n",
       "        vertical-align: top;\n",
       "    }\n",
       "\n",
       "    .dataframe thead th {\n",
       "        text-align: right;\n",
       "    }\n",
       "</style>\n",
       "<table border=\"1\" class=\"dataframe\">\n",
       "  <thead>\n",
       "    <tr style=\"text-align: right;\">\n",
       "      <th></th>\n",
       "      <th>Name</th>\n",
       "      <th>Author</th>\n",
       "      <th>User Rating</th>\n",
       "      <th>Reviews</th>\n",
       "      <th>Price</th>\n",
       "      <th>Year</th>\n",
       "      <th>Genre</th>\n",
       "    </tr>\n",
       "  </thead>\n",
       "  <tbody>\n",
       "    <tr>\n",
       "      <th>10</th>\n",
       "      <td>A Man Called Ove: A Novel</td>\n",
       "      <td>Fredrik Backman</td>\n",
       "      <td>4.6</td>\n",
       "      <td>23848</td>\n",
       "      <td>8</td>\n",
       "      <td>2017</td>\n",
       "      <td>Fiction</td>\n",
       "    </tr>\n",
       "    <tr>\n",
       "      <th>21</th>\n",
       "      <td>All the Light We Cannot See</td>\n",
       "      <td>Anthony Doerr</td>\n",
       "      <td>4.6</td>\n",
       "      <td>36348</td>\n",
       "      <td>14</td>\n",
       "      <td>2015</td>\n",
       "      <td>Fiction</td>\n",
       "    </tr>\n",
       "    <tr>\n",
       "      <th>33</th>\n",
       "      <td>Becoming</td>\n",
       "      <td>Michelle Obama</td>\n",
       "      <td>4.8</td>\n",
       "      <td>61133</td>\n",
       "      <td>11</td>\n",
       "      <td>2019</td>\n",
       "      <td>Non Fiction</td>\n",
       "    </tr>\n",
       "    <tr>\n",
       "      <th>36</th>\n",
       "      <td>Between the World and Me</td>\n",
       "      <td>Ta-Nehisi Coates</td>\n",
       "      <td>4.7</td>\n",
       "      <td>10070</td>\n",
       "      <td>13</td>\n",
       "      <td>2016</td>\n",
       "      <td>Non Fiction</td>\n",
       "    </tr>\n",
       "    <tr>\n",
       "      <th>41</th>\n",
       "      <td>Brown Bear, Brown Bear, What Do You See?</td>\n",
       "      <td>Bill Martin Jr.</td>\n",
       "      <td>4.9</td>\n",
       "      <td>14344</td>\n",
       "      <td>5</td>\n",
       "      <td>2019</td>\n",
       "      <td>Fiction</td>\n",
       "    </tr>\n",
       "    <tr>\n",
       "      <th>...</th>\n",
       "      <td>...</td>\n",
       "      <td>...</td>\n",
       "      <td>...</td>\n",
       "      <td>...</td>\n",
       "      <td>...</td>\n",
       "      <td>...</td>\n",
       "      <td>...</td>\n",
       "    </tr>\n",
       "    <tr>\n",
       "      <th>543</th>\n",
       "      <td>Wonder</td>\n",
       "      <td>R. J. Palacio</td>\n",
       "      <td>4.8</td>\n",
       "      <td>21625</td>\n",
       "      <td>9</td>\n",
       "      <td>2016</td>\n",
       "      <td>Fiction</td>\n",
       "    </tr>\n",
       "    <tr>\n",
       "      <th>544</th>\n",
       "      <td>Wonder</td>\n",
       "      <td>R. J. Palacio</td>\n",
       "      <td>4.8</td>\n",
       "      <td>21625</td>\n",
       "      <td>9</td>\n",
       "      <td>2017</td>\n",
       "      <td>Fiction</td>\n",
       "    </tr>\n",
       "    <tr>\n",
       "      <th>547</th>\n",
       "      <td>You Are a Badass: How to Stop Doubting Your Gr...</td>\n",
       "      <td>Jen Sincero</td>\n",
       "      <td>4.7</td>\n",
       "      <td>14331</td>\n",
       "      <td>8</td>\n",
       "      <td>2017</td>\n",
       "      <td>Non Fiction</td>\n",
       "    </tr>\n",
       "    <tr>\n",
       "      <th>548</th>\n",
       "      <td>You Are a Badass: How to Stop Doubting Your Gr...</td>\n",
       "      <td>Jen Sincero</td>\n",
       "      <td>4.7</td>\n",
       "      <td>14331</td>\n",
       "      <td>8</td>\n",
       "      <td>2018</td>\n",
       "      <td>Non Fiction</td>\n",
       "    </tr>\n",
       "    <tr>\n",
       "      <th>549</th>\n",
       "      <td>You Are a Badass: How to Stop Doubting Your Gr...</td>\n",
       "      <td>Jen Sincero</td>\n",
       "      <td>4.7</td>\n",
       "      <td>14331</td>\n",
       "      <td>8</td>\n",
       "      <td>2019</td>\n",
       "      <td>Non Fiction</td>\n",
       "    </tr>\n",
       "  </tbody>\n",
       "</table>\n",
       "<p>199 rows × 7 columns</p>\n",
       "</div>"
      ],
      "text/plain": [
       "                                                  Name            Author  \\\n",
       "10                           A Man Called Ove: A Novel   Fredrik Backman   \n",
       "21                         All the Light We Cannot See     Anthony Doerr   \n",
       "33                                            Becoming    Michelle Obama   \n",
       "36                            Between the World and Me  Ta-Nehisi Coates   \n",
       "41            Brown Bear, Brown Bear, What Do You See?   Bill Martin Jr.   \n",
       "..                                                 ...               ...   \n",
       "543                                             Wonder     R. J. Palacio   \n",
       "544                                             Wonder     R. J. Palacio   \n",
       "547  You Are a Badass: How to Stop Doubting Your Gr...       Jen Sincero   \n",
       "548  You Are a Badass: How to Stop Doubting Your Gr...       Jen Sincero   \n",
       "549  You Are a Badass: How to Stop Doubting Your Gr...       Jen Sincero   \n",
       "\n",
       "     User Rating  Reviews  Price  Year        Genre  \n",
       "10           4.6    23848      8  2017      Fiction  \n",
       "21           4.6    36348     14  2015      Fiction  \n",
       "33           4.8    61133     11  2019  Non Fiction  \n",
       "36           4.7    10070     13  2016  Non Fiction  \n",
       "41           4.9    14344      5  2019      Fiction  \n",
       "..           ...      ...    ...   ...          ...  \n",
       "543          4.8    21625      9  2016      Fiction  \n",
       "544          4.8    21625      9  2017      Fiction  \n",
       "547          4.7    14331      8  2017  Non Fiction  \n",
       "548          4.7    14331      8  2018  Non Fiction  \n",
       "549          4.7    14331      8  2019  Non Fiction  \n",
       "\n",
       "[199 rows x 7 columns]"
      ]
     },
     "execution_count": 7,
     "metadata": {},
     "output_type": "execute_result"
    }
   ],
   "source": [
    "df[df.duplicated(\"Name\")]"
   ]
  },
  {
   "cell_type": "markdown",
   "metadata": {},
   "source": [
    "Hay 199 libros que han sido *bestsellers* durante más de un año. Es importante tener en cuenta esto para el análisis. Vamos a utilizar únicamente la muestra más reciente de cada libro."
   ]
  },
  {
   "cell_type": "code",
   "execution_count": 8,
   "metadata": {},
   "outputs": [],
   "source": [
    "bestsellers = df.drop_duplicates(subset=\"Name\", keep=\"last\")"
   ]
  },
  {
   "cell_type": "markdown",
   "metadata": {},
   "source": [
    "#### Checking for authors or titles with different spellings\n",
    "Comprobamos si hay autores o títulos iguales pero escritos diferente."
   ]
  },
  {
   "cell_type": "code",
   "execution_count": 9,
   "metadata": {},
   "outputs": [],
   "source": [
    "# Function to find similar author names\n",
    "def find_similar(df, column):\n",
    "    authors = df[column].unique()\n",
    "    duplicates = []\n",
    "\n",
    "    for i, author1 in enumerate(authors):\n",
    "        for author2 in authors[i + 1 :]:\n",
    "            ratio = fuzz.ratio(author1, author2)\n",
    "            if ratio > 90:  # You can adjust this threshold according to your criteria\n",
    "                duplicates.append((author1, author2))\n",
    "\n",
    "    return duplicates"
   ]
  },
  {
   "cell_type": "code",
   "execution_count": 10,
   "metadata": {},
   "outputs": [
    {
     "name": "stdout",
     "output_type": "stream",
     "text": [
      "Author names that refer to the same author but are written differently:\n",
      "('George R. R. Martin', 'George R.R. Martin')\n",
      "('J.K. Rowling', 'J. K. Rowling')\n",
      "Title names that refer to the same title but are written differently:\n",
      "('The 5 Love Languages: The Secret to Love That Lasts', 'The 5 Love Languages: The Secret to Love that Lasts')\n",
      "('The Girl Who Played with Fire (Millennium Series)', 'The Girl Who Played with Fire (Millennium)')\n"
     ]
    }
   ],
   "source": [
    "# Find similar author names\n",
    "duplicates = find_similar(bestsellers, \"Author\")\n",
    "\n",
    "print(\"Author names that refer to the same author but are written differently:\")\n",
    "for dup in duplicates:\n",
    "    print(dup)\n",
    "\n",
    "# Find similar title names\n",
    "duplicates = find_similar(bestsellers, \"Name\")\n",
    "\n",
    "print(\"Title names that refer to the same title but are written differently:\")\n",
    "for dup in duplicates:\n",
    "    print(dup)"
   ]
  },
  {
   "cell_type": "code",
   "execution_count": 11,
   "metadata": {},
   "outputs": [],
   "source": [
    "# Replace the names of the Authors with the correct ones\n",
    "bestsellers = bestsellers.replace(\"George R. R. Martin\", \"George R.R. Martin\")\n",
    "bestsellers = bestsellers.replace(\"J. K. Rowling\", \"J.K. Rowling\")\n",
    "\n",
    "# Replace the names of the Authors with the correct ones\n",
    "bestsellers = bestsellers.replace(\n",
    "    \"The 5 Love Languages: The Secret to Love That Lasts\",\n",
    "    \"The 5 Love Languages: The Secret to Love that Lasts\",\n",
    ")\n",
    "bestsellers = bestsellers.replace(\n",
    "    \"The Girl Who Played with Fire (Millennium Series)\",\n",
    "    \"The Girl Who Played with Fire (Millennium)\",\n",
    ")"
   ]
  },
  {
   "cell_type": "code",
   "execution_count": 12,
   "metadata": {},
   "outputs": [
    {
     "data": {
      "text/html": [
       "<div>\n",
       "<style scoped>\n",
       "    .dataframe tbody tr th:only-of-type {\n",
       "        vertical-align: middle;\n",
       "    }\n",
       "\n",
       "    .dataframe tbody tr th {\n",
       "        vertical-align: top;\n",
       "    }\n",
       "\n",
       "    .dataframe thead th {\n",
       "        text-align: right;\n",
       "    }\n",
       "</style>\n",
       "<table border=\"1\" class=\"dataframe\">\n",
       "  <thead>\n",
       "    <tr style=\"text-align: right;\">\n",
       "      <th></th>\n",
       "      <th>Name</th>\n",
       "      <th>Author</th>\n",
       "      <th>User Rating</th>\n",
       "      <th>Reviews</th>\n",
       "      <th>Price</th>\n",
       "      <th>Year</th>\n",
       "      <th>Genre</th>\n",
       "    </tr>\n",
       "  </thead>\n",
       "  <tbody>\n",
       "    <tr>\n",
       "      <th>0</th>\n",
       "      <td>10-Day Green Smoothie Cleanse</td>\n",
       "      <td>JJ Smith</td>\n",
       "      <td>4.7</td>\n",
       "      <td>17350</td>\n",
       "      <td>8</td>\n",
       "      <td>2016</td>\n",
       "      <td>Non Fiction</td>\n",
       "    </tr>\n",
       "    <tr>\n",
       "      <th>1</th>\n",
       "      <td>11/22/63: A Novel</td>\n",
       "      <td>Stephen King</td>\n",
       "      <td>4.6</td>\n",
       "      <td>2052</td>\n",
       "      <td>22</td>\n",
       "      <td>2011</td>\n",
       "      <td>Fiction</td>\n",
       "    </tr>\n",
       "    <tr>\n",
       "      <th>2</th>\n",
       "      <td>12 Rules for Life: An Antidote to Chaos</td>\n",
       "      <td>Jordan B. Peterson</td>\n",
       "      <td>4.7</td>\n",
       "      <td>18979</td>\n",
       "      <td>15</td>\n",
       "      <td>2018</td>\n",
       "      <td>Non Fiction</td>\n",
       "    </tr>\n",
       "    <tr>\n",
       "      <th>3</th>\n",
       "      <td>1984 (Signet Classics)</td>\n",
       "      <td>George Orwell</td>\n",
       "      <td>4.7</td>\n",
       "      <td>21424</td>\n",
       "      <td>6</td>\n",
       "      <td>2017</td>\n",
       "      <td>Fiction</td>\n",
       "    </tr>\n",
       "    <tr>\n",
       "      <th>4</th>\n",
       "      <td>5,000 Awesome Facts (About Everything!) (Natio...</td>\n",
       "      <td>National Geographic Kids</td>\n",
       "      <td>4.8</td>\n",
       "      <td>7665</td>\n",
       "      <td>12</td>\n",
       "      <td>2019</td>\n",
       "      <td>Non Fiction</td>\n",
       "    </tr>\n",
       "    <tr>\n",
       "      <th>...</th>\n",
       "      <td>...</td>\n",
       "      <td>...</td>\n",
       "      <td>...</td>\n",
       "      <td>...</td>\n",
       "      <td>...</td>\n",
       "      <td>...</td>\n",
       "      <td>...</td>\n",
       "    </tr>\n",
       "    <tr>\n",
       "      <th>538</th>\n",
       "      <td>Winter of the World: Book Two of the Century T...</td>\n",
       "      <td>Ken Follett</td>\n",
       "      <td>4.5</td>\n",
       "      <td>10760</td>\n",
       "      <td>15</td>\n",
       "      <td>2012</td>\n",
       "      <td>Fiction</td>\n",
       "    </tr>\n",
       "    <tr>\n",
       "      <th>539</th>\n",
       "      <td>Women Food and God: An Unexpected Path to Almo...</td>\n",
       "      <td>Geneen Roth</td>\n",
       "      <td>4.2</td>\n",
       "      <td>1302</td>\n",
       "      <td>11</td>\n",
       "      <td>2010</td>\n",
       "      <td>Non Fiction</td>\n",
       "    </tr>\n",
       "    <tr>\n",
       "      <th>544</th>\n",
       "      <td>Wonder</td>\n",
       "      <td>R. J. Palacio</td>\n",
       "      <td>4.8</td>\n",
       "      <td>21625</td>\n",
       "      <td>9</td>\n",
       "      <td>2017</td>\n",
       "      <td>Fiction</td>\n",
       "    </tr>\n",
       "    <tr>\n",
       "      <th>545</th>\n",
       "      <td>Wrecking Ball (Diary of a Wimpy Kid Book 14)</td>\n",
       "      <td>Jeff Kinney</td>\n",
       "      <td>4.9</td>\n",
       "      <td>9413</td>\n",
       "      <td>8</td>\n",
       "      <td>2019</td>\n",
       "      <td>Fiction</td>\n",
       "    </tr>\n",
       "    <tr>\n",
       "      <th>549</th>\n",
       "      <td>You Are a Badass: How to Stop Doubting Your Gr...</td>\n",
       "      <td>Jen Sincero</td>\n",
       "      <td>4.7</td>\n",
       "      <td>14331</td>\n",
       "      <td>8</td>\n",
       "      <td>2019</td>\n",
       "      <td>Non Fiction</td>\n",
       "    </tr>\n",
       "  </tbody>\n",
       "</table>\n",
       "<p>351 rows × 7 columns</p>\n",
       "</div>"
      ],
      "text/plain": [
       "                                                  Name  \\\n",
       "0                        10-Day Green Smoothie Cleanse   \n",
       "1                                    11/22/63: A Novel   \n",
       "2              12 Rules for Life: An Antidote to Chaos   \n",
       "3                               1984 (Signet Classics)   \n",
       "4    5,000 Awesome Facts (About Everything!) (Natio...   \n",
       "..                                                 ...   \n",
       "538  Winter of the World: Book Two of the Century T...   \n",
       "539  Women Food and God: An Unexpected Path to Almo...   \n",
       "544                                             Wonder   \n",
       "545       Wrecking Ball (Diary of a Wimpy Kid Book 14)   \n",
       "549  You Are a Badass: How to Stop Doubting Your Gr...   \n",
       "\n",
       "                       Author  User Rating  Reviews  Price  Year        Genre  \n",
       "0                    JJ Smith          4.7    17350      8  2016  Non Fiction  \n",
       "1                Stephen King          4.6     2052     22  2011      Fiction  \n",
       "2          Jordan B. Peterson          4.7    18979     15  2018  Non Fiction  \n",
       "3               George Orwell          4.7    21424      6  2017      Fiction  \n",
       "4    National Geographic Kids          4.8     7665     12  2019  Non Fiction  \n",
       "..                        ...          ...      ...    ...   ...          ...  \n",
       "538               Ken Follett          4.5    10760     15  2012      Fiction  \n",
       "539               Geneen Roth          4.2     1302     11  2010  Non Fiction  \n",
       "544             R. J. Palacio          4.8    21625      9  2017      Fiction  \n",
       "545               Jeff Kinney          4.9     9413      8  2019      Fiction  \n",
       "549               Jen Sincero          4.7    14331      8  2019  Non Fiction  \n",
       "\n",
       "[351 rows x 7 columns]"
      ]
     },
     "execution_count": 12,
     "metadata": {},
     "output_type": "execute_result"
    }
   ],
   "source": [
    "bestsellers"
   ]
  },
  {
   "cell_type": "markdown",
   "metadata": {},
   "source": [
    "#### Ideas destacadas\n",
    "- Hemos corregido las variaciones ortográficas de los títulos y autores.\n",
    "- Hemos seleccionado las muestras más recientes de cada libro.\n",
    "\n",
    "Con esto, se ha reducido el tamaño del *dataset* de 550 a 351 muestras."
   ]
  },
  {
   "cell_type": "markdown",
   "metadata": {},
   "source": [
    "### 2a.3 Análisis de valores atípicos"
   ]
  },
  {
   "cell_type": "code",
   "execution_count": 13,
   "metadata": {},
   "outputs": [
    {
     "data": {
      "text/html": [
       "        <script type=\"text/javascript\">\n",
       "        window.PlotlyConfig = {MathJaxConfig: 'local'};\n",
       "        if (window.MathJax && window.MathJax.Hub && window.MathJax.Hub.Config) {window.MathJax.Hub.Config({SVG: {font: \"STIX-Web\"}});}\n",
       "        if (typeof require !== 'undefined') {\n",
       "        require.undef(\"plotly\");\n",
       "        requirejs.config({\n",
       "            paths: {\n",
       "                'plotly': ['https://cdn.plot.ly/plotly-2.26.0.min']\n",
       "            }\n",
       "        });\n",
       "        require(['plotly'], function(Plotly) {\n",
       "            window._Plotly = Plotly;\n",
       "        });\n",
       "        }\n",
       "        </script>\n",
       "        "
      ]
     },
     "metadata": {},
     "output_type": "display_data"
    },
    {
     "data": {
      "text/html": [
       "<div>                            <div id=\"8827ad33-30a0-4f1b-8eec-f383e62a4b94\" class=\"plotly-graph-div\" style=\"height:525px; width:100%;\"></div>            <script type=\"text/javascript\">                require([\"plotly\"], function(Plotly) {                    window.PLOTLYENV=window.PLOTLYENV || {};                                    if (document.getElementById(\"8827ad33-30a0-4f1b-8eec-f383e62a4b94\")) {                    Plotly.newPlot(                        \"8827ad33-30a0-4f1b-8eec-f383e62a4b94\",                        [{\"alignmentgroup\":\"True\",\"hovertemplate\":\"Reviews=%{x}\\u003cextra\\u003e\\u003c\\u002fextra\\u003e\",\"legendgroup\":\"\",\"marker\":{\"color\":\"rgb(102,194,165)\"},\"name\":\"\",\"notched\":false,\"offsetgroup\":\"\",\"orientation\":\"h\",\"showlegend\":false,\"x\":[17350,2052,18979,21424,7665,12643,19735,19699,5983,23848,23848,460,4149,5153,5013,2313,2925,2951,2426,9198,36348,36348,6310,15921,12159,798,9374,491,5360,1909,1296,615,61133,61133,11113,10070,10070,3729,9769,471,14344,14344,4505,10369,16244,2884,22614,22614,22614,4761,1542,1542,1542,6143,4022,3871,4866,4866,1329,4642,1541,1924,2094,10922,10922,10922,10922,2137,1651,6679,6679,6812,3837,6540,7955,27098,27098,17684,37,15845,3181,5062,4786,7235,7235,12619,9089,5470,5118,2134,2525,720,956,6346,6346,5505,5505,28729,28729,5413,10721,10721,4370,6042,23631,20262,47265,47265,13964,13677,17323,17323,17323,17323,17323,1555,3642,1215,5594,5594,5594,408,4799,14038,14038,14038,14038,14038,7660,22288,22288,1365,14982,9568,1636,57271,57271,57271,10141,3457,3457,3457,3457,8837,8837,8837,7038,7038,5972,25624,5476,5867,4148,19622,23973,7758,3146,10052,3564,13471,1930,15779,15779,15526,15526,3776,25001,25001,25001,25001,25001,5272,3490,3490,2812,4896,9737,1320,16643,16643,7153,4571,29651,5299,7396,7396,7062,19576,19576,19576,19576,19576,19576,978,4748,8393,11391,8634,9342,9342,10927,5235,8916,2507,3673,3673,3673,11881,6990,6990,6990,6990,6990,6132,3014,7550,3828,2752,1467,1884,25706,8491,1649,18613,18613,9867,1386,10199,2926,17739,17739,17739,3113,5542,5542,5542,26741,26741,26741,5347,7866,5680,5178,8093,3192,21834,21834,21834,21834,21834,21834,21834,21834,6169,4519,3163,3163,1831,18904,21930,10426,10426,10820,10820,548,16990,16990,16990,3503,13616,13616,8580,8580,8580,8580,8580,8580,8580,8580,8580,8580,4757,10009,10009,1985,1985,22536,22536,7150,3836,7802,7802,3619,23047,23047,9366,1265,3923,2272,973,220,7827,7827,9382,5069,5069,5069,5069,5069,5069,5069,5069,5069,1583,1907,23114,637,637,2314,4587,3477,3477,3477,3477,3477,25554,25554,25554,25554,25554,1680,9325,9325,9325,9325,4725,4725,4725,35799,2580,11813,11813,3536,6600,1789,12361,858,23148,23148,8081,8081,23358,23358,9372,4633,13061,13061,3523,2774,440,8922,8922,8922,2023,1859,50482,50482,50482,50482,3207,3207,3207,3207,3207,803,23308,23308,23308,23308,23308,23308,5836,79446,79446,7747,7747,7251,7251,10559,10559,5249,5249,33844,33844,11616,11616,11616,13609,8587,29442,11098,9947,13871,13871,13871,13871,6982,32122,32122,32122,16949,16949,9289,9289,9289,7368,7368,4028,4628,4628,5396,4247,4247,22641,22641,22641,22641,6222,4506,8747,1655,7861,6247,39459,10101,5898,2744,49288,49288,1201,1201,1201,1201,1201,807,3759,2663,3428,2876,3601,7058,9784,9784,10795,10191,14493,2186,1204,2091,19720,19720,2122,27536,4290,26490,26490,26490,5487,6377,1463,3759,3503,11550,3801,3796,9030,19546,19546,19546,19546,19546,19546,19546,7508,7508,7508,8842,8842,8842,8842,30183,30183,6169,7034,11034,11034,7932,1904,3319,3319,11128,11128,11128,11128,5977,26234,26234,26234,26234,26234,4360,2282,438,11676,2586,29673,29673,29673,29673,29673,6740,5956,6108,4585,3829,8958,5492,9292,1873,8170,3341,7497,7497,13779,87841,9967,6669,17044,10760,1302,21625,21625,21625,21625,21625,9413,14331,14331,14331,14331],\"x0\":\" \",\"xaxis\":\"x\",\"y0\":\" \",\"yaxis\":\"y\",\"type\":\"box\"}],                        {\"template\":{\"data\":{\"histogram2dcontour\":[{\"type\":\"histogram2dcontour\",\"colorbar\":{\"outlinewidth\":0,\"ticks\":\"\"},\"colorscale\":[[0.0,\"#0d0887\"],[0.1111111111111111,\"#46039f\"],[0.2222222222222222,\"#7201a8\"],[0.3333333333333333,\"#9c179e\"],[0.4444444444444444,\"#bd3786\"],[0.5555555555555556,\"#d8576b\"],[0.6666666666666666,\"#ed7953\"],[0.7777777777777778,\"#fb9f3a\"],[0.8888888888888888,\"#fdca26\"],[1.0,\"#f0f921\"]]}],\"choropleth\":[{\"type\":\"choropleth\",\"colorbar\":{\"outlinewidth\":0,\"ticks\":\"\"}}],\"histogram2d\":[{\"type\":\"histogram2d\",\"colorbar\":{\"outlinewidth\":0,\"ticks\":\"\"},\"colorscale\":[[0.0,\"#0d0887\"],[0.1111111111111111,\"#46039f\"],[0.2222222222222222,\"#7201a8\"],[0.3333333333333333,\"#9c179e\"],[0.4444444444444444,\"#bd3786\"],[0.5555555555555556,\"#d8576b\"],[0.6666666666666666,\"#ed7953\"],[0.7777777777777778,\"#fb9f3a\"],[0.8888888888888888,\"#fdca26\"],[1.0,\"#f0f921\"]]}],\"heatmap\":[{\"type\":\"heatmap\",\"colorbar\":{\"outlinewidth\":0,\"ticks\":\"\"},\"colorscale\":[[0.0,\"#0d0887\"],[0.1111111111111111,\"#46039f\"],[0.2222222222222222,\"#7201a8\"],[0.3333333333333333,\"#9c179e\"],[0.4444444444444444,\"#bd3786\"],[0.5555555555555556,\"#d8576b\"],[0.6666666666666666,\"#ed7953\"],[0.7777777777777778,\"#fb9f3a\"],[0.8888888888888888,\"#fdca26\"],[1.0,\"#f0f921\"]]}],\"heatmapgl\":[{\"type\":\"heatmapgl\",\"colorbar\":{\"outlinewidth\":0,\"ticks\":\"\"},\"colorscale\":[[0.0,\"#0d0887\"],[0.1111111111111111,\"#46039f\"],[0.2222222222222222,\"#7201a8\"],[0.3333333333333333,\"#9c179e\"],[0.4444444444444444,\"#bd3786\"],[0.5555555555555556,\"#d8576b\"],[0.6666666666666666,\"#ed7953\"],[0.7777777777777778,\"#fb9f3a\"],[0.8888888888888888,\"#fdca26\"],[1.0,\"#f0f921\"]]}],\"contourcarpet\":[{\"type\":\"contourcarpet\",\"colorbar\":{\"outlinewidth\":0,\"ticks\":\"\"}}],\"contour\":[{\"type\":\"contour\",\"colorbar\":{\"outlinewidth\":0,\"ticks\":\"\"},\"colorscale\":[[0.0,\"#0d0887\"],[0.1111111111111111,\"#46039f\"],[0.2222222222222222,\"#7201a8\"],[0.3333333333333333,\"#9c179e\"],[0.4444444444444444,\"#bd3786\"],[0.5555555555555556,\"#d8576b\"],[0.6666666666666666,\"#ed7953\"],[0.7777777777777778,\"#fb9f3a\"],[0.8888888888888888,\"#fdca26\"],[1.0,\"#f0f921\"]]}],\"surface\":[{\"type\":\"surface\",\"colorbar\":{\"outlinewidth\":0,\"ticks\":\"\"},\"colorscale\":[[0.0,\"#0d0887\"],[0.1111111111111111,\"#46039f\"],[0.2222222222222222,\"#7201a8\"],[0.3333333333333333,\"#9c179e\"],[0.4444444444444444,\"#bd3786\"],[0.5555555555555556,\"#d8576b\"],[0.6666666666666666,\"#ed7953\"],[0.7777777777777778,\"#fb9f3a\"],[0.8888888888888888,\"#fdca26\"],[1.0,\"#f0f921\"]]}],\"mesh3d\":[{\"type\":\"mesh3d\",\"colorbar\":{\"outlinewidth\":0,\"ticks\":\"\"}}],\"scatter\":[{\"fillpattern\":{\"fillmode\":\"overlay\",\"size\":10,\"solidity\":0.2},\"type\":\"scatter\"}],\"parcoords\":[{\"type\":\"parcoords\",\"line\":{\"colorbar\":{\"outlinewidth\":0,\"ticks\":\"\"}}}],\"scatterpolargl\":[{\"type\":\"scatterpolargl\",\"marker\":{\"colorbar\":{\"outlinewidth\":0,\"ticks\":\"\"}}}],\"bar\":[{\"error_x\":{\"color\":\"#2a3f5f\"},\"error_y\":{\"color\":\"#2a3f5f\"},\"marker\":{\"line\":{\"color\":\"#E5ECF6\",\"width\":0.5},\"pattern\":{\"fillmode\":\"overlay\",\"size\":10,\"solidity\":0.2}},\"type\":\"bar\"}],\"scattergeo\":[{\"type\":\"scattergeo\",\"marker\":{\"colorbar\":{\"outlinewidth\":0,\"ticks\":\"\"}}}],\"scatterpolar\":[{\"type\":\"scatterpolar\",\"marker\":{\"colorbar\":{\"outlinewidth\":0,\"ticks\":\"\"}}}],\"histogram\":[{\"marker\":{\"pattern\":{\"fillmode\":\"overlay\",\"size\":10,\"solidity\":0.2}},\"type\":\"histogram\"}],\"scattergl\":[{\"type\":\"scattergl\",\"marker\":{\"colorbar\":{\"outlinewidth\":0,\"ticks\":\"\"}}}],\"scatter3d\":[{\"type\":\"scatter3d\",\"line\":{\"colorbar\":{\"outlinewidth\":0,\"ticks\":\"\"}},\"marker\":{\"colorbar\":{\"outlinewidth\":0,\"ticks\":\"\"}}}],\"scattermapbox\":[{\"type\":\"scattermapbox\",\"marker\":{\"colorbar\":{\"outlinewidth\":0,\"ticks\":\"\"}}}],\"scatterternary\":[{\"type\":\"scatterternary\",\"marker\":{\"colorbar\":{\"outlinewidth\":0,\"ticks\":\"\"}}}],\"scattercarpet\":[{\"type\":\"scattercarpet\",\"marker\":{\"colorbar\":{\"outlinewidth\":0,\"ticks\":\"\"}}}],\"carpet\":[{\"aaxis\":{\"endlinecolor\":\"#2a3f5f\",\"gridcolor\":\"white\",\"linecolor\":\"white\",\"minorgridcolor\":\"white\",\"startlinecolor\":\"#2a3f5f\"},\"baxis\":{\"endlinecolor\":\"#2a3f5f\",\"gridcolor\":\"white\",\"linecolor\":\"white\",\"minorgridcolor\":\"white\",\"startlinecolor\":\"#2a3f5f\"},\"type\":\"carpet\"}],\"table\":[{\"cells\":{\"fill\":{\"color\":\"#EBF0F8\"},\"line\":{\"color\":\"white\"}},\"header\":{\"fill\":{\"color\":\"#C8D4E3\"},\"line\":{\"color\":\"white\"}},\"type\":\"table\"}],\"barpolar\":[{\"marker\":{\"line\":{\"color\":\"#E5ECF6\",\"width\":0.5},\"pattern\":{\"fillmode\":\"overlay\",\"size\":10,\"solidity\":0.2}},\"type\":\"barpolar\"}],\"pie\":[{\"automargin\":true,\"type\":\"pie\"}]},\"layout\":{\"autotypenumbers\":\"strict\",\"colorway\":[\"rgb(102,194,165)\",\"rgb(252,141,98)\",\"rgb(141,160,203)\",\"rgb(231,138,195)\",\"rgb(166,216,84)\",\"rgb(255,217,47)\",\"rgb(229,196,148)\",\"rgb(179,179,179)\"],\"font\":{\"color\":\"#2a3f5f\"},\"hovermode\":\"closest\",\"hoverlabel\":{\"align\":\"left\"},\"paper_bgcolor\":\"white\",\"plot_bgcolor\":\"#E5ECF6\",\"polar\":{\"bgcolor\":\"#E5ECF6\",\"angularaxis\":{\"gridcolor\":\"white\",\"linecolor\":\"white\",\"ticks\":\"\"},\"radialaxis\":{\"gridcolor\":\"white\",\"linecolor\":\"white\",\"ticks\":\"\"}},\"ternary\":{\"bgcolor\":\"#E5ECF6\",\"aaxis\":{\"gridcolor\":\"white\",\"linecolor\":\"white\",\"ticks\":\"\"},\"baxis\":{\"gridcolor\":\"white\",\"linecolor\":\"white\",\"ticks\":\"\"},\"caxis\":{\"gridcolor\":\"white\",\"linecolor\":\"white\",\"ticks\":\"\"}},\"coloraxis\":{\"colorbar\":{\"outlinewidth\":0,\"ticks\":\"\"}},\"colorscale\":{\"sequential\":[[0.0,\"#0d0887\"],[0.1111111111111111,\"#46039f\"],[0.2222222222222222,\"#7201a8\"],[0.3333333333333333,\"#9c179e\"],[0.4444444444444444,\"#bd3786\"],[0.5555555555555556,\"#d8576b\"],[0.6666666666666666,\"#ed7953\"],[0.7777777777777778,\"#fb9f3a\"],[0.8888888888888888,\"#fdca26\"],[1.0,\"#f0f921\"]],\"sequentialminus\":[[0.0,\"#0d0887\"],[0.1111111111111111,\"#46039f\"],[0.2222222222222222,\"#7201a8\"],[0.3333333333333333,\"#9c179e\"],[0.4444444444444444,\"#bd3786\"],[0.5555555555555556,\"#d8576b\"],[0.6666666666666666,\"#ed7953\"],[0.7777777777777778,\"#fb9f3a\"],[0.8888888888888888,\"#fdca26\"],[1.0,\"#f0f921\"]],\"diverging\":[[0,\"#8e0152\"],[0.1,\"#c51b7d\"],[0.2,\"#de77ae\"],[0.3,\"#f1b6da\"],[0.4,\"#fde0ef\"],[0.5,\"#f7f7f7\"],[0.6,\"#e6f5d0\"],[0.7,\"#b8e186\"],[0.8,\"#7fbc41\"],[0.9,\"#4d9221\"],[1,\"#276419\"]]},\"xaxis\":{\"gridcolor\":\"white\",\"linecolor\":\"white\",\"ticks\":\"\",\"title\":{\"standoff\":15},\"zerolinecolor\":\"white\",\"automargin\":true,\"zerolinewidth\":2},\"yaxis\":{\"gridcolor\":\"white\",\"linecolor\":\"white\",\"ticks\":\"\",\"title\":{\"standoff\":15},\"zerolinecolor\":\"white\",\"automargin\":true,\"zerolinewidth\":2},\"scene\":{\"xaxis\":{\"backgroundcolor\":\"#E5ECF6\",\"gridcolor\":\"white\",\"linecolor\":\"white\",\"showbackground\":true,\"ticks\":\"\",\"zerolinecolor\":\"white\",\"gridwidth\":2},\"yaxis\":{\"backgroundcolor\":\"#E5ECF6\",\"gridcolor\":\"white\",\"linecolor\":\"white\",\"showbackground\":true,\"ticks\":\"\",\"zerolinecolor\":\"white\",\"gridwidth\":2},\"zaxis\":{\"backgroundcolor\":\"#E5ECF6\",\"gridcolor\":\"white\",\"linecolor\":\"white\",\"showbackground\":true,\"ticks\":\"\",\"zerolinecolor\":\"white\",\"gridwidth\":2}},\"shapedefaults\":{\"line\":{\"color\":\"#2a3f5f\"}},\"annotationdefaults\":{\"arrowcolor\":\"#2a3f5f\",\"arrowhead\":0,\"arrowwidth\":1},\"geo\":{\"bgcolor\":\"white\",\"landcolor\":\"#E5ECF6\",\"subunitcolor\":\"white\",\"showland\":true,\"showlakes\":true,\"lakecolor\":\"white\"},\"title\":{\"x\":0.05},\"mapbox\":{\"style\":\"light\"}}},\"xaxis\":{\"anchor\":\"y\",\"domain\":[0.0,1.0],\"title\":{\"text\":\"Reviews\"}},\"yaxis\":{\"anchor\":\"x\",\"domain\":[0.0,1.0]},\"legend\":{\"tracegroupgap\":0},\"title\":{\"text\":\"Boxplot of Reviews\",\"x\":0.5},\"boxmode\":\"group\"},                        {\"responsive\": true}                    ).then(function(){\n",
       "                            \n",
       "var gd = document.getElementById('8827ad33-30a0-4f1b-8eec-f383e62a4b94');\n",
       "var x = new MutationObserver(function (mutations, observer) {{\n",
       "        var display = window.getComputedStyle(gd).display;\n",
       "        if (!display || display === 'none') {{\n",
       "            console.log([gd, 'removed!']);\n",
       "            Plotly.purge(gd);\n",
       "            observer.disconnect();\n",
       "        }}\n",
       "}});\n",
       "\n",
       "// Listen for the removal of the full notebook cells\n",
       "var notebookContainer = gd.closest('#notebook-container');\n",
       "if (notebookContainer) {{\n",
       "    x.observe(notebookContainer, {childList: true});\n",
       "}}\n",
       "\n",
       "// Listen for the clearing of the current output cell\n",
       "var outputEl = gd.closest('.output');\n",
       "if (outputEl) {{\n",
       "    x.observe(outputEl, {childList: true});\n",
       "}}\n",
       "\n",
       "                        })                };                });            </script>        </div>"
      ]
     },
     "metadata": {},
     "output_type": "display_data"
    },
    {
     "data": {
      "text/html": [
       "<div>                            <div id=\"fe64d31a-0bfe-41fd-9ce3-61ef3338e9b7\" class=\"plotly-graph-div\" style=\"height:525px; width:100%;\"></div>            <script type=\"text/javascript\">                require([\"plotly\"], function(Plotly) {                    window.PLOTLYENV=window.PLOTLYENV || {};                                    if (document.getElementById(\"fe64d31a-0bfe-41fd-9ce3-61ef3338e9b7\")) {                    Plotly.newPlot(                        \"fe64d31a-0bfe-41fd-9ce3-61ef3338e9b7\",                        [{\"alignmentgroup\":\"True\",\"hovertemplate\":\"Price=%{x}\\u003cextra\\u003e\\u003c\\u002fextra\\u003e\",\"legendgroup\":\"\",\"marker\":{\"color\":\"rgb(102,194,165)\"},\"name\":\"\",\"notched\":false,\"offsetgroup\":\"\",\"orientation\":\"h\",\"showlegend\":false,\"x\":[8,22,15,6,12,11,30,15,3,8,8,2,32,5,17,4,6,6,8,13,14,14,13,9,13,5,9,14,5,11,24,21,11,11,15,13,13,18,13,8,5,5,0,4,18,28,11,11,11,16,14,14,14,8,4,5,11,11,10,13,4,8,4,5,5,5,5,17,15,105,105,0,15,22,5,15,15,6,6,13,12,6,8,4,4,8,8,6,20,5,16,1,14,9,9,7,18,15,15,9,8,8,15,2,7,11,14,14,32,6,4,4,4,4,4,9,0,9,5,5,5,20,16,4,4,4,4,4,12,12,12,11,19,9,6,10,10,9,6,14,14,14,14,5,5,5,7,7,10,14,7,54,11,30,12,18,30,22,9,52,4,10,10,14,14,22,11,11,11,11,11,16,15,15,17,17,7,7,4,4,9,21,14,20,13,13,12,8,8,8,8,8,8,0,12,17,12,25,10,10,6,5,6,8,4,4,4,13,4,4,4,4,4,13,21,6,15,18,10,0,12,7,13,5,5,16,20,11,27,8,8,8,6,10,10,10,8,8,8,16,11,10,9,14,22,8,8,8,8,8,8,8,8,7,12,13,13,9,13,11,20,20,5,5,2,27,27,27,9,10,10,46,46,46,46,46,46,46,46,46,46,4,20,7,9,9,12,12,12,12,20,20,10,6,6,9,11,16,6,25,17,20,20,6,17,17,17,17,17,17,17,17,17,18,13,18,20,20,22,21,28,28,28,28,28,8,8,8,8,8,12,24,24,24,24,16,16,16,39,9,10,10,17,11,14,12,53,6,6,8,8,12,12,12,21,6,6,13,0,11,9,9,9,15,11,13,13,7,13,6,6,6,6,6,9,6,6,6,6,6,6,0,18,7,14,14,9,16,2,2,5,5,20,20,7,7,7,14,10,7,13,11,6,6,8,7,14,14,8,8,30,30,13,9,9,7,7,9,7,7,20,13,13,11,11,11,11,18,14,19,13,5,10,9,8,8,12,11,11,40,40,40,40,40,36,16,17,14,21,18,17,5,5,21,18,18,12,14,12,8,8,0,14,10,15,15,15,9,7,10,6,9,10,82,12,10,5,5,5,5,5,5,5,16,16,16,10,10,10,10,4,4,16,15,19,19,9,23,11,11,23,23,23,23,12,0,0,0,0,7,21,21,15,9,5,16,16,16,13,16,20,11,4,9,42,12,18,17,14,13,9,6,6,14,15,13,12,18,15,11,9,9,9,9,9,8,8,8,8,8],\"x0\":\" \",\"xaxis\":\"x\",\"y0\":\" \",\"yaxis\":\"y\",\"type\":\"box\"}],                        {\"template\":{\"data\":{\"histogram2dcontour\":[{\"type\":\"histogram2dcontour\",\"colorbar\":{\"outlinewidth\":0,\"ticks\":\"\"},\"colorscale\":[[0.0,\"#0d0887\"],[0.1111111111111111,\"#46039f\"],[0.2222222222222222,\"#7201a8\"],[0.3333333333333333,\"#9c179e\"],[0.4444444444444444,\"#bd3786\"],[0.5555555555555556,\"#d8576b\"],[0.6666666666666666,\"#ed7953\"],[0.7777777777777778,\"#fb9f3a\"],[0.8888888888888888,\"#fdca26\"],[1.0,\"#f0f921\"]]}],\"choropleth\":[{\"type\":\"choropleth\",\"colorbar\":{\"outlinewidth\":0,\"ticks\":\"\"}}],\"histogram2d\":[{\"type\":\"histogram2d\",\"colorbar\":{\"outlinewidth\":0,\"ticks\":\"\"},\"colorscale\":[[0.0,\"#0d0887\"],[0.1111111111111111,\"#46039f\"],[0.2222222222222222,\"#7201a8\"],[0.3333333333333333,\"#9c179e\"],[0.4444444444444444,\"#bd3786\"],[0.5555555555555556,\"#d8576b\"],[0.6666666666666666,\"#ed7953\"],[0.7777777777777778,\"#fb9f3a\"],[0.8888888888888888,\"#fdca26\"],[1.0,\"#f0f921\"]]}],\"heatmap\":[{\"type\":\"heatmap\",\"colorbar\":{\"outlinewidth\":0,\"ticks\":\"\"},\"colorscale\":[[0.0,\"#0d0887\"],[0.1111111111111111,\"#46039f\"],[0.2222222222222222,\"#7201a8\"],[0.3333333333333333,\"#9c179e\"],[0.4444444444444444,\"#bd3786\"],[0.5555555555555556,\"#d8576b\"],[0.6666666666666666,\"#ed7953\"],[0.7777777777777778,\"#fb9f3a\"],[0.8888888888888888,\"#fdca26\"],[1.0,\"#f0f921\"]]}],\"heatmapgl\":[{\"type\":\"heatmapgl\",\"colorbar\":{\"outlinewidth\":0,\"ticks\":\"\"},\"colorscale\":[[0.0,\"#0d0887\"],[0.1111111111111111,\"#46039f\"],[0.2222222222222222,\"#7201a8\"],[0.3333333333333333,\"#9c179e\"],[0.4444444444444444,\"#bd3786\"],[0.5555555555555556,\"#d8576b\"],[0.6666666666666666,\"#ed7953\"],[0.7777777777777778,\"#fb9f3a\"],[0.8888888888888888,\"#fdca26\"],[1.0,\"#f0f921\"]]}],\"contourcarpet\":[{\"type\":\"contourcarpet\",\"colorbar\":{\"outlinewidth\":0,\"ticks\":\"\"}}],\"contour\":[{\"type\":\"contour\",\"colorbar\":{\"outlinewidth\":0,\"ticks\":\"\"},\"colorscale\":[[0.0,\"#0d0887\"],[0.1111111111111111,\"#46039f\"],[0.2222222222222222,\"#7201a8\"],[0.3333333333333333,\"#9c179e\"],[0.4444444444444444,\"#bd3786\"],[0.5555555555555556,\"#d8576b\"],[0.6666666666666666,\"#ed7953\"],[0.7777777777777778,\"#fb9f3a\"],[0.8888888888888888,\"#fdca26\"],[1.0,\"#f0f921\"]]}],\"surface\":[{\"type\":\"surface\",\"colorbar\":{\"outlinewidth\":0,\"ticks\":\"\"},\"colorscale\":[[0.0,\"#0d0887\"],[0.1111111111111111,\"#46039f\"],[0.2222222222222222,\"#7201a8\"],[0.3333333333333333,\"#9c179e\"],[0.4444444444444444,\"#bd3786\"],[0.5555555555555556,\"#d8576b\"],[0.6666666666666666,\"#ed7953\"],[0.7777777777777778,\"#fb9f3a\"],[0.8888888888888888,\"#fdca26\"],[1.0,\"#f0f921\"]]}],\"mesh3d\":[{\"type\":\"mesh3d\",\"colorbar\":{\"outlinewidth\":0,\"ticks\":\"\"}}],\"scatter\":[{\"fillpattern\":{\"fillmode\":\"overlay\",\"size\":10,\"solidity\":0.2},\"type\":\"scatter\"}],\"parcoords\":[{\"type\":\"parcoords\",\"line\":{\"colorbar\":{\"outlinewidth\":0,\"ticks\":\"\"}}}],\"scatterpolargl\":[{\"type\":\"scatterpolargl\",\"marker\":{\"colorbar\":{\"outlinewidth\":0,\"ticks\":\"\"}}}],\"bar\":[{\"error_x\":{\"color\":\"#2a3f5f\"},\"error_y\":{\"color\":\"#2a3f5f\"},\"marker\":{\"line\":{\"color\":\"#E5ECF6\",\"width\":0.5},\"pattern\":{\"fillmode\":\"overlay\",\"size\":10,\"solidity\":0.2}},\"type\":\"bar\"}],\"scattergeo\":[{\"type\":\"scattergeo\",\"marker\":{\"colorbar\":{\"outlinewidth\":0,\"ticks\":\"\"}}}],\"scatterpolar\":[{\"type\":\"scatterpolar\",\"marker\":{\"colorbar\":{\"outlinewidth\":0,\"ticks\":\"\"}}}],\"histogram\":[{\"marker\":{\"pattern\":{\"fillmode\":\"overlay\",\"size\":10,\"solidity\":0.2}},\"type\":\"histogram\"}],\"scattergl\":[{\"type\":\"scattergl\",\"marker\":{\"colorbar\":{\"outlinewidth\":0,\"ticks\":\"\"}}}],\"scatter3d\":[{\"type\":\"scatter3d\",\"line\":{\"colorbar\":{\"outlinewidth\":0,\"ticks\":\"\"}},\"marker\":{\"colorbar\":{\"outlinewidth\":0,\"ticks\":\"\"}}}],\"scattermapbox\":[{\"type\":\"scattermapbox\",\"marker\":{\"colorbar\":{\"outlinewidth\":0,\"ticks\":\"\"}}}],\"scatterternary\":[{\"type\":\"scatterternary\",\"marker\":{\"colorbar\":{\"outlinewidth\":0,\"ticks\":\"\"}}}],\"scattercarpet\":[{\"type\":\"scattercarpet\",\"marker\":{\"colorbar\":{\"outlinewidth\":0,\"ticks\":\"\"}}}],\"carpet\":[{\"aaxis\":{\"endlinecolor\":\"#2a3f5f\",\"gridcolor\":\"white\",\"linecolor\":\"white\",\"minorgridcolor\":\"white\",\"startlinecolor\":\"#2a3f5f\"},\"baxis\":{\"endlinecolor\":\"#2a3f5f\",\"gridcolor\":\"white\",\"linecolor\":\"white\",\"minorgridcolor\":\"white\",\"startlinecolor\":\"#2a3f5f\"},\"type\":\"carpet\"}],\"table\":[{\"cells\":{\"fill\":{\"color\":\"#EBF0F8\"},\"line\":{\"color\":\"white\"}},\"header\":{\"fill\":{\"color\":\"#C8D4E3\"},\"line\":{\"color\":\"white\"}},\"type\":\"table\"}],\"barpolar\":[{\"marker\":{\"line\":{\"color\":\"#E5ECF6\",\"width\":0.5},\"pattern\":{\"fillmode\":\"overlay\",\"size\":10,\"solidity\":0.2}},\"type\":\"barpolar\"}],\"pie\":[{\"automargin\":true,\"type\":\"pie\"}]},\"layout\":{\"autotypenumbers\":\"strict\",\"colorway\":[\"rgb(102,194,165)\",\"rgb(252,141,98)\",\"rgb(141,160,203)\",\"rgb(231,138,195)\",\"rgb(166,216,84)\",\"rgb(255,217,47)\",\"rgb(229,196,148)\",\"rgb(179,179,179)\"],\"font\":{\"color\":\"#2a3f5f\"},\"hovermode\":\"closest\",\"hoverlabel\":{\"align\":\"left\"},\"paper_bgcolor\":\"white\",\"plot_bgcolor\":\"#E5ECF6\",\"polar\":{\"bgcolor\":\"#E5ECF6\",\"angularaxis\":{\"gridcolor\":\"white\",\"linecolor\":\"white\",\"ticks\":\"\"},\"radialaxis\":{\"gridcolor\":\"white\",\"linecolor\":\"white\",\"ticks\":\"\"}},\"ternary\":{\"bgcolor\":\"#E5ECF6\",\"aaxis\":{\"gridcolor\":\"white\",\"linecolor\":\"white\",\"ticks\":\"\"},\"baxis\":{\"gridcolor\":\"white\",\"linecolor\":\"white\",\"ticks\":\"\"},\"caxis\":{\"gridcolor\":\"white\",\"linecolor\":\"white\",\"ticks\":\"\"}},\"coloraxis\":{\"colorbar\":{\"outlinewidth\":0,\"ticks\":\"\"}},\"colorscale\":{\"sequential\":[[0.0,\"#0d0887\"],[0.1111111111111111,\"#46039f\"],[0.2222222222222222,\"#7201a8\"],[0.3333333333333333,\"#9c179e\"],[0.4444444444444444,\"#bd3786\"],[0.5555555555555556,\"#d8576b\"],[0.6666666666666666,\"#ed7953\"],[0.7777777777777778,\"#fb9f3a\"],[0.8888888888888888,\"#fdca26\"],[1.0,\"#f0f921\"]],\"sequentialminus\":[[0.0,\"#0d0887\"],[0.1111111111111111,\"#46039f\"],[0.2222222222222222,\"#7201a8\"],[0.3333333333333333,\"#9c179e\"],[0.4444444444444444,\"#bd3786\"],[0.5555555555555556,\"#d8576b\"],[0.6666666666666666,\"#ed7953\"],[0.7777777777777778,\"#fb9f3a\"],[0.8888888888888888,\"#fdca26\"],[1.0,\"#f0f921\"]],\"diverging\":[[0,\"#8e0152\"],[0.1,\"#c51b7d\"],[0.2,\"#de77ae\"],[0.3,\"#f1b6da\"],[0.4,\"#fde0ef\"],[0.5,\"#f7f7f7\"],[0.6,\"#e6f5d0\"],[0.7,\"#b8e186\"],[0.8,\"#7fbc41\"],[0.9,\"#4d9221\"],[1,\"#276419\"]]},\"xaxis\":{\"gridcolor\":\"white\",\"linecolor\":\"white\",\"ticks\":\"\",\"title\":{\"standoff\":15},\"zerolinecolor\":\"white\",\"automargin\":true,\"zerolinewidth\":2},\"yaxis\":{\"gridcolor\":\"white\",\"linecolor\":\"white\",\"ticks\":\"\",\"title\":{\"standoff\":15},\"zerolinecolor\":\"white\",\"automargin\":true,\"zerolinewidth\":2},\"scene\":{\"xaxis\":{\"backgroundcolor\":\"#E5ECF6\",\"gridcolor\":\"white\",\"linecolor\":\"white\",\"showbackground\":true,\"ticks\":\"\",\"zerolinecolor\":\"white\",\"gridwidth\":2},\"yaxis\":{\"backgroundcolor\":\"#E5ECF6\",\"gridcolor\":\"white\",\"linecolor\":\"white\",\"showbackground\":true,\"ticks\":\"\",\"zerolinecolor\":\"white\",\"gridwidth\":2},\"zaxis\":{\"backgroundcolor\":\"#E5ECF6\",\"gridcolor\":\"white\",\"linecolor\":\"white\",\"showbackground\":true,\"ticks\":\"\",\"zerolinecolor\":\"white\",\"gridwidth\":2}},\"shapedefaults\":{\"line\":{\"color\":\"#2a3f5f\"}},\"annotationdefaults\":{\"arrowcolor\":\"#2a3f5f\",\"arrowhead\":0,\"arrowwidth\":1},\"geo\":{\"bgcolor\":\"white\",\"landcolor\":\"#E5ECF6\",\"subunitcolor\":\"white\",\"showland\":true,\"showlakes\":true,\"lakecolor\":\"white\"},\"title\":{\"x\":0.05},\"mapbox\":{\"style\":\"light\"}}},\"xaxis\":{\"anchor\":\"y\",\"domain\":[0.0,1.0],\"title\":{\"text\":\"Price\"}},\"yaxis\":{\"anchor\":\"x\",\"domain\":[0.0,1.0]},\"legend\":{\"tracegroupgap\":0},\"title\":{\"text\":\"Boxplot of Price\",\"x\":0.5},\"boxmode\":\"group\"},                        {\"responsive\": true}                    ).then(function(){\n",
       "                            \n",
       "var gd = document.getElementById('fe64d31a-0bfe-41fd-9ce3-61ef3338e9b7');\n",
       "var x = new MutationObserver(function (mutations, observer) {{\n",
       "        var display = window.getComputedStyle(gd).display;\n",
       "        if (!display || display === 'none') {{\n",
       "            console.log([gd, 'removed!']);\n",
       "            Plotly.purge(gd);\n",
       "            observer.disconnect();\n",
       "        }}\n",
       "}});\n",
       "\n",
       "// Listen for the removal of the full notebook cells\n",
       "var notebookContainer = gd.closest('#notebook-container');\n",
       "if (notebookContainer) {{\n",
       "    x.observe(notebookContainer, {childList: true});\n",
       "}}\n",
       "\n",
       "// Listen for the clearing of the current output cell\n",
       "var outputEl = gd.closest('.output');\n",
       "if (outputEl) {{\n",
       "    x.observe(outputEl, {childList: true});\n",
       "}}\n",
       "\n",
       "                        })                };                });            </script>        </div>"
      ]
     },
     "metadata": {},
     "output_type": "display_data"
    }
   ],
   "source": [
    "selected_columns = [\"Reviews\", \"Price\"]\n",
    "\n",
    "for column in selected_columns:\n",
    "    fig = px.box(df, x=column, title=f\"Boxplot of {column}\")\n",
    "    fig.update_layout(title_x=0.5)\n",
    "    fig.show()"
   ]
  },
  {
   "cell_type": "markdown",
   "metadata": {},
   "source": [
    "#### Ideas destacadas\n",
    "\n",
    "Se pueden hacer tres cosas con los *outliers*, siguiendo la mnemotecnia **3R: rectificar, retener o remover**.\n",
    "En este caso, podemos estar ante valores atípicos genuinos, por tanto vamos a retenerlos por el momento.\n"
   ]
  },
  {
   "cell_type": "markdown",
   "metadata": {},
   "source": [
    "### 2a.4 Variables con varianza cercana a cero"
   ]
  },
  {
   "cell_type": "markdown",
   "metadata": {},
   "source": [
    "Si la *variance* es cero, la variable no aporta información para el análisis estadístico o el modelado, por lo tanto, puede ser eliminada.\n",
    "\n",
    "Si la *variance* es casi cero, también es una variable candidata a ser eliminada, ya que aporta poca información y puede generar ruido en el análisis.\n",
    "\n",
    "Es importante tener en cuenta que el umbral para considerar una variable como \"Near Zero Variance\" puede variar según el contexto y el problema específico que se esté abordando."
   ]
  },
  {
   "cell_type": "code",
   "execution_count": 14,
   "metadata": {},
   "outputs": [
    {
     "name": "stdout",
     "output_type": "stream",
     "text": [
      "Columns with Zero & Near Zero Variance:\n",
      "Index(['User Rating'], dtype='object')\n"
     ]
    }
   ],
   "source": [
    "selected_columns = [\"User Rating\", \"Reviews\", \"Price\"]\n",
    "\n",
    "# Calculate the variance of each column\n",
    "variances = bestsellers[selected_columns].var()\n",
    "\n",
    "# Define a threshold for variance\n",
    "threshold = 0.1\n",
    "\n",
    "# Identify columns with near-zero or very small variance\n",
    "zero_variance_cols = variances[variances <= threshold].index\n",
    "\n",
    "print(\"Columns with Zero & Near Zero Variance:\")\n",
    "print(zero_variance_cols)"
   ]
  },
  {
   "cell_type": "markdown",
   "metadata": {},
   "source": [
    "La variable \"User Rating\" parece estar por debajo del umbral que hemos escogido arbitrariamente. Vamos a representarla gráficamente para comprender mejor la situación."
   ]
  },
  {
   "cell_type": "code",
   "execution_count": 15,
   "metadata": {},
   "outputs": [
    {
     "data": {
      "text/html": [
       "<div>                            <div id=\"ba01cb06-e292-42ae-a476-e1309c3d43b1\" class=\"plotly-graph-div\" style=\"height:525px; width:100%;\"></div>            <script type=\"text/javascript\">                require([\"plotly\"], function(Plotly) {                    window.PLOTLYENV=window.PLOTLYENV || {};                                    if (document.getElementById(\"ba01cb06-e292-42ae-a476-e1309c3d43b1\")) {                    Plotly.newPlot(                        \"ba01cb06-e292-42ae-a476-e1309c3d43b1\",                        [{\"alignmentgroup\":\"True\",\"box\":{\"visible\":false},\"hovertemplate\":\"User Rating=%{x}\\u003cextra\\u003e\\u003c\\u002fextra\\u003e\",\"legendgroup\":\"\",\"marker\":{\"color\":\"rgb(102,194,165)\"},\"name\":\"\",\"offsetgroup\":\"\",\"orientation\":\"h\",\"points\":\"all\",\"scalegroup\":\"True\",\"showlegend\":false,\"x\":[4.7,4.6,4.7,4.7,4.8,4.4,4.7,4.7,4.7,4.6,4.6,4.6,4.6,4.5,4.6,4.5,4.6,4.4,4.5,4.8,4.6,4.6,3.9,4.6,4.3,4.6,4.7,4.2,4.6,4.6,4.8,4.7,4.8,4.8,4.8,4.7,4.7,4.7,4.6,4.5,4.9,4.9,4.8,4.6,4.8,4.5,4.7,4.7,4.7,4.7,4.7,4.7,4.7,4.3,4.8,4.8,4.6,4.6,4.8,4.4,4.6,4.3,4.2,4.8,4.8,4.8,4.8,4.6,4.6,4.5,4.5,4.8,4.8,4.8,4.6,4.6,4.6,4.5,4.6,4.7,4.8,4.9,4.9,4.9,4.9,4.9,4.9,4.9,4.8,4.6,4.5,4.5,4.3,4.5,4.5,4.7,4.7,4.7,4.7,4.7,4.6,4.6,4.7,4.4,4.4,4.5,3.8,3.8,4.5,4.2,4.7,4.7,4.7,4.7,4.7,4.4,4.7,4.4,4.6,4.6,4.6,4.5,4.6,4.8,4.8,4.8,4.8,4.8,4.6,4.6,4.6,4.6,3.6,4.8,4.6,4.0,4.0,4.0,4.6,4.5,4.5,4.5,4.5,4.8,4.8,4.8,4.9,4.9,4.6,4.4,4.8,4.9,4.8,4.9,4.0,4.9,4.9,4.9,4.7,4.8,4.8,4.7,4.7,4.4,4.4,4.8,4.7,4.7,4.7,4.7,4.7,4.3,4.8,4.8,4.9,4.7,4.8,4.6,4.8,4.8,4.3,4.4,4.1,4.6,4.4,4.4,4.8,4.9,4.9,4.9,4.9,4.9,4.9,4.6,4.5,4.6,4.5,4.6,4.7,4.7,4.6,4.6,4.8,4.8,4.5,4.5,4.5,4.9,4.6,4.6,4.6,4.6,4.6,4.5,4.5,4.4,4.8,4.5,4.1,4.9,4.5,4.5,4.2,4.8,4.8,4.8,4.5,4.7,4.8,4.7,4.7,4.7,4.4,4.6,4.6,4.6,4.5,4.5,4.5,4.8,4.8,4.6,4.7,4.6,4.9,4.9,4.9,4.9,4.9,4.9,4.9,4.9,4.9,4.8,4.2,4.6,4.6,4.5,4.3,4.6,4.6,4.6,4.7,4.7,4.8,4.8,4.8,4.8,4.7,4.3,4.3,4.5,4.5,4.5,4.5,4.5,4.5,4.5,4.5,4.5,4.5,4.8,4.6,4.6,4.7,4.7,4.6,4.6,4.9,4.9,4.8,4.8,4.6,4.8,4.8,4.7,4.7,4.8,4.1,4.7,4.6,4.6,4.6,4.9,4.0,4.0,4.0,4.0,4.0,4.0,4.0,4.0,4.0,4.5,4.6,4.5,4.4,4.4,4.3,4.3,4.7,4.7,4.7,4.7,4.7,4.8,4.8,4.8,4.8,4.8,4.8,4.6,4.6,4.6,4.6,4.7,4.7,4.7,4.7,4.6,4.7,4.7,4.7,4.8,4.2,4.8,4.7,4.6,4.6,4.8,4.8,4.8,4.8,3.3,4.7,4.3,4.3,4.3,4.8,4.4,4.8,4.8,4.8,4.1,4.0,4.7,4.7,4.7,4.7,4.6,4.6,4.6,4.6,4.6,4.6,4.7,4.7,4.7,4.7,4.7,4.7,4.8,4.1,4.1,4.7,4.7,4.7,4.7,4.4,4.4,4.8,4.8,3.9,3.9,4.4,4.4,4.4,4.5,4.7,4.3,4.6,4.8,4.8,4.8,4.8,4.8,4.8,4.7,4.7,4.7,4.8,4.8,4.7,4.7,4.7,4.3,4.3,4.7,4.8,4.8,4.9,4.4,4.4,4.5,4.5,4.5,4.5,4.4,4.8,4.2,4.8,4.9,4.8,4.7,4.5,4.8,4.6,4.8,4.8,4.4,4.4,4.4,4.4,4.4,4.3,4.3,4.8,4.8,4.8,4.5,4.4,4.8,4.8,4.6,4.3,4.3,4.6,4.6,4.8,4.6,4.6,4.6,4.5,4.8,4.6,4.6,4.6,4.7,4.7,4.7,4.4,4.4,4.7,4.7,4.8,4.7,4.9,4.9,4.9,4.9,4.9,4.9,4.9,4.6,4.6,4.6,4.9,4.9,4.9,4.9,4.8,4.8,4.7,4.7,4.6,4.6,4.5,4.5,4.3,4.3,4.6,4.6,4.6,4.6,4.3,4.8,4.8,4.8,4.8,4.8,4.6,4.8,4.5,4.7,4.5,4.8,4.8,4.8,4.8,4.8,4.3,4.9,4.8,4.7,4.8,4.5,4.6,4.7,4.7,4.8,4.4,4.4,4.4,4.8,4.8,4.8,4.6,4.4,4.5,4.2,4.8,4.8,4.8,4.8,4.8,4.9,4.7,4.7,4.7,4.7],\"x0\":\" \",\"xaxis\":\"x\",\"y0\":\" \",\"yaxis\":\"y\",\"type\":\"violin\"}],                        {\"template\":{\"data\":{\"histogram2dcontour\":[{\"type\":\"histogram2dcontour\",\"colorbar\":{\"outlinewidth\":0,\"ticks\":\"\"},\"colorscale\":[[0.0,\"#0d0887\"],[0.1111111111111111,\"#46039f\"],[0.2222222222222222,\"#7201a8\"],[0.3333333333333333,\"#9c179e\"],[0.4444444444444444,\"#bd3786\"],[0.5555555555555556,\"#d8576b\"],[0.6666666666666666,\"#ed7953\"],[0.7777777777777778,\"#fb9f3a\"],[0.8888888888888888,\"#fdca26\"],[1.0,\"#f0f921\"]]}],\"choropleth\":[{\"type\":\"choropleth\",\"colorbar\":{\"outlinewidth\":0,\"ticks\":\"\"}}],\"histogram2d\":[{\"type\":\"histogram2d\",\"colorbar\":{\"outlinewidth\":0,\"ticks\":\"\"},\"colorscale\":[[0.0,\"#0d0887\"],[0.1111111111111111,\"#46039f\"],[0.2222222222222222,\"#7201a8\"],[0.3333333333333333,\"#9c179e\"],[0.4444444444444444,\"#bd3786\"],[0.5555555555555556,\"#d8576b\"],[0.6666666666666666,\"#ed7953\"],[0.7777777777777778,\"#fb9f3a\"],[0.8888888888888888,\"#fdca26\"],[1.0,\"#f0f921\"]]}],\"heatmap\":[{\"type\":\"heatmap\",\"colorbar\":{\"outlinewidth\":0,\"ticks\":\"\"},\"colorscale\":[[0.0,\"#0d0887\"],[0.1111111111111111,\"#46039f\"],[0.2222222222222222,\"#7201a8\"],[0.3333333333333333,\"#9c179e\"],[0.4444444444444444,\"#bd3786\"],[0.5555555555555556,\"#d8576b\"],[0.6666666666666666,\"#ed7953\"],[0.7777777777777778,\"#fb9f3a\"],[0.8888888888888888,\"#fdca26\"],[1.0,\"#f0f921\"]]}],\"heatmapgl\":[{\"type\":\"heatmapgl\",\"colorbar\":{\"outlinewidth\":0,\"ticks\":\"\"},\"colorscale\":[[0.0,\"#0d0887\"],[0.1111111111111111,\"#46039f\"],[0.2222222222222222,\"#7201a8\"],[0.3333333333333333,\"#9c179e\"],[0.4444444444444444,\"#bd3786\"],[0.5555555555555556,\"#d8576b\"],[0.6666666666666666,\"#ed7953\"],[0.7777777777777778,\"#fb9f3a\"],[0.8888888888888888,\"#fdca26\"],[1.0,\"#f0f921\"]]}],\"contourcarpet\":[{\"type\":\"contourcarpet\",\"colorbar\":{\"outlinewidth\":0,\"ticks\":\"\"}}],\"contour\":[{\"type\":\"contour\",\"colorbar\":{\"outlinewidth\":0,\"ticks\":\"\"},\"colorscale\":[[0.0,\"#0d0887\"],[0.1111111111111111,\"#46039f\"],[0.2222222222222222,\"#7201a8\"],[0.3333333333333333,\"#9c179e\"],[0.4444444444444444,\"#bd3786\"],[0.5555555555555556,\"#d8576b\"],[0.6666666666666666,\"#ed7953\"],[0.7777777777777778,\"#fb9f3a\"],[0.8888888888888888,\"#fdca26\"],[1.0,\"#f0f921\"]]}],\"surface\":[{\"type\":\"surface\",\"colorbar\":{\"outlinewidth\":0,\"ticks\":\"\"},\"colorscale\":[[0.0,\"#0d0887\"],[0.1111111111111111,\"#46039f\"],[0.2222222222222222,\"#7201a8\"],[0.3333333333333333,\"#9c179e\"],[0.4444444444444444,\"#bd3786\"],[0.5555555555555556,\"#d8576b\"],[0.6666666666666666,\"#ed7953\"],[0.7777777777777778,\"#fb9f3a\"],[0.8888888888888888,\"#fdca26\"],[1.0,\"#f0f921\"]]}],\"mesh3d\":[{\"type\":\"mesh3d\",\"colorbar\":{\"outlinewidth\":0,\"ticks\":\"\"}}],\"scatter\":[{\"fillpattern\":{\"fillmode\":\"overlay\",\"size\":10,\"solidity\":0.2},\"type\":\"scatter\"}],\"parcoords\":[{\"type\":\"parcoords\",\"line\":{\"colorbar\":{\"outlinewidth\":0,\"ticks\":\"\"}}}],\"scatterpolargl\":[{\"type\":\"scatterpolargl\",\"marker\":{\"colorbar\":{\"outlinewidth\":0,\"ticks\":\"\"}}}],\"bar\":[{\"error_x\":{\"color\":\"#2a3f5f\"},\"error_y\":{\"color\":\"#2a3f5f\"},\"marker\":{\"line\":{\"color\":\"#E5ECF6\",\"width\":0.5},\"pattern\":{\"fillmode\":\"overlay\",\"size\":10,\"solidity\":0.2}},\"type\":\"bar\"}],\"scattergeo\":[{\"type\":\"scattergeo\",\"marker\":{\"colorbar\":{\"outlinewidth\":0,\"ticks\":\"\"}}}],\"scatterpolar\":[{\"type\":\"scatterpolar\",\"marker\":{\"colorbar\":{\"outlinewidth\":0,\"ticks\":\"\"}}}],\"histogram\":[{\"marker\":{\"pattern\":{\"fillmode\":\"overlay\",\"size\":10,\"solidity\":0.2}},\"type\":\"histogram\"}],\"scattergl\":[{\"type\":\"scattergl\",\"marker\":{\"colorbar\":{\"outlinewidth\":0,\"ticks\":\"\"}}}],\"scatter3d\":[{\"type\":\"scatter3d\",\"line\":{\"colorbar\":{\"outlinewidth\":0,\"ticks\":\"\"}},\"marker\":{\"colorbar\":{\"outlinewidth\":0,\"ticks\":\"\"}}}],\"scattermapbox\":[{\"type\":\"scattermapbox\",\"marker\":{\"colorbar\":{\"outlinewidth\":0,\"ticks\":\"\"}}}],\"scatterternary\":[{\"type\":\"scatterternary\",\"marker\":{\"colorbar\":{\"outlinewidth\":0,\"ticks\":\"\"}}}],\"scattercarpet\":[{\"type\":\"scattercarpet\",\"marker\":{\"colorbar\":{\"outlinewidth\":0,\"ticks\":\"\"}}}],\"carpet\":[{\"aaxis\":{\"endlinecolor\":\"#2a3f5f\",\"gridcolor\":\"white\",\"linecolor\":\"white\",\"minorgridcolor\":\"white\",\"startlinecolor\":\"#2a3f5f\"},\"baxis\":{\"endlinecolor\":\"#2a3f5f\",\"gridcolor\":\"white\",\"linecolor\":\"white\",\"minorgridcolor\":\"white\",\"startlinecolor\":\"#2a3f5f\"},\"type\":\"carpet\"}],\"table\":[{\"cells\":{\"fill\":{\"color\":\"#EBF0F8\"},\"line\":{\"color\":\"white\"}},\"header\":{\"fill\":{\"color\":\"#C8D4E3\"},\"line\":{\"color\":\"white\"}},\"type\":\"table\"}],\"barpolar\":[{\"marker\":{\"line\":{\"color\":\"#E5ECF6\",\"width\":0.5},\"pattern\":{\"fillmode\":\"overlay\",\"size\":10,\"solidity\":0.2}},\"type\":\"barpolar\"}],\"pie\":[{\"automargin\":true,\"type\":\"pie\"}]},\"layout\":{\"autotypenumbers\":\"strict\",\"colorway\":[\"rgb(102,194,165)\",\"rgb(252,141,98)\",\"rgb(141,160,203)\",\"rgb(231,138,195)\",\"rgb(166,216,84)\",\"rgb(255,217,47)\",\"rgb(229,196,148)\",\"rgb(179,179,179)\"],\"font\":{\"color\":\"#2a3f5f\"},\"hovermode\":\"closest\",\"hoverlabel\":{\"align\":\"left\"},\"paper_bgcolor\":\"white\",\"plot_bgcolor\":\"#E5ECF6\",\"polar\":{\"bgcolor\":\"#E5ECF6\",\"angularaxis\":{\"gridcolor\":\"white\",\"linecolor\":\"white\",\"ticks\":\"\"},\"radialaxis\":{\"gridcolor\":\"white\",\"linecolor\":\"white\",\"ticks\":\"\"}},\"ternary\":{\"bgcolor\":\"#E5ECF6\",\"aaxis\":{\"gridcolor\":\"white\",\"linecolor\":\"white\",\"ticks\":\"\"},\"baxis\":{\"gridcolor\":\"white\",\"linecolor\":\"white\",\"ticks\":\"\"},\"caxis\":{\"gridcolor\":\"white\",\"linecolor\":\"white\",\"ticks\":\"\"}},\"coloraxis\":{\"colorbar\":{\"outlinewidth\":0,\"ticks\":\"\"}},\"colorscale\":{\"sequential\":[[0.0,\"#0d0887\"],[0.1111111111111111,\"#46039f\"],[0.2222222222222222,\"#7201a8\"],[0.3333333333333333,\"#9c179e\"],[0.4444444444444444,\"#bd3786\"],[0.5555555555555556,\"#d8576b\"],[0.6666666666666666,\"#ed7953\"],[0.7777777777777778,\"#fb9f3a\"],[0.8888888888888888,\"#fdca26\"],[1.0,\"#f0f921\"]],\"sequentialminus\":[[0.0,\"#0d0887\"],[0.1111111111111111,\"#46039f\"],[0.2222222222222222,\"#7201a8\"],[0.3333333333333333,\"#9c179e\"],[0.4444444444444444,\"#bd3786\"],[0.5555555555555556,\"#d8576b\"],[0.6666666666666666,\"#ed7953\"],[0.7777777777777778,\"#fb9f3a\"],[0.8888888888888888,\"#fdca26\"],[1.0,\"#f0f921\"]],\"diverging\":[[0,\"#8e0152\"],[0.1,\"#c51b7d\"],[0.2,\"#de77ae\"],[0.3,\"#f1b6da\"],[0.4,\"#fde0ef\"],[0.5,\"#f7f7f7\"],[0.6,\"#e6f5d0\"],[0.7,\"#b8e186\"],[0.8,\"#7fbc41\"],[0.9,\"#4d9221\"],[1,\"#276419\"]]},\"xaxis\":{\"gridcolor\":\"white\",\"linecolor\":\"white\",\"ticks\":\"\",\"title\":{\"standoff\":15},\"zerolinecolor\":\"white\",\"automargin\":true,\"zerolinewidth\":2},\"yaxis\":{\"gridcolor\":\"white\",\"linecolor\":\"white\",\"ticks\":\"\",\"title\":{\"standoff\":15},\"zerolinecolor\":\"white\",\"automargin\":true,\"zerolinewidth\":2},\"scene\":{\"xaxis\":{\"backgroundcolor\":\"#E5ECF6\",\"gridcolor\":\"white\",\"linecolor\":\"white\",\"showbackground\":true,\"ticks\":\"\",\"zerolinecolor\":\"white\",\"gridwidth\":2},\"yaxis\":{\"backgroundcolor\":\"#E5ECF6\",\"gridcolor\":\"white\",\"linecolor\":\"white\",\"showbackground\":true,\"ticks\":\"\",\"zerolinecolor\":\"white\",\"gridwidth\":2},\"zaxis\":{\"backgroundcolor\":\"#E5ECF6\",\"gridcolor\":\"white\",\"linecolor\":\"white\",\"showbackground\":true,\"ticks\":\"\",\"zerolinecolor\":\"white\",\"gridwidth\":2}},\"shapedefaults\":{\"line\":{\"color\":\"#2a3f5f\"}},\"annotationdefaults\":{\"arrowcolor\":\"#2a3f5f\",\"arrowhead\":0,\"arrowwidth\":1},\"geo\":{\"bgcolor\":\"white\",\"landcolor\":\"#E5ECF6\",\"subunitcolor\":\"white\",\"showland\":true,\"showlakes\":true,\"lakecolor\":\"white\"},\"title\":{\"x\":0.05},\"mapbox\":{\"style\":\"light\"}}},\"xaxis\":{\"anchor\":\"y\",\"domain\":[0.0,1.0],\"title\":{\"text\":\"User Rating\"},\"range\":[0,5.5]},\"yaxis\":{\"anchor\":\"x\",\"domain\":[0.0,1.0]},\"legend\":{\"tracegroupgap\":0},\"title\":{\"text\":\"Violin plot of User Rating\",\"x\":0.5},\"violinmode\":\"group\"},                        {\"responsive\": true}                    ).then(function(){\n",
       "                            \n",
       "var gd = document.getElementById('ba01cb06-e292-42ae-a476-e1309c3d43b1');\n",
       "var x = new MutationObserver(function (mutations, observer) {{\n",
       "        var display = window.getComputedStyle(gd).display;\n",
       "        if (!display || display === 'none') {{\n",
       "            console.log([gd, 'removed!']);\n",
       "            Plotly.purge(gd);\n",
       "            observer.disconnect();\n",
       "        }}\n",
       "}});\n",
       "\n",
       "// Listen for the removal of the full notebook cells\n",
       "var notebookContainer = gd.closest('#notebook-container');\n",
       "if (notebookContainer) {{\n",
       "    x.observe(notebookContainer, {childList: true});\n",
       "}}\n",
       "\n",
       "// Listen for the clearing of the current output cell\n",
       "var outputEl = gd.closest('.output');\n",
       "if (outputEl) {{\n",
       "    x.observe(outputEl, {childList: true});\n",
       "}}\n",
       "\n",
       "                        })                };                });            </script>        </div>"
      ]
     },
     "metadata": {},
     "output_type": "display_data"
    }
   ],
   "source": [
    "column = \"User Rating\"\n",
    "fig = px.violin(df, x=column, title=f\"Violin plot of {column}\", points=\"all\")\n",
    "fig.update_layout(title_x=0.5, xaxis=dict(range=[0, 5.5]))\n",
    "fig.show()"
   ]
  },
  {
   "cell_type": "markdown",
   "metadata": {},
   "source": [
    "#### Ideas destacadas\n",
    "Al trabajar con un *dataset* de *bestsellers*, la mayoría de los \"User Rating\" están entre 4 y 5 estrellas, mientras que inicialmente se esperaba que las muestras estuvieran repartidas entre 0 y 5.\n",
    "\n",
    "Es importante tener esto presente en posteriores análisis, ya que casi podría considerarse una variable categórica en lugar de continua.\n"
   ]
  },
  {
   "cell_type": "markdown",
   "metadata": {},
   "source": [
    "### 2a.5 Valores ausentes o faltantes\n"
   ]
  },
  {
   "cell_type": "code",
   "execution_count": 16,
   "metadata": {},
   "outputs": [
    {
     "data": {
      "text/plain": [
       "Name           0\n",
       "Author         0\n",
       "User Rating    0\n",
       "Reviews        0\n",
       "Price          0\n",
       "Year           0\n",
       "Genre          0\n",
       "dtype: int64"
      ]
     },
     "execution_count": 16,
     "metadata": {},
     "output_type": "execute_result"
    }
   ],
   "source": [
    "bestsellers.isnull().sum()"
   ]
  },
  {
   "cell_type": "markdown",
   "metadata": {},
   "source": [
    "#### Ideas destacadas\n",
    "- No hay *missing values*\n",
    "\n"
   ]
  },
  {
   "cell_type": "markdown",
   "metadata": {},
   "source": [
    "## 4. Pruebas de hipótesis"
   ]
  },
  {
   "cell_type": "markdown",
   "metadata": {},
   "source": [
    "Vamos a responder a las siguientes preguntas con validez estadística:\n",
    "\n",
    "- ¿Los géneros difieren en \"User Rating\"?\n",
    "- ¿Los géneros difieren en número de \"Reviews\"?\n",
    "- ¿Los géneros difieren en términos de \"Price\"?"
   ]
  },
  {
   "cell_type": "markdown",
   "metadata": {},
   "source": [
    "### 4.1 ¿Los géneros difieren en \"User Rating\"?"
   ]
  },
  {
   "cell_type": "markdown",
   "metadata": {},
   "source": [
    "Primero hagamos una exploración visual."
   ]
  },
  {
   "cell_type": "code",
   "execution_count": 17,
   "metadata": {},
   "outputs": [
    {
     "data": {
      "text/html": [
       "<div>                            <div id=\"37472110-321d-49ee-a471-662421c7229c\" class=\"plotly-graph-div\" style=\"height:525px; width:100%;\"></div>            <script type=\"text/javascript\">                require([\"plotly\"], function(Plotly) {                    window.PLOTLYENV=window.PLOTLYENV || {};                                    if (document.getElementById(\"37472110-321d-49ee-a471-662421c7229c\")) {                    Plotly.newPlot(                        \"37472110-321d-49ee-a471-662421c7229c\",                        [{\"alignmentgroup\":\"True\",\"box\":{\"visible\":true},\"hovertemplate\":\"Genre=Non Fiction\\u003cbr\\u003eUser Rating=%{x}\\u003cextra\\u003e\\u003c\\u002fextra\\u003e\",\"legendgroup\":\"Non Fiction\",\"marker\":{\"color\":\"rgb(102,194,165)\"},\"name\":\"Non Fiction\",\"offsetgroup\":\"Non Fiction\",\"orientation\":\"h\",\"points\":\"outliers\",\"scalegroup\":\"True\",\"showlegend\":true,\"x\":[4.7,4.7,4.8,4.7,4.6,4.6,4.6,4.5,4.6,4.4,4.5,4.8,4.6,4.6,4.7,4.2,4.6,4.6,4.8,4.7,4.8,4.8,4.7,4.7,4.5,4.6,4.8,4.5,4.7,4.7,4.8,4.8,4.8,4.4,4.6,4.6,4.5,4.6,4.6,4.6,4.5,4.5,4.3,4.5,4.7,4.7,4.4,4.2,4.7,4.4,4.4,4.5,4.6,4.6,4.6,4.6,4.6,4.6,4.5,4.6,4.8,4.9,4.8,4.7,4.8,4.7,4.4,4.8,4.7,4.3,4.8,4.9,4.7,4.8,4.4,4.4,4.8,4.9,4.6,4.5,4.6,4.7,4.6,4.6,4.8,4.8,4.5,4.6,4.5,4.5,4.4,4.8,4.5,4.2,4.8,4.5,4.7,4.8,4.7,4.4,4.6,4.8,4.8,4.7,4.6,4.9,4.6,4.5,4.6,4.7,4.3,4.5,4.6,4.7,4.8,4.8,4.7,4.7,4.8,4.1,4.6,4.6,4.0,4.5,4.6,4.4,4.3,4.3,4.7,4.8,4.8,4.7,4.6,4.7,4.2,4.8,4.7,4.8,4.7,4.3,4.8,4.4,4.1,4.6,4.6,4.7,4.7,4.3,4.7,4.4,4.5,4.8,4.9,4.6,4.4,4.3,4.8,4.8,4.8,4.5,4.4,4.6,4.6,4.6,4.7,4.4,4.7,4.7,4.6,4.7,4.7,4.6,4.5,4.3,4.6,4.3,4.6,4.5,4.8,4.9,4.8,4.7,4.6,4.7,4.4,4.4,4.8,4.6,4.4,4.2,4.7],\"x0\":\" \",\"xaxis\":\"x\",\"y0\":\" \",\"yaxis\":\"y\",\"type\":\"violin\"},{\"alignmentgroup\":\"True\",\"box\":{\"visible\":true},\"hovertemplate\":\"Genre=Fiction\\u003cbr\\u003eUser Rating=%{x}\\u003cextra\\u003e\\u003c\\u002fextra\\u003e\",\"legendgroup\":\"Fiction\",\"marker\":{\"color\":\"rgb(252,141,98)\"},\"name\":\"Fiction\",\"offsetgroup\":\"Fiction\",\"orientation\":\"h\",\"points\":\"outliers\",\"scalegroup\":\"True\",\"showlegend\":true,\"x\":[4.6,4.7,4.4,4.7,4.7,4.6,4.5,4.6,3.9,4.3,4.6,4.9,4.8,4.7,4.3,4.6,4.6,4.3,4.2,4.8,4.8,4.8,4.8,4.6,4.5,4.7,4.8,4.9,4.9,4.9,4.9,4.9,4.9,4.8,4.7,4.7,4.6,4.7,4.4,4.5,3.8,4.5,4.7,4.6,4.8,3.6,4.8,4.0,4.8,4.9,4.4,4.9,4.0,4.9,4.9,4.9,4.8,4.6,4.8,4.3,4.1,4.6,4.6,4.5,4.9,4.1,4.9,4.5,4.5,4.8,4.5,4.6,4.9,4.8,4.2,4.3,4.6,4.8,4.8,4.7,4.8,4.6,4.9,4.9,4.6,4.7,4.9,4.5,4.7,4.7,4.8,4.6,4.8,3.3,4.3,4.8,4.0,4.7,4.8,4.1,4.7,4.7,4.7,4.4,4.8,3.9,4.4,4.5,4.7,4.3,4.6,4.8,4.8,4.8,4.7,4.7,4.8,4.8,4.9,4.4,4.8,4.2,4.8,4.7,4.5,4.8,4.8,4.3,4.8,4.3,4.3,4.6,4.8,4.6,4.6,4.5,4.8,4.7,4.7,4.4,4.7,4.8,4.9,4.9,4.8,4.5,4.8,4.8,4.7,4.5,4.3,4.8,4.5,4.7,4.8,4.8,4.8,4.5,4.8,4.9],\"x0\":\" \",\"xaxis\":\"x\",\"y0\":\" \",\"yaxis\":\"y\",\"type\":\"violin\"}],                        {\"template\":{\"data\":{\"histogram2dcontour\":[{\"type\":\"histogram2dcontour\",\"colorbar\":{\"outlinewidth\":0,\"ticks\":\"\"},\"colorscale\":[[0.0,\"#0d0887\"],[0.1111111111111111,\"#46039f\"],[0.2222222222222222,\"#7201a8\"],[0.3333333333333333,\"#9c179e\"],[0.4444444444444444,\"#bd3786\"],[0.5555555555555556,\"#d8576b\"],[0.6666666666666666,\"#ed7953\"],[0.7777777777777778,\"#fb9f3a\"],[0.8888888888888888,\"#fdca26\"],[1.0,\"#f0f921\"]]}],\"choropleth\":[{\"type\":\"choropleth\",\"colorbar\":{\"outlinewidth\":0,\"ticks\":\"\"}}],\"histogram2d\":[{\"type\":\"histogram2d\",\"colorbar\":{\"outlinewidth\":0,\"ticks\":\"\"},\"colorscale\":[[0.0,\"#0d0887\"],[0.1111111111111111,\"#46039f\"],[0.2222222222222222,\"#7201a8\"],[0.3333333333333333,\"#9c179e\"],[0.4444444444444444,\"#bd3786\"],[0.5555555555555556,\"#d8576b\"],[0.6666666666666666,\"#ed7953\"],[0.7777777777777778,\"#fb9f3a\"],[0.8888888888888888,\"#fdca26\"],[1.0,\"#f0f921\"]]}],\"heatmap\":[{\"type\":\"heatmap\",\"colorbar\":{\"outlinewidth\":0,\"ticks\":\"\"},\"colorscale\":[[0.0,\"#0d0887\"],[0.1111111111111111,\"#46039f\"],[0.2222222222222222,\"#7201a8\"],[0.3333333333333333,\"#9c179e\"],[0.4444444444444444,\"#bd3786\"],[0.5555555555555556,\"#d8576b\"],[0.6666666666666666,\"#ed7953\"],[0.7777777777777778,\"#fb9f3a\"],[0.8888888888888888,\"#fdca26\"],[1.0,\"#f0f921\"]]}],\"heatmapgl\":[{\"type\":\"heatmapgl\",\"colorbar\":{\"outlinewidth\":0,\"ticks\":\"\"},\"colorscale\":[[0.0,\"#0d0887\"],[0.1111111111111111,\"#46039f\"],[0.2222222222222222,\"#7201a8\"],[0.3333333333333333,\"#9c179e\"],[0.4444444444444444,\"#bd3786\"],[0.5555555555555556,\"#d8576b\"],[0.6666666666666666,\"#ed7953\"],[0.7777777777777778,\"#fb9f3a\"],[0.8888888888888888,\"#fdca26\"],[1.0,\"#f0f921\"]]}],\"contourcarpet\":[{\"type\":\"contourcarpet\",\"colorbar\":{\"outlinewidth\":0,\"ticks\":\"\"}}],\"contour\":[{\"type\":\"contour\",\"colorbar\":{\"outlinewidth\":0,\"ticks\":\"\"},\"colorscale\":[[0.0,\"#0d0887\"],[0.1111111111111111,\"#46039f\"],[0.2222222222222222,\"#7201a8\"],[0.3333333333333333,\"#9c179e\"],[0.4444444444444444,\"#bd3786\"],[0.5555555555555556,\"#d8576b\"],[0.6666666666666666,\"#ed7953\"],[0.7777777777777778,\"#fb9f3a\"],[0.8888888888888888,\"#fdca26\"],[1.0,\"#f0f921\"]]}],\"surface\":[{\"type\":\"surface\",\"colorbar\":{\"outlinewidth\":0,\"ticks\":\"\"},\"colorscale\":[[0.0,\"#0d0887\"],[0.1111111111111111,\"#46039f\"],[0.2222222222222222,\"#7201a8\"],[0.3333333333333333,\"#9c179e\"],[0.4444444444444444,\"#bd3786\"],[0.5555555555555556,\"#d8576b\"],[0.6666666666666666,\"#ed7953\"],[0.7777777777777778,\"#fb9f3a\"],[0.8888888888888888,\"#fdca26\"],[1.0,\"#f0f921\"]]}],\"mesh3d\":[{\"type\":\"mesh3d\",\"colorbar\":{\"outlinewidth\":0,\"ticks\":\"\"}}],\"scatter\":[{\"fillpattern\":{\"fillmode\":\"overlay\",\"size\":10,\"solidity\":0.2},\"type\":\"scatter\"}],\"parcoords\":[{\"type\":\"parcoords\",\"line\":{\"colorbar\":{\"outlinewidth\":0,\"ticks\":\"\"}}}],\"scatterpolargl\":[{\"type\":\"scatterpolargl\",\"marker\":{\"colorbar\":{\"outlinewidth\":0,\"ticks\":\"\"}}}],\"bar\":[{\"error_x\":{\"color\":\"#2a3f5f\"},\"error_y\":{\"color\":\"#2a3f5f\"},\"marker\":{\"line\":{\"color\":\"#E5ECF6\",\"width\":0.5},\"pattern\":{\"fillmode\":\"overlay\",\"size\":10,\"solidity\":0.2}},\"type\":\"bar\"}],\"scattergeo\":[{\"type\":\"scattergeo\",\"marker\":{\"colorbar\":{\"outlinewidth\":0,\"ticks\":\"\"}}}],\"scatterpolar\":[{\"type\":\"scatterpolar\",\"marker\":{\"colorbar\":{\"outlinewidth\":0,\"ticks\":\"\"}}}],\"histogram\":[{\"marker\":{\"pattern\":{\"fillmode\":\"overlay\",\"size\":10,\"solidity\":0.2}},\"type\":\"histogram\"}],\"scattergl\":[{\"type\":\"scattergl\",\"marker\":{\"colorbar\":{\"outlinewidth\":0,\"ticks\":\"\"}}}],\"scatter3d\":[{\"type\":\"scatter3d\",\"line\":{\"colorbar\":{\"outlinewidth\":0,\"ticks\":\"\"}},\"marker\":{\"colorbar\":{\"outlinewidth\":0,\"ticks\":\"\"}}}],\"scattermapbox\":[{\"type\":\"scattermapbox\",\"marker\":{\"colorbar\":{\"outlinewidth\":0,\"ticks\":\"\"}}}],\"scatterternary\":[{\"type\":\"scatterternary\",\"marker\":{\"colorbar\":{\"outlinewidth\":0,\"ticks\":\"\"}}}],\"scattercarpet\":[{\"type\":\"scattercarpet\",\"marker\":{\"colorbar\":{\"outlinewidth\":0,\"ticks\":\"\"}}}],\"carpet\":[{\"aaxis\":{\"endlinecolor\":\"#2a3f5f\",\"gridcolor\":\"white\",\"linecolor\":\"white\",\"minorgridcolor\":\"white\",\"startlinecolor\":\"#2a3f5f\"},\"baxis\":{\"endlinecolor\":\"#2a3f5f\",\"gridcolor\":\"white\",\"linecolor\":\"white\",\"minorgridcolor\":\"white\",\"startlinecolor\":\"#2a3f5f\"},\"type\":\"carpet\"}],\"table\":[{\"cells\":{\"fill\":{\"color\":\"#EBF0F8\"},\"line\":{\"color\":\"white\"}},\"header\":{\"fill\":{\"color\":\"#C8D4E3\"},\"line\":{\"color\":\"white\"}},\"type\":\"table\"}],\"barpolar\":[{\"marker\":{\"line\":{\"color\":\"#E5ECF6\",\"width\":0.5},\"pattern\":{\"fillmode\":\"overlay\",\"size\":10,\"solidity\":0.2}},\"type\":\"barpolar\"}],\"pie\":[{\"automargin\":true,\"type\":\"pie\"}]},\"layout\":{\"autotypenumbers\":\"strict\",\"colorway\":[\"rgb(102,194,165)\",\"rgb(252,141,98)\",\"rgb(141,160,203)\",\"rgb(231,138,195)\",\"rgb(166,216,84)\",\"rgb(255,217,47)\",\"rgb(229,196,148)\",\"rgb(179,179,179)\"],\"font\":{\"color\":\"#2a3f5f\"},\"hovermode\":\"closest\",\"hoverlabel\":{\"align\":\"left\"},\"paper_bgcolor\":\"white\",\"plot_bgcolor\":\"#E5ECF6\",\"polar\":{\"bgcolor\":\"#E5ECF6\",\"angularaxis\":{\"gridcolor\":\"white\",\"linecolor\":\"white\",\"ticks\":\"\"},\"radialaxis\":{\"gridcolor\":\"white\",\"linecolor\":\"white\",\"ticks\":\"\"}},\"ternary\":{\"bgcolor\":\"#E5ECF6\",\"aaxis\":{\"gridcolor\":\"white\",\"linecolor\":\"white\",\"ticks\":\"\"},\"baxis\":{\"gridcolor\":\"white\",\"linecolor\":\"white\",\"ticks\":\"\"},\"caxis\":{\"gridcolor\":\"white\",\"linecolor\":\"white\",\"ticks\":\"\"}},\"coloraxis\":{\"colorbar\":{\"outlinewidth\":0,\"ticks\":\"\"}},\"colorscale\":{\"sequential\":[[0.0,\"#0d0887\"],[0.1111111111111111,\"#46039f\"],[0.2222222222222222,\"#7201a8\"],[0.3333333333333333,\"#9c179e\"],[0.4444444444444444,\"#bd3786\"],[0.5555555555555556,\"#d8576b\"],[0.6666666666666666,\"#ed7953\"],[0.7777777777777778,\"#fb9f3a\"],[0.8888888888888888,\"#fdca26\"],[1.0,\"#f0f921\"]],\"sequentialminus\":[[0.0,\"#0d0887\"],[0.1111111111111111,\"#46039f\"],[0.2222222222222222,\"#7201a8\"],[0.3333333333333333,\"#9c179e\"],[0.4444444444444444,\"#bd3786\"],[0.5555555555555556,\"#d8576b\"],[0.6666666666666666,\"#ed7953\"],[0.7777777777777778,\"#fb9f3a\"],[0.8888888888888888,\"#fdca26\"],[1.0,\"#f0f921\"]],\"diverging\":[[0,\"#8e0152\"],[0.1,\"#c51b7d\"],[0.2,\"#de77ae\"],[0.3,\"#f1b6da\"],[0.4,\"#fde0ef\"],[0.5,\"#f7f7f7\"],[0.6,\"#e6f5d0\"],[0.7,\"#b8e186\"],[0.8,\"#7fbc41\"],[0.9,\"#4d9221\"],[1,\"#276419\"]]},\"xaxis\":{\"gridcolor\":\"white\",\"linecolor\":\"white\",\"ticks\":\"\",\"title\":{\"standoff\":15},\"zerolinecolor\":\"white\",\"automargin\":true,\"zerolinewidth\":2},\"yaxis\":{\"gridcolor\":\"white\",\"linecolor\":\"white\",\"ticks\":\"\",\"title\":{\"standoff\":15},\"zerolinecolor\":\"white\",\"automargin\":true,\"zerolinewidth\":2},\"scene\":{\"xaxis\":{\"backgroundcolor\":\"#E5ECF6\",\"gridcolor\":\"white\",\"linecolor\":\"white\",\"showbackground\":true,\"ticks\":\"\",\"zerolinecolor\":\"white\",\"gridwidth\":2},\"yaxis\":{\"backgroundcolor\":\"#E5ECF6\",\"gridcolor\":\"white\",\"linecolor\":\"white\",\"showbackground\":true,\"ticks\":\"\",\"zerolinecolor\":\"white\",\"gridwidth\":2},\"zaxis\":{\"backgroundcolor\":\"#E5ECF6\",\"gridcolor\":\"white\",\"linecolor\":\"white\",\"showbackground\":true,\"ticks\":\"\",\"zerolinecolor\":\"white\",\"gridwidth\":2}},\"shapedefaults\":{\"line\":{\"color\":\"#2a3f5f\"}},\"annotationdefaults\":{\"arrowcolor\":\"#2a3f5f\",\"arrowhead\":0,\"arrowwidth\":1},\"geo\":{\"bgcolor\":\"white\",\"landcolor\":\"#E5ECF6\",\"subunitcolor\":\"white\",\"showland\":true,\"showlakes\":true,\"lakecolor\":\"white\"},\"title\":{\"x\":0.05},\"mapbox\":{\"style\":\"light\"}}},\"xaxis\":{\"anchor\":\"y\",\"domain\":[0.0,1.0],\"title\":{\"text\":\"User Rating\"}},\"yaxis\":{\"anchor\":\"x\",\"domain\":[0.0,1.0]},\"legend\":{\"title\":{\"text\":\"Genre\"},\"tracegroupgap\":0},\"margin\":{\"t\":60},\"violinmode\":\"group\",\"title\":{\"text\":\"User Rating violin plot by Genre\"}},                        {\"responsive\": true}                    ).then(function(){\n",
       "                            \n",
       "var gd = document.getElementById('37472110-321d-49ee-a471-662421c7229c');\n",
       "var x = new MutationObserver(function (mutations, observer) {{\n",
       "        var display = window.getComputedStyle(gd).display;\n",
       "        if (!display || display === 'none') {{\n",
       "            console.log([gd, 'removed!']);\n",
       "            Plotly.purge(gd);\n",
       "            observer.disconnect();\n",
       "        }}\n",
       "}});\n",
       "\n",
       "// Listen for the removal of the full notebook cells\n",
       "var notebookContainer = gd.closest('#notebook-container');\n",
       "if (notebookContainer) {{\n",
       "    x.observe(notebookContainer, {childList: true});\n",
       "}}\n",
       "\n",
       "// Listen for the clearing of the current output cell\n",
       "var outputEl = gd.closest('.output');\n",
       "if (outputEl) {{\n",
       "    x.observe(outputEl, {childList: true});\n",
       "}}\n",
       "\n",
       "                        })                };                });            </script>        </div>"
      ]
     },
     "metadata": {},
     "output_type": "display_data"
    }
   ],
   "source": [
    "fig = px.violin(\n",
    "    bestsellers,\n",
    "    x=\"User Rating\",\n",
    "    color=\"Genre\",\n",
    "    box=True,\n",
    "    points=\"outliers\",\n",
    ")\n",
    "\n",
    "fig.update_layout(\n",
    "    title_text=\"User Rating violin plot by Genre\",\n",
    ")\n",
    "\n",
    "fig.show()"
   ]
  },
  {
   "cell_type": "markdown",
   "metadata": {},
   "source": [
    "Parece que existen diferencias. ¿Pero son estadísticamente significativas? Vamos a comprobarlo con un test de hipótesis."
   ]
  },
  {
   "cell_type": "markdown",
   "metadata": {},
   "source": [
    "#### 1. Seleccionamos la hipótesis y el nivel de significancia\n",
    "\n",
    "H0: El \"User Rating\" de los libros de ficción es igual que el de los libros de no ficción.\n",
    "\n",
    "Ha: El \"User Rating\" de los libros de ficción es diferente al de los libros de no ficción.\n",
    "\n",
    "alpha = 0.05\n",
    "\n",
    "#### 2. Identificamos el tipo de test\n",
    "\n",
    "Deseamos comparar las medias de dos grupos de nuestra *sample*. Por lo tanto, un **2-Sample t-Test** parece ser adecuado. Lo primero es verificar si se cumplen los requisitos del test.\n",
    "\n",
    "##### 2.1 Requisitos del test\n",
    "\n",
    "- Tenemos una *sample* representativa de la *population*.\n",
    "- Los datos son continuos.\n",
    "- Las muestras siguen una distribución normal o hay más de 15 observaciones.\n",
    "- Los grupos son independientes.\n",
    "- Las varianzas son iguales (o al menos similares).\n",
    "\n",
    "Examinemos nuestra *sample* para ver si podemos aplicar el test.\n"
   ]
  },
  {
   "cell_type": "markdown",
   "metadata": {},
   "source": [
    "::: {.callout-note title=\"Libro de refencia\" collapse=\"true\"}\n",
    "Book: Hypothesis Testing An Intuitive Guide For Making Data Driven Decisions\n",
    "\n",
    "Page: 48\n",
    "\n",
    "Section: 2-Sample t-Tests\n",
    ":::"
   ]
  },
  {
   "cell_type": "markdown",
   "metadata": {},
   "source": [
    "Número de observaciones para cada grupo:"
   ]
  },
  {
   "cell_type": "code",
   "execution_count": 18,
   "metadata": {},
   "outputs": [
    {
     "data": {
      "text/plain": [
       "Genre\n",
       "Non Fiction    191\n",
       "Fiction        160\n",
       "Name: count, dtype: int64"
      ]
     },
     "execution_count": 18,
     "metadata": {},
     "output_type": "execute_result"
    }
   ],
   "source": [
    "bestsellers[\"Genre\"].value_counts()"
   ]
  },
  {
   "cell_type": "markdown",
   "metadata": {},
   "source": [
    "Realizamos un test de normalidad para cada grupo:"
   ]
  },
  {
   "cell_type": "code",
   "execution_count": 19,
   "metadata": {},
   "outputs": [],
   "source": [
    "fiction_bestsellers = bestsellers[bestsellers[\"Genre\"] == \"Fiction\"]\n",
    "nonfiction_bestsellers = bestsellers[bestsellers[\"Genre\"] == \"Non Fiction\"]"
   ]
  },
  {
   "cell_type": "code",
   "execution_count": 20,
   "metadata": {},
   "outputs": [
    {
     "name": "stdout",
     "output_type": "stream",
     "text": [
      "For fiction bestsellers: We reject the null hypothesis. The data does not follow a normal distribution.\n",
      "For non-fiction bestsellers: We reject the null hypothesis. The data does not follow a normal distribution.\n"
     ]
    }
   ],
   "source": [
    "def shapiro_test(data, alpha=0.05):\n",
    "    \"\"\"\n",
    "    Perform the Shapiro-Wilk test to check the normality of the data.\n",
    "\n",
    "    Parameters:\n",
    "    data (array-like): The data to analyze.\n",
    "    alpha (float): Significance level.\n",
    "\n",
    "    Returns:\n",
    "    str: The test result.\n",
    "    \"\"\"\n",
    "    statistic, p_value = stats.shapiro(data)\n",
    "\n",
    "    if p_value < alpha:\n",
    "        return \"We reject the null hypothesis. The data does not follow a normal distribution.\"\n",
    "    else:\n",
    "        return \"We fail to reject the null hypothesis. The data can be considered normally distributed.\"\n",
    "\n",
    "\n",
    "result_fiction = shapiro_test(fiction_bestsellers[\"User Rating\"])\n",
    "result_nonfiction = shapiro_test(nonfiction_bestsellers[\"User Rating\"])\n",
    "\n",
    "print(\"For fiction bestsellers:\", result_fiction)\n",
    "print(\"For non-fiction bestsellers:\", result_nonfiction)"
   ]
  },
  {
   "cell_type": "markdown",
   "metadata": {},
   "source": [
    "Estudiemos la relación entre las varianzas de cada grupo."
   ]
  },
  {
   "cell_type": "code",
   "execution_count": 21,
   "metadata": {},
   "outputs": [
    {
     "name": "stdout",
     "output_type": "stream",
     "text": [
      "We reject the null hypothesis. The variances are not similar.\n"
     ]
    }
   ],
   "source": [
    "# Perform the Levene's Test\n",
    "statistic, p_value = stats.levene(\n",
    "    fiction_bestsellers[\"User Rating\"], nonfiction_bestsellers[\"User Rating\"]\n",
    ")\n",
    "\n",
    "# Significance level\n",
    "alpha = 0.05\n",
    "\n",
    "# Check for significance\n",
    "if p_value < alpha:\n",
    "    print(\"We reject the null hypothesis. The variances are not similar.\")\n",
    "else:\n",
    "    print(\"We fail to reject the null hypothesis. The variances are similar.\")"
   ]
  },
  {
   "cell_type": "markdown",
   "metadata": {},
   "source": [
    "Volvamos sobre los requisitos del test:\n",
    "\n",
    "- ¿Tenemos una *sample* representativa de la *population*? Suponemos que sí.\n",
    "- ¿Los datos son continuos?\n",
    "  - En este contexto, los \"User Rating\" que van de 0 a 5 con un único decimal pueden considerarse como datos continuos. Sin embargo, observando las gráficas, vemos que la mayoría de los valores se encuentran en un intervalo muy pequeño (mayores a 4.0). Esto dificulta considerarlos como continuos.\n",
    "- ¿Las muestras siguen una distribución normal o hay más de 15 observaciones?\n",
    "  - No, las muestras no siguen una distribución normal. Pero hay más de 15 observaciones en cada grupo, gracias al teorema central del límite podemos renunciar al supuesto de normalidad.\n",
    "- ¿Los grupos son independientes? Sí.\n",
    "- ¿Las varianzas son iguales (o al menos similares)?\n",
    "  - No.\n",
    "\n",
    "Dada la falta de continuidad en los datos, vamos a realizar un **test no paramétrico Mann-Whitney**.\n",
    "\n",
    "Para realizar el test utilizaremos [scipy.stats.mannwhitneyu](https://docs.scipy.org/doc/scipy/reference/generated/scipy.stats.mannwhitneyu.html)\n"
   ]
  },
  {
   "cell_type": "markdown",
   "metadata": {},
   "source": [
    "::: {.callout-note title=\"Libro de refencia\" collapse=\"true\"}\n",
    "Book:Hypothesis Testing An Intuitive Guide For Making Data Driven Decisions\n",
    "\n",
    "Page: 341\n",
    "\n",
    "Section: Analyzing Likert Scale Data\n",
    ":::"
   ]
  },
  {
   "cell_type": "code",
   "execution_count": 22,
   "metadata": {},
   "outputs": [
    {
     "name": "stdout",
     "output_type": "stream",
     "text": [
      "p-value: 0.019226481868505015\n",
      "We reject the null hypothesis. There are significant differences between the groups.\n"
     ]
    }
   ],
   "source": [
    "# Perform the Mann-Whitney U test\n",
    "statistic, p_value = stats.mannwhitneyu(\n",
    "    nonfiction_bestsellers[\"User Rating\"], fiction_bestsellers[\"User Rating\"]\n",
    ")\n",
    "\n",
    "# Print the results\n",
    "print(\"p-value:\", p_value)\n",
    "\n",
    "# Check for significance\n",
    "alpha = 0.05  # Significance level\n",
    "if p_value < alpha:\n",
    "    print(\n",
    "        \"We reject the null hypothesis. There are significant differences between the groups.\"\n",
    "    )\n",
    "else:\n",
    "    print(\n",
    "        \"We fail to reject the null hypothesis. There are no significant differences between the groups.\"\n",
    "    )"
   ]
  },
  {
   "cell_type": "markdown",
   "metadata": {},
   "source": [
    "#### Ideas destacadas\n",
    "\n",
    "Podemos afirmar que hay diferencias significativas en términos de \"User Rating\" entre los libros de ficción y los de no ficción."
   ]
  },
  {
   "cell_type": "markdown",
   "metadata": {},
   "source": [
    "### 4.2 ¿Los géneros difieren en número de \"Reviews\"?"
   ]
  },
  {
   "cell_type": "markdown",
   "metadata": {},
   "source": [
    "Primero hagamos una exploración visual."
   ]
  },
  {
   "cell_type": "code",
   "execution_count": 23,
   "metadata": {},
   "outputs": [
    {
     "data": {
      "text/html": [
       "<div>                            <div id=\"7bd4e1c8-15f4-4334-bc2b-d633d015caac\" class=\"plotly-graph-div\" style=\"height:525px; width:100%;\"></div>            <script type=\"text/javascript\">                require([\"plotly\"], function(Plotly) {                    window.PLOTLYENV=window.PLOTLYENV || {};                                    if (document.getElementById(\"7bd4e1c8-15f4-4334-bc2b-d633d015caac\")) {                    Plotly.newPlot(                        \"7bd4e1c8-15f4-4334-bc2b-d633d015caac\",                        [{\"alignmentgroup\":\"True\",\"box\":{\"visible\":true},\"hovertemplate\":\"Genre=Non Fiction\\u003cbr\\u003eReviews=%{x}\\u003cextra\\u003e\\u003c\\u002fextra\\u003e\",\"legendgroup\":\"Non Fiction\",\"marker\":{\"color\":\"rgb(102,194,165)\"},\"name\":\"Non Fiction\",\"offsetgroup\":\"Non Fiction\",\"orientation\":\"h\",\"points\":\"outliers\",\"scalegroup\":\"True\",\"showlegend\":true,\"x\":[17350,18979,7665,5983,460,4149,5013,2313,2925,2951,2426,9198,15921,798,9374,491,5360,1909,1296,615,61133,11113,10070,3729,471,10369,16244,2884,4761,1542,4022,3871,1329,4642,2137,1651,6679,7955,37,2134,2525,720,956,6346,28729,5413,6042,13677,17323,1555,1215,408,4799,7660,22288,1365,1636,10141,3457,5972,5476,5867,4148,3564,1930,15779,15526,3776,25001,5272,3490,2812,4896,9737,4571,7396,7062,19576,8393,11391,8634,9342,10927,5235,8916,2507,3673,6990,6132,3014,7550,3828,2752,1649,9867,1386,10199,2926,17739,3113,5542,5347,7866,5178,8093,3192,3163,1831,10426,10820,13616,8580,10009,1985,7802,23047,9366,1265,3923,2272,220,7827,5069,1583,1907,637,2314,4587,3477,25554,1680,4725,2580,3536,1789,12361,858,23358,4633,13061,2774,440,2023,3207,803,23308,9289,7368,4028,4247,22641,1655,7861,2744,1201,807,2663,3428,2876,3601,7058,10795,1204,26490,5487,3503,11550,9030,7508,6169,7034,11034,1904,3319,11128,5977,4360,438,29673,5956,6108,4585,5492,9292,3341,7497,13779,6669,17044,1302,14331],\"x0\":\" \",\"xaxis\":\"x\",\"y0\":\" \",\"yaxis\":\"y\",\"type\":\"violin\"},{\"alignmentgroup\":\"True\",\"box\":{\"visible\":true},\"hovertemplate\":\"Genre=Fiction\\u003cbr\\u003eReviews=%{x}\\u003cextra\\u003e\\u003c\\u002fextra\\u003e\",\"legendgroup\":\"Fiction\",\"marker\":{\"color\":\"rgb(252,141,98)\"},\"name\":\"Fiction\",\"offsetgroup\":\"Fiction\",\"orientation\":\"h\",\"points\":\"outliers\",\"scalegroup\":\"True\",\"showlegend\":true,\"x\":[2052,21424,12643,19735,19699,23848,5153,36348,6310,12159,9769,14344,4505,22614,6143,4866,1541,1924,2094,10922,6812,3837,6540,27098,17684,15845,3181,5062,4786,7235,12619,9089,5470,5118,5505,5505,10721,4370,23631,20262,47265,13964,3642,5594,14038,14982,9568,57271,8837,7038,25624,19622,23973,7758,3146,10052,13471,1320,16643,7153,29651,5299,978,4748,11881,1467,1884,25706,8491,18613,26741,5680,21834,6169,4519,18904,21930,548,16990,3503,4757,22536,7150,3836,3619,973,9382,23114,35799,11813,6600,23148,8081,9372,3523,8922,1859,50482,5836,79446,7747,7251,7251,10559,5249,33844,11616,13609,8587,29442,11098,9947,13871,6982,32122,32122,16949,4628,5396,6222,4506,8747,6247,39459,10101,5898,49288,3759,9784,10191,14493,2186,2091,19720,2122,27536,4290,6377,1463,3759,3801,3796,19546,8842,30183,7932,26234,2282,11676,2586,6740,3829,8958,1873,8170,87841,9967,10760,21625,9413],\"x0\":\" \",\"xaxis\":\"x\",\"y0\":\" \",\"yaxis\":\"y\",\"type\":\"violin\"}],                        {\"template\":{\"data\":{\"histogram2dcontour\":[{\"type\":\"histogram2dcontour\",\"colorbar\":{\"outlinewidth\":0,\"ticks\":\"\"},\"colorscale\":[[0.0,\"#0d0887\"],[0.1111111111111111,\"#46039f\"],[0.2222222222222222,\"#7201a8\"],[0.3333333333333333,\"#9c179e\"],[0.4444444444444444,\"#bd3786\"],[0.5555555555555556,\"#d8576b\"],[0.6666666666666666,\"#ed7953\"],[0.7777777777777778,\"#fb9f3a\"],[0.8888888888888888,\"#fdca26\"],[1.0,\"#f0f921\"]]}],\"choropleth\":[{\"type\":\"choropleth\",\"colorbar\":{\"outlinewidth\":0,\"ticks\":\"\"}}],\"histogram2d\":[{\"type\":\"histogram2d\",\"colorbar\":{\"outlinewidth\":0,\"ticks\":\"\"},\"colorscale\":[[0.0,\"#0d0887\"],[0.1111111111111111,\"#46039f\"],[0.2222222222222222,\"#7201a8\"],[0.3333333333333333,\"#9c179e\"],[0.4444444444444444,\"#bd3786\"],[0.5555555555555556,\"#d8576b\"],[0.6666666666666666,\"#ed7953\"],[0.7777777777777778,\"#fb9f3a\"],[0.8888888888888888,\"#fdca26\"],[1.0,\"#f0f921\"]]}],\"heatmap\":[{\"type\":\"heatmap\",\"colorbar\":{\"outlinewidth\":0,\"ticks\":\"\"},\"colorscale\":[[0.0,\"#0d0887\"],[0.1111111111111111,\"#46039f\"],[0.2222222222222222,\"#7201a8\"],[0.3333333333333333,\"#9c179e\"],[0.4444444444444444,\"#bd3786\"],[0.5555555555555556,\"#d8576b\"],[0.6666666666666666,\"#ed7953\"],[0.7777777777777778,\"#fb9f3a\"],[0.8888888888888888,\"#fdca26\"],[1.0,\"#f0f921\"]]}],\"heatmapgl\":[{\"type\":\"heatmapgl\",\"colorbar\":{\"outlinewidth\":0,\"ticks\":\"\"},\"colorscale\":[[0.0,\"#0d0887\"],[0.1111111111111111,\"#46039f\"],[0.2222222222222222,\"#7201a8\"],[0.3333333333333333,\"#9c179e\"],[0.4444444444444444,\"#bd3786\"],[0.5555555555555556,\"#d8576b\"],[0.6666666666666666,\"#ed7953\"],[0.7777777777777778,\"#fb9f3a\"],[0.8888888888888888,\"#fdca26\"],[1.0,\"#f0f921\"]]}],\"contourcarpet\":[{\"type\":\"contourcarpet\",\"colorbar\":{\"outlinewidth\":0,\"ticks\":\"\"}}],\"contour\":[{\"type\":\"contour\",\"colorbar\":{\"outlinewidth\":0,\"ticks\":\"\"},\"colorscale\":[[0.0,\"#0d0887\"],[0.1111111111111111,\"#46039f\"],[0.2222222222222222,\"#7201a8\"],[0.3333333333333333,\"#9c179e\"],[0.4444444444444444,\"#bd3786\"],[0.5555555555555556,\"#d8576b\"],[0.6666666666666666,\"#ed7953\"],[0.7777777777777778,\"#fb9f3a\"],[0.8888888888888888,\"#fdca26\"],[1.0,\"#f0f921\"]]}],\"surface\":[{\"type\":\"surface\",\"colorbar\":{\"outlinewidth\":0,\"ticks\":\"\"},\"colorscale\":[[0.0,\"#0d0887\"],[0.1111111111111111,\"#46039f\"],[0.2222222222222222,\"#7201a8\"],[0.3333333333333333,\"#9c179e\"],[0.4444444444444444,\"#bd3786\"],[0.5555555555555556,\"#d8576b\"],[0.6666666666666666,\"#ed7953\"],[0.7777777777777778,\"#fb9f3a\"],[0.8888888888888888,\"#fdca26\"],[1.0,\"#f0f921\"]]}],\"mesh3d\":[{\"type\":\"mesh3d\",\"colorbar\":{\"outlinewidth\":0,\"ticks\":\"\"}}],\"scatter\":[{\"fillpattern\":{\"fillmode\":\"overlay\",\"size\":10,\"solidity\":0.2},\"type\":\"scatter\"}],\"parcoords\":[{\"type\":\"parcoords\",\"line\":{\"colorbar\":{\"outlinewidth\":0,\"ticks\":\"\"}}}],\"scatterpolargl\":[{\"type\":\"scatterpolargl\",\"marker\":{\"colorbar\":{\"outlinewidth\":0,\"ticks\":\"\"}}}],\"bar\":[{\"error_x\":{\"color\":\"#2a3f5f\"},\"error_y\":{\"color\":\"#2a3f5f\"},\"marker\":{\"line\":{\"color\":\"#E5ECF6\",\"width\":0.5},\"pattern\":{\"fillmode\":\"overlay\",\"size\":10,\"solidity\":0.2}},\"type\":\"bar\"}],\"scattergeo\":[{\"type\":\"scattergeo\",\"marker\":{\"colorbar\":{\"outlinewidth\":0,\"ticks\":\"\"}}}],\"scatterpolar\":[{\"type\":\"scatterpolar\",\"marker\":{\"colorbar\":{\"outlinewidth\":0,\"ticks\":\"\"}}}],\"histogram\":[{\"marker\":{\"pattern\":{\"fillmode\":\"overlay\",\"size\":10,\"solidity\":0.2}},\"type\":\"histogram\"}],\"scattergl\":[{\"type\":\"scattergl\",\"marker\":{\"colorbar\":{\"outlinewidth\":0,\"ticks\":\"\"}}}],\"scatter3d\":[{\"type\":\"scatter3d\",\"line\":{\"colorbar\":{\"outlinewidth\":0,\"ticks\":\"\"}},\"marker\":{\"colorbar\":{\"outlinewidth\":0,\"ticks\":\"\"}}}],\"scattermapbox\":[{\"type\":\"scattermapbox\",\"marker\":{\"colorbar\":{\"outlinewidth\":0,\"ticks\":\"\"}}}],\"scatterternary\":[{\"type\":\"scatterternary\",\"marker\":{\"colorbar\":{\"outlinewidth\":0,\"ticks\":\"\"}}}],\"scattercarpet\":[{\"type\":\"scattercarpet\",\"marker\":{\"colorbar\":{\"outlinewidth\":0,\"ticks\":\"\"}}}],\"carpet\":[{\"aaxis\":{\"endlinecolor\":\"#2a3f5f\",\"gridcolor\":\"white\",\"linecolor\":\"white\",\"minorgridcolor\":\"white\",\"startlinecolor\":\"#2a3f5f\"},\"baxis\":{\"endlinecolor\":\"#2a3f5f\",\"gridcolor\":\"white\",\"linecolor\":\"white\",\"minorgridcolor\":\"white\",\"startlinecolor\":\"#2a3f5f\"},\"type\":\"carpet\"}],\"table\":[{\"cells\":{\"fill\":{\"color\":\"#EBF0F8\"},\"line\":{\"color\":\"white\"}},\"header\":{\"fill\":{\"color\":\"#C8D4E3\"},\"line\":{\"color\":\"white\"}},\"type\":\"table\"}],\"barpolar\":[{\"marker\":{\"line\":{\"color\":\"#E5ECF6\",\"width\":0.5},\"pattern\":{\"fillmode\":\"overlay\",\"size\":10,\"solidity\":0.2}},\"type\":\"barpolar\"}],\"pie\":[{\"automargin\":true,\"type\":\"pie\"}]},\"layout\":{\"autotypenumbers\":\"strict\",\"colorway\":[\"rgb(102,194,165)\",\"rgb(252,141,98)\",\"rgb(141,160,203)\",\"rgb(231,138,195)\",\"rgb(166,216,84)\",\"rgb(255,217,47)\",\"rgb(229,196,148)\",\"rgb(179,179,179)\"],\"font\":{\"color\":\"#2a3f5f\"},\"hovermode\":\"closest\",\"hoverlabel\":{\"align\":\"left\"},\"paper_bgcolor\":\"white\",\"plot_bgcolor\":\"#E5ECF6\",\"polar\":{\"bgcolor\":\"#E5ECF6\",\"angularaxis\":{\"gridcolor\":\"white\",\"linecolor\":\"white\",\"ticks\":\"\"},\"radialaxis\":{\"gridcolor\":\"white\",\"linecolor\":\"white\",\"ticks\":\"\"}},\"ternary\":{\"bgcolor\":\"#E5ECF6\",\"aaxis\":{\"gridcolor\":\"white\",\"linecolor\":\"white\",\"ticks\":\"\"},\"baxis\":{\"gridcolor\":\"white\",\"linecolor\":\"white\",\"ticks\":\"\"},\"caxis\":{\"gridcolor\":\"white\",\"linecolor\":\"white\",\"ticks\":\"\"}},\"coloraxis\":{\"colorbar\":{\"outlinewidth\":0,\"ticks\":\"\"}},\"colorscale\":{\"sequential\":[[0.0,\"#0d0887\"],[0.1111111111111111,\"#46039f\"],[0.2222222222222222,\"#7201a8\"],[0.3333333333333333,\"#9c179e\"],[0.4444444444444444,\"#bd3786\"],[0.5555555555555556,\"#d8576b\"],[0.6666666666666666,\"#ed7953\"],[0.7777777777777778,\"#fb9f3a\"],[0.8888888888888888,\"#fdca26\"],[1.0,\"#f0f921\"]],\"sequentialminus\":[[0.0,\"#0d0887\"],[0.1111111111111111,\"#46039f\"],[0.2222222222222222,\"#7201a8\"],[0.3333333333333333,\"#9c179e\"],[0.4444444444444444,\"#bd3786\"],[0.5555555555555556,\"#d8576b\"],[0.6666666666666666,\"#ed7953\"],[0.7777777777777778,\"#fb9f3a\"],[0.8888888888888888,\"#fdca26\"],[1.0,\"#f0f921\"]],\"diverging\":[[0,\"#8e0152\"],[0.1,\"#c51b7d\"],[0.2,\"#de77ae\"],[0.3,\"#f1b6da\"],[0.4,\"#fde0ef\"],[0.5,\"#f7f7f7\"],[0.6,\"#e6f5d0\"],[0.7,\"#b8e186\"],[0.8,\"#7fbc41\"],[0.9,\"#4d9221\"],[1,\"#276419\"]]},\"xaxis\":{\"gridcolor\":\"white\",\"linecolor\":\"white\",\"ticks\":\"\",\"title\":{\"standoff\":15},\"zerolinecolor\":\"white\",\"automargin\":true,\"zerolinewidth\":2},\"yaxis\":{\"gridcolor\":\"white\",\"linecolor\":\"white\",\"ticks\":\"\",\"title\":{\"standoff\":15},\"zerolinecolor\":\"white\",\"automargin\":true,\"zerolinewidth\":2},\"scene\":{\"xaxis\":{\"backgroundcolor\":\"#E5ECF6\",\"gridcolor\":\"white\",\"linecolor\":\"white\",\"showbackground\":true,\"ticks\":\"\",\"zerolinecolor\":\"white\",\"gridwidth\":2},\"yaxis\":{\"backgroundcolor\":\"#E5ECF6\",\"gridcolor\":\"white\",\"linecolor\":\"white\",\"showbackground\":true,\"ticks\":\"\",\"zerolinecolor\":\"white\",\"gridwidth\":2},\"zaxis\":{\"backgroundcolor\":\"#E5ECF6\",\"gridcolor\":\"white\",\"linecolor\":\"white\",\"showbackground\":true,\"ticks\":\"\",\"zerolinecolor\":\"white\",\"gridwidth\":2}},\"shapedefaults\":{\"line\":{\"color\":\"#2a3f5f\"}},\"annotationdefaults\":{\"arrowcolor\":\"#2a3f5f\",\"arrowhead\":0,\"arrowwidth\":1},\"geo\":{\"bgcolor\":\"white\",\"landcolor\":\"#E5ECF6\",\"subunitcolor\":\"white\",\"showland\":true,\"showlakes\":true,\"lakecolor\":\"white\"},\"title\":{\"x\":0.05},\"mapbox\":{\"style\":\"light\"}}},\"xaxis\":{\"anchor\":\"y\",\"domain\":[0.0,1.0],\"title\":{\"text\":\"Reviews\"}},\"yaxis\":{\"anchor\":\"x\",\"domain\":[0.0,1.0]},\"legend\":{\"title\":{\"text\":\"Genre\"},\"tracegroupgap\":0},\"margin\":{\"t\":60},\"violinmode\":\"group\",\"title\":{\"text\":\"Reviews violin plot by Genre\"}},                        {\"responsive\": true}                    ).then(function(){\n",
       "                            \n",
       "var gd = document.getElementById('7bd4e1c8-15f4-4334-bc2b-d633d015caac');\n",
       "var x = new MutationObserver(function (mutations, observer) {{\n",
       "        var display = window.getComputedStyle(gd).display;\n",
       "        if (!display || display === 'none') {{\n",
       "            console.log([gd, 'removed!']);\n",
       "            Plotly.purge(gd);\n",
       "            observer.disconnect();\n",
       "        }}\n",
       "}});\n",
       "\n",
       "// Listen for the removal of the full notebook cells\n",
       "var notebookContainer = gd.closest('#notebook-container');\n",
       "if (notebookContainer) {{\n",
       "    x.observe(notebookContainer, {childList: true});\n",
       "}}\n",
       "\n",
       "// Listen for the clearing of the current output cell\n",
       "var outputEl = gd.closest('.output');\n",
       "if (outputEl) {{\n",
       "    x.observe(outputEl, {childList: true});\n",
       "}}\n",
       "\n",
       "                        })                };                });            </script>        </div>"
      ]
     },
     "metadata": {},
     "output_type": "display_data"
    }
   ],
   "source": [
    "fig = px.violin(\n",
    "    bestsellers,\n",
    "    x=\"Reviews\",\n",
    "    color=\"Genre\",\n",
    "    box=True,\n",
    "    points=\"outliers\",\n",
    ")\n",
    "\n",
    "fig.update_layout(\n",
    "    title_text=\"Reviews violin plot by Genre\",\n",
    ")\n",
    "\n",
    "fig.show()"
   ]
  },
  {
   "cell_type": "markdown",
   "metadata": {},
   "source": [
    "Parece que existen difencias. ¿Pero son estadisticamente significativas? Vamos a comprobarlo con un test de hipótesis."
   ]
  },
  {
   "cell_type": "markdown",
   "metadata": {},
   "source": [
    "#### 1. Seleccionamos la hipotesis y el nivel de significancia\n",
    "\n",
    "H0: El número de 'Reviews' medio de los libros de ficción es igual que el de los libros de no ficción\n",
    "\n",
    "Ha: El número de 'Reviews' medio de los libros de ficción es diferente que el de los libros de no ficción\n",
    "\n",
    "alpha = 0.05\n",
    "\n",
    "#### 2. Identificamos el tipo de test\n",
    "\n",
    "Deseamos comparar las medias de dos grupos de nuestra *sample*. Por lo tanto, un **2-Sample t-Test** parece ser adecuado. Lo primero es verificar si se cumplen los requisitos del test.\n",
    "\n",
    "##### 2.1 Requisitos del test\n",
    "\n",
    "- Tenemos una *sample* representativa de la *population*.\n",
    "- Los datos son continuos.\n",
    "- Las muestras siguen una distribución normal o hay más de 15 observaciones.\n",
    "- Los grupos son independientes.\n",
    "- Las varianzas son iguales (o al menos similares).\n",
    "\n",
    "Examinemos nuestra *sample* para ver si podemos aplicar el test."
   ]
  },
  {
   "cell_type": "markdown",
   "metadata": {},
   "source": [
    "::: {.callout-note title=\"Libro de refencia\" collapse=\"true\"}\n",
    "Book: Hypothesis Testing An Intuitive Guide For Making Data Driven Decisions\n",
    "\n",
    "Page: 48\n",
    "\n",
    "Section: 2-Sample t-Tests\n",
    ":::"
   ]
  },
  {
   "cell_type": "markdown",
   "metadata": {},
   "source": [
    "Número de observaciones para cada grupo:"
   ]
  },
  {
   "cell_type": "code",
   "execution_count": 24,
   "metadata": {},
   "outputs": [
    {
     "data": {
      "text/plain": [
       "Genre\n",
       "Non Fiction    191\n",
       "Fiction        160\n",
       "Name: count, dtype: int64"
      ]
     },
     "execution_count": 24,
     "metadata": {},
     "output_type": "execute_result"
    }
   ],
   "source": [
    "bestsellers[\"Genre\"].value_counts()"
   ]
  },
  {
   "cell_type": "markdown",
   "metadata": {},
   "source": [
    "Realizamos un test de normalidad para cada grupo:"
   ]
  },
  {
   "cell_type": "code",
   "execution_count": 25,
   "metadata": {},
   "outputs": [
    {
     "name": "stdout",
     "output_type": "stream",
     "text": [
      "Para bestsellers de ficción: We reject the null hypothesis. The data does not follow a normal distribution.\n",
      "Para bestsellers de no ficción: We reject the null hypothesis. The data does not follow a normal distribution.\n"
     ]
    }
   ],
   "source": [
    "result_fiction = shapiro_test(fiction_bestsellers[\"Reviews\"])\n",
    "result_nonfiction = shapiro_test(nonfiction_bestsellers[\"Reviews\"])\n",
    "\n",
    "print(\"Para bestsellers de ficción:\", result_fiction)\n",
    "print(\"Para bestsellers de no ficción:\", result_nonfiction)"
   ]
  },
  {
   "cell_type": "markdown",
   "metadata": {},
   "source": [
    "Estudiemos la relación entre las varianzas de cada grupo."
   ]
  },
  {
   "cell_type": "code",
   "execution_count": 26,
   "metadata": {},
   "outputs": [
    {
     "name": "stdout",
     "output_type": "stream",
     "text": [
      "We reject the null hypothesis. The variances are not similar.\n"
     ]
    }
   ],
   "source": [
    "# Perform the Levene's Test\n",
    "statistic, p_value = stats.levene(\n",
    "    fiction_bestsellers[\"User Rating\"], nonfiction_bestsellers[\"User Rating\"]\n",
    ")\n",
    "\n",
    "# Significance level\n",
    "alpha = 0.05\n",
    "\n",
    "# Check for significance\n",
    "if p_value < alpha:\n",
    "    print(\"We reject the null hypothesis. The variances are not similar.\")\n",
    "else:\n",
    "    print(\"We fail to reject the null hypothesis. The variances are similar.\")"
   ]
  },
  {
   "cell_type": "markdown",
   "metadata": {},
   "source": [
    "Volvamos sobre los requisitos del test:\n",
    "\n",
    "- ¿Tenemos una *sample* representativa de la *population*? Suponemos que sí.\n",
    "- ¿Los datos son continuos? Sí.\n",
    "- ¿Las muestras siguen una distribución normal o hay más de 15 observaciones?\n",
    "  - No, las muestras no siguen una distribución normal. Pero hay más de 15 observaciones en cada grupo, gracias al teorema central del límite podemos renunciar al supuesto de normalidad.\n",
    "- ¿Los grupos son independientes? Sí.\n",
    "- ¿Las varianzas son iguales (o al menos similares)?\n",
    "  - No, las varianzas no son similares.\n",
    "\n",
    "Las varianzas no son similares. Vamos a realizar un test tipo **Welch's t-test**.\n",
    "\n",
    "Para realizar el test utilizaremos [scipy.stats.ttest_ind](https://docs.scipy.org/doc/scipy/reference/generated/scipy.stats.ttest_ind.html).\n",
    "Es necesario definir el parámetro *equal_varbool* como *False*."
   ]
  },
  {
   "cell_type": "code",
   "execution_count": 27,
   "metadata": {},
   "outputs": [
    {
     "name": "stdout",
     "output_type": "stream",
     "text": [
      "p-value: 4.3970747273288255e-07\n",
      "We reject the null hypothesis: There are significant differences between the groups.\n"
     ]
    }
   ],
   "source": [
    "# Perform the Welch's t-test (equal_var=False)\n",
    "statistic, p_value = stats.ttest_ind(\n",
    "    nonfiction_bestsellers[\"Reviews\"], fiction_bestsellers[\"Reviews\"], equal_var=False\n",
    ")\n",
    "\n",
    "# Print the results\n",
    "print(\"p-value:\", p_value)\n",
    "\n",
    "# Check for significance\n",
    "alpha = 0.05  # Significance level\n",
    "if p_value < alpha:\n",
    "    print(\n",
    "        \"We reject the null hypothesis: There are significant differences between the groups.\"\n",
    "    )\n",
    "else:\n",
    "    print(\n",
    "        \"We cannot reject the null hypothesis: There are no significant differences between the groups.\"\n",
    "    )"
   ]
  },
  {
   "cell_type": "markdown",
   "metadata": {},
   "source": [
    "#### Ideas destacadas\n",
    "\n",
    "Podemos afirmar que hay diferencias significativas en términos de número de \"Reviews\" entre los libros de ficción y los de no ficción.\n",
    "Los libros del género de ficción obtienen, en media, más Reviews que los libros de no ficción."
   ]
  },
  {
   "cell_type": "markdown",
   "metadata": {},
   "source": [
    "### 4.3 ¿Los géneros difieren en términos de \"Price\"?"
   ]
  },
  {
   "cell_type": "markdown",
   "metadata": {},
   "source": [
    "Primero hagamos una exploración visual."
   ]
  },
  {
   "cell_type": "code",
   "execution_count": 28,
   "metadata": {},
   "outputs": [
    {
     "data": {
      "text/html": [
       "<div>                            <div id=\"6a9cf55c-5207-4cfd-b082-450d01bd46e2\" class=\"plotly-graph-div\" style=\"height:525px; width:100%;\"></div>            <script type=\"text/javascript\">                require([\"plotly\"], function(Plotly) {                    window.PLOTLYENV=window.PLOTLYENV || {};                                    if (document.getElementById(\"6a9cf55c-5207-4cfd-b082-450d01bd46e2\")) {                    Plotly.newPlot(                        \"6a9cf55c-5207-4cfd-b082-450d01bd46e2\",                        [{\"alignmentgroup\":\"True\",\"box\":{\"visible\":true},\"hovertemplate\":\"Genre=Non Fiction\\u003cbr\\u003ePrice=%{x}\\u003cextra\\u003e\\u003c\\u002fextra\\u003e\",\"legendgroup\":\"Non Fiction\",\"marker\":{\"color\":\"rgb(102,194,165)\"},\"name\":\"Non Fiction\",\"offsetgroup\":\"Non Fiction\",\"orientation\":\"h\",\"points\":\"outliers\",\"scalegroup\":\"True\",\"showlegend\":true,\"x\":[8,15,12,3,2,32,17,4,6,6,8,13,9,5,9,14,5,11,24,21,11,15,13,18,8,4,18,28,16,14,4,5,10,13,17,15,105,5,6,5,16,1,14,9,15,9,2,6,4,9,9,20,16,12,12,11,6,6,14,10,7,54,11,9,4,10,14,22,11,16,15,17,17,7,21,13,12,8,17,12,25,10,6,5,6,8,4,4,13,21,6,15,18,13,16,20,11,27,8,6,10,16,11,9,14,22,13,9,20,5,10,46,7,9,20,6,9,11,16,6,17,20,17,18,13,20,22,21,28,8,12,16,9,17,14,12,53,12,21,6,0,11,15,6,9,6,9,7,9,13,11,13,5,12,40,36,17,14,21,18,17,21,14,15,9,9,10,10,16,16,15,19,23,11,23,12,21,15,16,11,4,9,18,17,9,6,14,12,18,11,8],\"x0\":\" \",\"xaxis\":\"x\",\"y0\":\" \",\"yaxis\":\"y\",\"type\":\"violin\"},{\"alignmentgroup\":\"True\",\"box\":{\"visible\":true},\"hovertemplate\":\"Genre=Fiction\\u003cbr\\u003ePrice=%{x}\\u003cextra\\u003e\\u003c\\u002fextra\\u003e\",\"legendgroup\":\"Fiction\",\"marker\":{\"color\":\"rgb(252,141,98)\"},\"name\":\"Fiction\",\"offsetgroup\":\"Fiction\",\"orientation\":\"h\",\"points\":\"outliers\",\"scalegroup\":\"True\",\"showlegend\":true,\"x\":[22,6,11,30,15,8,5,14,13,13,13,5,0,11,8,11,4,8,4,5,0,15,22,15,6,13,12,6,8,4,8,8,6,20,7,18,8,15,7,11,14,32,0,5,4,19,9,9,5,7,14,30,12,18,30,22,52,7,4,9,14,20,0,12,13,10,0,12,7,5,8,10,8,7,12,13,11,2,27,9,4,12,12,12,10,25,6,18,39,10,11,6,8,12,13,9,11,13,0,7,14,9,16,2,5,20,7,14,10,7,13,11,7,14,14,8,30,7,20,18,14,19,10,9,8,8,11,16,5,18,18,12,12,8,0,14,10,7,10,6,82,12,5,10,4,9,7,21,9,5,20,42,12,14,13,15,13,15,9,8],\"x0\":\" \",\"xaxis\":\"x\",\"y0\":\" \",\"yaxis\":\"y\",\"type\":\"violin\"}],                        {\"template\":{\"data\":{\"histogram2dcontour\":[{\"type\":\"histogram2dcontour\",\"colorbar\":{\"outlinewidth\":0,\"ticks\":\"\"},\"colorscale\":[[0.0,\"#0d0887\"],[0.1111111111111111,\"#46039f\"],[0.2222222222222222,\"#7201a8\"],[0.3333333333333333,\"#9c179e\"],[0.4444444444444444,\"#bd3786\"],[0.5555555555555556,\"#d8576b\"],[0.6666666666666666,\"#ed7953\"],[0.7777777777777778,\"#fb9f3a\"],[0.8888888888888888,\"#fdca26\"],[1.0,\"#f0f921\"]]}],\"choropleth\":[{\"type\":\"choropleth\",\"colorbar\":{\"outlinewidth\":0,\"ticks\":\"\"}}],\"histogram2d\":[{\"type\":\"histogram2d\",\"colorbar\":{\"outlinewidth\":0,\"ticks\":\"\"},\"colorscale\":[[0.0,\"#0d0887\"],[0.1111111111111111,\"#46039f\"],[0.2222222222222222,\"#7201a8\"],[0.3333333333333333,\"#9c179e\"],[0.4444444444444444,\"#bd3786\"],[0.5555555555555556,\"#d8576b\"],[0.6666666666666666,\"#ed7953\"],[0.7777777777777778,\"#fb9f3a\"],[0.8888888888888888,\"#fdca26\"],[1.0,\"#f0f921\"]]}],\"heatmap\":[{\"type\":\"heatmap\",\"colorbar\":{\"outlinewidth\":0,\"ticks\":\"\"},\"colorscale\":[[0.0,\"#0d0887\"],[0.1111111111111111,\"#46039f\"],[0.2222222222222222,\"#7201a8\"],[0.3333333333333333,\"#9c179e\"],[0.4444444444444444,\"#bd3786\"],[0.5555555555555556,\"#d8576b\"],[0.6666666666666666,\"#ed7953\"],[0.7777777777777778,\"#fb9f3a\"],[0.8888888888888888,\"#fdca26\"],[1.0,\"#f0f921\"]]}],\"heatmapgl\":[{\"type\":\"heatmapgl\",\"colorbar\":{\"outlinewidth\":0,\"ticks\":\"\"},\"colorscale\":[[0.0,\"#0d0887\"],[0.1111111111111111,\"#46039f\"],[0.2222222222222222,\"#7201a8\"],[0.3333333333333333,\"#9c179e\"],[0.4444444444444444,\"#bd3786\"],[0.5555555555555556,\"#d8576b\"],[0.6666666666666666,\"#ed7953\"],[0.7777777777777778,\"#fb9f3a\"],[0.8888888888888888,\"#fdca26\"],[1.0,\"#f0f921\"]]}],\"contourcarpet\":[{\"type\":\"contourcarpet\",\"colorbar\":{\"outlinewidth\":0,\"ticks\":\"\"}}],\"contour\":[{\"type\":\"contour\",\"colorbar\":{\"outlinewidth\":0,\"ticks\":\"\"},\"colorscale\":[[0.0,\"#0d0887\"],[0.1111111111111111,\"#46039f\"],[0.2222222222222222,\"#7201a8\"],[0.3333333333333333,\"#9c179e\"],[0.4444444444444444,\"#bd3786\"],[0.5555555555555556,\"#d8576b\"],[0.6666666666666666,\"#ed7953\"],[0.7777777777777778,\"#fb9f3a\"],[0.8888888888888888,\"#fdca26\"],[1.0,\"#f0f921\"]]}],\"surface\":[{\"type\":\"surface\",\"colorbar\":{\"outlinewidth\":0,\"ticks\":\"\"},\"colorscale\":[[0.0,\"#0d0887\"],[0.1111111111111111,\"#46039f\"],[0.2222222222222222,\"#7201a8\"],[0.3333333333333333,\"#9c179e\"],[0.4444444444444444,\"#bd3786\"],[0.5555555555555556,\"#d8576b\"],[0.6666666666666666,\"#ed7953\"],[0.7777777777777778,\"#fb9f3a\"],[0.8888888888888888,\"#fdca26\"],[1.0,\"#f0f921\"]]}],\"mesh3d\":[{\"type\":\"mesh3d\",\"colorbar\":{\"outlinewidth\":0,\"ticks\":\"\"}}],\"scatter\":[{\"fillpattern\":{\"fillmode\":\"overlay\",\"size\":10,\"solidity\":0.2},\"type\":\"scatter\"}],\"parcoords\":[{\"type\":\"parcoords\",\"line\":{\"colorbar\":{\"outlinewidth\":0,\"ticks\":\"\"}}}],\"scatterpolargl\":[{\"type\":\"scatterpolargl\",\"marker\":{\"colorbar\":{\"outlinewidth\":0,\"ticks\":\"\"}}}],\"bar\":[{\"error_x\":{\"color\":\"#2a3f5f\"},\"error_y\":{\"color\":\"#2a3f5f\"},\"marker\":{\"line\":{\"color\":\"#E5ECF6\",\"width\":0.5},\"pattern\":{\"fillmode\":\"overlay\",\"size\":10,\"solidity\":0.2}},\"type\":\"bar\"}],\"scattergeo\":[{\"type\":\"scattergeo\",\"marker\":{\"colorbar\":{\"outlinewidth\":0,\"ticks\":\"\"}}}],\"scatterpolar\":[{\"type\":\"scatterpolar\",\"marker\":{\"colorbar\":{\"outlinewidth\":0,\"ticks\":\"\"}}}],\"histogram\":[{\"marker\":{\"pattern\":{\"fillmode\":\"overlay\",\"size\":10,\"solidity\":0.2}},\"type\":\"histogram\"}],\"scattergl\":[{\"type\":\"scattergl\",\"marker\":{\"colorbar\":{\"outlinewidth\":0,\"ticks\":\"\"}}}],\"scatter3d\":[{\"type\":\"scatter3d\",\"line\":{\"colorbar\":{\"outlinewidth\":0,\"ticks\":\"\"}},\"marker\":{\"colorbar\":{\"outlinewidth\":0,\"ticks\":\"\"}}}],\"scattermapbox\":[{\"type\":\"scattermapbox\",\"marker\":{\"colorbar\":{\"outlinewidth\":0,\"ticks\":\"\"}}}],\"scatterternary\":[{\"type\":\"scatterternary\",\"marker\":{\"colorbar\":{\"outlinewidth\":0,\"ticks\":\"\"}}}],\"scattercarpet\":[{\"type\":\"scattercarpet\",\"marker\":{\"colorbar\":{\"outlinewidth\":0,\"ticks\":\"\"}}}],\"carpet\":[{\"aaxis\":{\"endlinecolor\":\"#2a3f5f\",\"gridcolor\":\"white\",\"linecolor\":\"white\",\"minorgridcolor\":\"white\",\"startlinecolor\":\"#2a3f5f\"},\"baxis\":{\"endlinecolor\":\"#2a3f5f\",\"gridcolor\":\"white\",\"linecolor\":\"white\",\"minorgridcolor\":\"white\",\"startlinecolor\":\"#2a3f5f\"},\"type\":\"carpet\"}],\"table\":[{\"cells\":{\"fill\":{\"color\":\"#EBF0F8\"},\"line\":{\"color\":\"white\"}},\"header\":{\"fill\":{\"color\":\"#C8D4E3\"},\"line\":{\"color\":\"white\"}},\"type\":\"table\"}],\"barpolar\":[{\"marker\":{\"line\":{\"color\":\"#E5ECF6\",\"width\":0.5},\"pattern\":{\"fillmode\":\"overlay\",\"size\":10,\"solidity\":0.2}},\"type\":\"barpolar\"}],\"pie\":[{\"automargin\":true,\"type\":\"pie\"}]},\"layout\":{\"autotypenumbers\":\"strict\",\"colorway\":[\"rgb(102,194,165)\",\"rgb(252,141,98)\",\"rgb(141,160,203)\",\"rgb(231,138,195)\",\"rgb(166,216,84)\",\"rgb(255,217,47)\",\"rgb(229,196,148)\",\"rgb(179,179,179)\"],\"font\":{\"color\":\"#2a3f5f\"},\"hovermode\":\"closest\",\"hoverlabel\":{\"align\":\"left\"},\"paper_bgcolor\":\"white\",\"plot_bgcolor\":\"#E5ECF6\",\"polar\":{\"bgcolor\":\"#E5ECF6\",\"angularaxis\":{\"gridcolor\":\"white\",\"linecolor\":\"white\",\"ticks\":\"\"},\"radialaxis\":{\"gridcolor\":\"white\",\"linecolor\":\"white\",\"ticks\":\"\"}},\"ternary\":{\"bgcolor\":\"#E5ECF6\",\"aaxis\":{\"gridcolor\":\"white\",\"linecolor\":\"white\",\"ticks\":\"\"},\"baxis\":{\"gridcolor\":\"white\",\"linecolor\":\"white\",\"ticks\":\"\"},\"caxis\":{\"gridcolor\":\"white\",\"linecolor\":\"white\",\"ticks\":\"\"}},\"coloraxis\":{\"colorbar\":{\"outlinewidth\":0,\"ticks\":\"\"}},\"colorscale\":{\"sequential\":[[0.0,\"#0d0887\"],[0.1111111111111111,\"#46039f\"],[0.2222222222222222,\"#7201a8\"],[0.3333333333333333,\"#9c179e\"],[0.4444444444444444,\"#bd3786\"],[0.5555555555555556,\"#d8576b\"],[0.6666666666666666,\"#ed7953\"],[0.7777777777777778,\"#fb9f3a\"],[0.8888888888888888,\"#fdca26\"],[1.0,\"#f0f921\"]],\"sequentialminus\":[[0.0,\"#0d0887\"],[0.1111111111111111,\"#46039f\"],[0.2222222222222222,\"#7201a8\"],[0.3333333333333333,\"#9c179e\"],[0.4444444444444444,\"#bd3786\"],[0.5555555555555556,\"#d8576b\"],[0.6666666666666666,\"#ed7953\"],[0.7777777777777778,\"#fb9f3a\"],[0.8888888888888888,\"#fdca26\"],[1.0,\"#f0f921\"]],\"diverging\":[[0,\"#8e0152\"],[0.1,\"#c51b7d\"],[0.2,\"#de77ae\"],[0.3,\"#f1b6da\"],[0.4,\"#fde0ef\"],[0.5,\"#f7f7f7\"],[0.6,\"#e6f5d0\"],[0.7,\"#b8e186\"],[0.8,\"#7fbc41\"],[0.9,\"#4d9221\"],[1,\"#276419\"]]},\"xaxis\":{\"gridcolor\":\"white\",\"linecolor\":\"white\",\"ticks\":\"\",\"title\":{\"standoff\":15},\"zerolinecolor\":\"white\",\"automargin\":true,\"zerolinewidth\":2},\"yaxis\":{\"gridcolor\":\"white\",\"linecolor\":\"white\",\"ticks\":\"\",\"title\":{\"standoff\":15},\"zerolinecolor\":\"white\",\"automargin\":true,\"zerolinewidth\":2},\"scene\":{\"xaxis\":{\"backgroundcolor\":\"#E5ECF6\",\"gridcolor\":\"white\",\"linecolor\":\"white\",\"showbackground\":true,\"ticks\":\"\",\"zerolinecolor\":\"white\",\"gridwidth\":2},\"yaxis\":{\"backgroundcolor\":\"#E5ECF6\",\"gridcolor\":\"white\",\"linecolor\":\"white\",\"showbackground\":true,\"ticks\":\"\",\"zerolinecolor\":\"white\",\"gridwidth\":2},\"zaxis\":{\"backgroundcolor\":\"#E5ECF6\",\"gridcolor\":\"white\",\"linecolor\":\"white\",\"showbackground\":true,\"ticks\":\"\",\"zerolinecolor\":\"white\",\"gridwidth\":2}},\"shapedefaults\":{\"line\":{\"color\":\"#2a3f5f\"}},\"annotationdefaults\":{\"arrowcolor\":\"#2a3f5f\",\"arrowhead\":0,\"arrowwidth\":1},\"geo\":{\"bgcolor\":\"white\",\"landcolor\":\"#E5ECF6\",\"subunitcolor\":\"white\",\"showland\":true,\"showlakes\":true,\"lakecolor\":\"white\"},\"title\":{\"x\":0.05},\"mapbox\":{\"style\":\"light\"}}},\"xaxis\":{\"anchor\":\"y\",\"domain\":[0.0,1.0],\"title\":{\"text\":\"Price\"}},\"yaxis\":{\"anchor\":\"x\",\"domain\":[0.0,1.0]},\"legend\":{\"title\":{\"text\":\"Genre\"},\"tracegroupgap\":0},\"margin\":{\"t\":60},\"violinmode\":\"group\",\"title\":{\"text\":\"Price violin plot by Genre\"}},                        {\"responsive\": true}                    ).then(function(){\n",
       "                            \n",
       "var gd = document.getElementById('6a9cf55c-5207-4cfd-b082-450d01bd46e2');\n",
       "var x = new MutationObserver(function (mutations, observer) {{\n",
       "        var display = window.getComputedStyle(gd).display;\n",
       "        if (!display || display === 'none') {{\n",
       "            console.log([gd, 'removed!']);\n",
       "            Plotly.purge(gd);\n",
       "            observer.disconnect();\n",
       "        }}\n",
       "}});\n",
       "\n",
       "// Listen for the removal of the full notebook cells\n",
       "var notebookContainer = gd.closest('#notebook-container');\n",
       "if (notebookContainer) {{\n",
       "    x.observe(notebookContainer, {childList: true});\n",
       "}}\n",
       "\n",
       "// Listen for the clearing of the current output cell\n",
       "var outputEl = gd.closest('.output');\n",
       "if (outputEl) {{\n",
       "    x.observe(outputEl, {childList: true});\n",
       "}}\n",
       "\n",
       "                        })                };                });            </script>        </div>"
      ]
     },
     "metadata": {},
     "output_type": "display_data"
    }
   ],
   "source": [
    "fig = px.violin(\n",
    "    bestsellers,\n",
    "    x=\"Price\",\n",
    "    color=\"Genre\",\n",
    "    box=True,\n",
    "    points=\"outliers\",\n",
    ")\n",
    "\n",
    "fig.update_layout(\n",
    "    title_text=\"Price violin plot by Genre\",\n",
    ")\n",
    "\n",
    "fig.show()"
   ]
  },
  {
   "cell_type": "markdown",
   "metadata": {},
   "source": [
    "En esta ocasión \"Price\" podría no variar en función del género. ¿Pero es estadísticamente significativo? Vamos a comprobarlo con un test de hipótesis."
   ]
  },
  {
   "cell_type": "markdown",
   "metadata": {},
   "source": [
    "#### 1. Seleccionamos la hipotesis y el nivel de significancia\n",
    "\n",
    "H0: El precio medio de los libros de ficción es igual que el de los libros de no ficción\n",
    "\n",
    "Ha: El precio medio de los libros de ficción es diferente que el de los libros de no ficción\n",
    "\n",
    "alpha = 0.05\n",
    "\n",
    "#### 2. Identificamos el tipo de test\n",
    "\n",
    "Deseamos comparar las medias de dos grupos de nuestra *sample*. Por lo tanto, un **2-Sample t-Test** parece ser adecuado. Lo primero es verificar si se cumplen los requisitos del test.\n",
    "\n",
    "##### 2.1 Requisitos del test\n",
    "\n",
    "- Tenemos una *sample* representativa de la *population*.\n",
    "- Los datos son continuos.\n",
    "- Las muestras siguen una distribución normal o hay más de 15 observaciones.\n",
    "- Los grupos son independientes.\n",
    "- Las varianzas son iguales (o al menos similares).\n",
    "\n",
    "Examinemos nuestra *sample* para ver si podemos aplicar el test."
   ]
  },
  {
   "cell_type": "markdown",
   "metadata": {},
   "source": [
    "::: {.callout-note title=\"Libro de refencia\" collapse=\"true\"}\n",
    "Book: Hypothesis Testing An Intuitive Guide For Making Data Driven Decisions\n",
    "\n",
    "Page: 48\n",
    "\n",
    "Section: 2-Sample t-Tests\n",
    ":::"
   ]
  },
  {
   "cell_type": "markdown",
   "metadata": {},
   "source": [
    "Realizamos un test de normalidad para cada grupo:"
   ]
  },
  {
   "cell_type": "code",
   "execution_count": 29,
   "metadata": {},
   "outputs": [
    {
     "name": "stdout",
     "output_type": "stream",
     "text": [
      "Para bestsellers de ficción: We reject the null hypothesis. The data does not follow a normal distribution.\n",
      "Para bestsellers de no ficción: We reject the null hypothesis. The data does not follow a normal distribution.\n"
     ]
    }
   ],
   "source": [
    "result_fiction = shapiro_test(fiction_bestsellers[\"Price\"])\n",
    "result_nonfiction = shapiro_test(nonfiction_bestsellers[\"Price\"])\n",
    "\n",
    "print(\"Para bestsellers de ficción:\", result_fiction)\n",
    "print(\"Para bestsellers de no ficción:\", result_nonfiction)"
   ]
  },
  {
   "cell_type": "markdown",
   "metadata": {},
   "source": [
    "Estudiemos la relación entre las varianzas de cada grupo."
   ]
  },
  {
   "cell_type": "code",
   "execution_count": 30,
   "metadata": {},
   "outputs": [
    {
     "name": "stdout",
     "output_type": "stream",
     "text": [
      "We fail to reject the null hypothesis. The variances are similar.\n"
     ]
    }
   ],
   "source": [
    "# Perform the Levene's Test\n",
    "statistic, p_value = stats.levene(\n",
    "    fiction_bestsellers[\"Price\"], nonfiction_bestsellers[\"Price\"]\n",
    ")\n",
    "\n",
    "# Significance level\n",
    "alpha = 0.05\n",
    "\n",
    "# Check for significance\n",
    "if p_value < alpha:\n",
    "    print(\"We reject the null hypothesis. The variances are not similar.\")\n",
    "else:\n",
    "    print(\"We fail to reject the null hypothesis. The variances are similar.\")"
   ]
  },
  {
   "cell_type": "markdown",
   "metadata": {},
   "source": [
    "Volvamos sobre los requisitos del test:\n",
    "\n",
    "- ¿Tenemos una *sample* representativa de la *population*? Suponemos que sí.\n",
    "- ¿Los datos son continuos? Sí.\n",
    "- ¿Las muestras siguen una distribución normal o hay más de 15 observaciones?\n",
    "  - No, las muestras no siguen una distribución normal. Pero hay más de 15 observaciones en cada grupo, gracias al teorema central del límite podemos renunciar al supuesto de normalidad.\n",
    "- ¿Los grupos son independientes? Sí.\n",
    "- ¿Las varianzas son iguales (o al menos similares)? Sí.\n",
    "\n",
    "Se cumplen los requisitos para realizar un **2-Sample t-Test**.\n",
    "\n",
    "Para realizar el test vamos a usar [scipy.stats.ttest_ind](https://docs.scipy.org/doc/scipy/reference/generated/scipy.stats.ttest_ind.html)."
   ]
  },
  {
   "cell_type": "code",
   "execution_count": 31,
   "metadata": {},
   "outputs": [
    {
     "name": "stdout",
     "output_type": "stream",
     "text": [
      "p-value: 0.1398175523683507\n",
      "We cannot reject the null hypothesis: There are no significant differences between the groups.\n"
     ]
    }
   ],
   "source": [
    "# Perform the t-test\n",
    "statistic, p_value = stats.ttest_ind(\n",
    "    nonfiction_bestsellers[\"Price\"], fiction_bestsellers[\"Price\"]\n",
    ")\n",
    "\n",
    "# Print the results\n",
    "print(\"p-value:\", p_value)\n",
    "\n",
    "# Check for significance\n",
    "alpha = 0.05  # Significance level\n",
    "if p_value < alpha:\n",
    "    print(\n",
    "        \"We reject the null hypothesis: There are significant differences between the groups.\"\n",
    "    )\n",
    "else:\n",
    "    print(\n",
    "        \"We cannot reject the null hypothesis: There are no significant differences between the groups.\"\n",
    "    )"
   ]
  },
  {
   "cell_type": "markdown",
   "metadata": {},
   "source": [
    "#### Ideas destacadas\n",
    "\n",
    "No encontramos diferencias en el precio en función del género del libro."
   ]
  },
  {
   "cell_type": "markdown",
   "metadata": {},
   "source": [
    "## 5. Recapitulación y reflexiones"
   ]
  },
  {
   "cell_type": "markdown",
   "metadata": {},
   "source": [
    "Durante la preparación de los datos:\n",
    "\n",
    "- Hemos realizado una limpieza en el dataset, reduciendo el número de muestras para el estudio de 549 a 331.\n",
    "- Hemos descubierto que *user rating* concentra sus muestras en 10 valores en lugar de los 50 esperados.\n",
    "\n",
    "Durante el estudio mediante test de hipótesis:\n",
    "\n",
    "- Hemos mostrado con significancia estadística que el género del libro influye tanto en el número de *reviews* como en el *user rating*.\n",
    "- Hemos mostrado con significancia estadística que el género del libro no influye en el precio del mismo."
   ]
  }
 ],
 "metadata": {
  "kernelspec": {
   "display_name": "data_road",
   "language": "python",
   "name": "python3"
  },
  "language_info": {
   "codemirror_mode": {
    "name": "ipython",
    "version": 3
   },
   "file_extension": ".py",
   "mimetype": "text/x-python",
   "name": "python",
   "nbconvert_exporter": "python",
   "pygments_lexer": "ipython3",
   "version": "3.11.4"
  }
 },
 "nbformat": 4,
 "nbformat_minor": 2
}
